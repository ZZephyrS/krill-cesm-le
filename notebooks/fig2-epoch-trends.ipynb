{
 "cells": [
  {
   "cell_type": "markdown",
   "metadata": {},
   "source": [
    "## Figure 2: explicit signal decomposition\n",
    "\n",
    "* take the two ensemble members from the postage stamp plot, one where natural variability is amplifying and one where it's dampening\n",
    "* make the two row three column plot showing the decomposition of the total trend in each of those ensemble members.\n",
    "\n",
    "##### Using the DJF prospective trends:\n",
    "* Plot internal var and forced trend the two ensembles \n",
    "* Plot a replicate of the total signal where you are doing: this total signal is equal to this natural variability component plus this forced trend component.\n",
    "\n"
   ]
  },
  {
   "cell_type": "code",
   "execution_count": null,
   "metadata": {},
   "outputs": [],
   "source": []
  }
 ],
 "metadata": {
  "kernelspec": {
   "display_name": "Python [conda env:miniconda3-krill-2]",
   "language": "python",
   "name": "conda-env-miniconda3-krill-2-py"
  },
  "language_info": {
   "codemirror_mode": {
    "name": "ipython",
    "version": 3
   },
   "file_extension": ".py",
   "mimetype": "text/x-python",
   "name": "python",
   "nbconvert_exporter": "python",
   "pygments_lexer": "ipython3",
   "version": "3.7.6"
  }
 },
 "nbformat": 4,
 "nbformat_minor": 4
}

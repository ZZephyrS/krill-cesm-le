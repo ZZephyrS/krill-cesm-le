{
 "cells": [
  {
   "cell_type": "code",
   "execution_count": null,
   "metadata": {},
   "outputs": [],
   "source": [
    "/glade/u/home/kristenk/besome/alk_calc_paper/Fig3_sPAlk_caco3_SOc.ipynb"
   ]
  },
  {
   "cell_type": "code",
   "execution_count": null,
   "metadata": {},
   "outputs": [],
   "source": [
    "/glade/u/home/zephyrs/projects/krill-cesm-le/notebooks/"
   ]
  },
  {
   "cell_type": "markdown",
   "metadata": {},
   "source": [
    "## Goals of notebook\n",
    "1. Create nice visualizations of the LE data\n",
    "2. Create figure template of a polar projection for:\n",
    "    a. Unperturbed\n",
    "    b. Perturbed\n",
    "    c. Difference"
   ]
  },
  {
   "cell_type": "markdown",
   "metadata": {},
   "source": [
    "how to accomplish that.... know what you want to plot, make a dataset of that data, import it and plot:\n",
    "ie the data wrangling should be done elsewhere\n",
    "\n",
    "Devi's Paper:  historical period (1960-1989) // “future” (2070-2099)\n"
   ]
  },
  {
   "cell_type": "code",
   "execution_count": 1,
   "metadata": {},
   "outputs": [
    {
     "name": "stderr",
     "output_type": "stream",
     "text": [
      "Cannot write to data cache '/glade/p/cesmdata/cseg'. Will not be able to download remote data files. Use environment variable 'CESMDATAROOT' to specify another directory.\n"
     ]
    }
   ],
   "source": [
    "# set up modules\n",
    "%matplotlib inline\n",
    "import os\n",
    "import shutil\n",
    "\n",
    "from glob import glob\n",
    "\n",
    "import cftime\n",
    "\n",
    "import numpy as np\n",
    "import xarray as xr\n",
    "\n",
    "import matplotlib.pyplot as plt\n",
    "\n",
    "import cartopy.crs as ccrs\n",
    "from cartopy.util import add_cyclic_point\n",
    "import cmocean\n",
    "\n",
    "import intake\n",
    "import pop_tools\n",
    "\n",
    "import util"
   ]
  },
  {
   "cell_type": "code",
   "execution_count": 2,
   "metadata": {},
   "outputs": [],
   "source": [
    "#load data\n",
    "ds_djf = xr.open_zarr('data/cesm-le-fields-djf-regional-timeseries.zarr')"
   ]
  },
  {
   "cell_type": "code",
   "execution_count": 7,
   "metadata": {},
   "outputs": [],
   "source": [
    "unperturbed =     ds_djf['KGP'].isel(time=slice(39, 69))    ### Clips date range to 1960-1989\n",
    "perturbed = ds_djf['KGP'].isel(time=slice(149, 179))    ### clips data range: 2070 - 2099\n",
    "difference = unperturbed - perturbed"
   ]
  },
  {
   "cell_type": "code",
   "execution_count": null,
   "metadata": {},
   "outputs": [],
   "source": [
    "#unperturbed =     ds_surf_plot[KGP].isel(time=slice(839, 1872))  # do you mean by the industrial revolution?\n",
    "#perturbed = ds_surf_plot[f'{nut}_obs']   ### clips data range: 1980 to end\n",
    "#difference = unperturbed - perturbed"
   ]
  },
  {
   "cell_type": "markdown",
   "metadata": {},
   "source": [
    "#### Set the contour levels."
   ]
  },
  {
   "cell_type": "code",
   "execution_count": 6,
   "metadata": {},
   "outputs": [
    {
     "data": {
      "text/html": [
       "<pre>&lt;xarray.Dataset&gt;\n",
       "Dimensions:    (length: 3, member_id: 34, region: 3, time: 180)\n",
       "Coordinates:\n",
       "  * length     (length) float64 20.0 40.0 60.0\n",
       "  * member_id  (member_id) int64 1 2 9 10 11 12 13 ... 34 35 101 102 103 104 105\n",
       "  * region     (region) &lt;U14 &#x27;Southern Ocean&#x27; &#x27;WAP &amp; Atlantic&#x27; &#x27;Indo-Pacific&#x27;\n",
       "  * time       (time) int64 1921 1922 1923 1924 1925 ... 2097 2098 2099 2100\n",
       "Data variables:\n",
       "    Chl_surf   (time, member_id, region) float64 dask.array&lt;chunksize=(180, 34, 3), meta=np.ndarray&gt;\n",
       "    IFRAC      (time, member_id, region) float64 dask.array&lt;chunksize=(180, 34, 3), meta=np.ndarray&gt;\n",
       "    KGP        (time, length, member_id, region) float64 dask.array&lt;chunksize=(90, 3, 34, 3), meta=np.ndarray&gt;\n",
       "    SST        (time, member_id, region) float64 dask.array&lt;chunksize=(180, 34, 3), meta=np.ndarray&gt;</pre>"
      ],
      "text/plain": [
       "<xarray.Dataset>\n",
       "Dimensions:    (length: 3, member_id: 34, region: 3, time: 180)\n",
       "Coordinates:\n",
       "  * length     (length) float64 20.0 40.0 60.0\n",
       "  * member_id  (member_id) int64 1 2 9 10 11 12 13 ... 34 35 101 102 103 104 105\n",
       "  * region     (region) <U14 'Southern Ocean' 'WAP & Atlantic' 'Indo-Pacific'\n",
       "  * time       (time) int64 1921 1922 1923 1924 1925 ... 2097 2098 2099 2100\n",
       "Data variables:\n",
       "    Chl_surf   (time, member_id, region) float64 dask.array<chunksize=(180, 34, 3), meta=np.ndarray>\n",
       "    IFRAC      (time, member_id, region) float64 dask.array<chunksize=(180, 34, 3), meta=np.ndarray>\n",
       "    KGP        (time, length, member_id, region) float64 dask.array<chunksize=(90, 3, 34, 3), meta=np.ndarray>\n",
       "    SST        (time, member_id, region) float64 dask.array<chunksize=(180, 34, 3), meta=np.ndarray>"
      ]
     },
     "execution_count": 6,
     "metadata": {},
     "output_type": "execute_result"
    }
   ],
   "source": []
  },
  {
   "cell_type": "markdown",
   "metadata": {},
   "source": [
    "#### Generate the figure\n",
    "create a three panel plot in the polar projection of LE output as Unperturbed/Perturbed/Difference"
   ]
  }
 ],
 "metadata": {
  "kernelspec": {
   "display_name": "Python [conda env:miniconda3-krill]",
   "language": "python",
   "name": "conda-env-miniconda3-krill-py"
  },
  "language_info": {
   "codemirror_mode": {
    "name": "ipython",
    "version": 3
   },
   "file_extension": ".py",
   "mimetype": "text/x-python",
   "name": "python",
   "nbconvert_exporter": "python",
   "pygments_lexer": "ipython3",
   "version": "3.7.6"
  }
 },
 "nbformat": 4,
 "nbformat_minor": 4
}

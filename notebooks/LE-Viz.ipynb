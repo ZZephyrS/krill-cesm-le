{
 "cells": [
  {
   "cell_type": "code",
   "execution_count": 1,
   "metadata": {},
   "outputs": [
    {
     "name": "stderr",
     "output_type": "stream",
     "text": [
      "Cannot write to data cache '/glade/p/cesmdata/cseg'. Will not be able to download remote data files. Use environment variable 'CESMDATAROOT' to specify another directory.\n"
     ]
    }
   ],
   "source": [
    "# set up modules\n",
    "%matplotlib inline\n",
    "import os\n",
    "import shutil\n",
    "\n",
    "from glob import glob\n",
    "\n",
    "import cftime\n",
    "\n",
    "import numpy as np\n",
    "import xarray as xr\n",
    "\n",
    "import matplotlib.pyplot as plt\n",
    "\n",
    "import cartopy.crs as ccrs\n",
    "from cartopy.util import add_cyclic_point\n",
    "import cmocean\n",
    "\n",
    "import intake\n",
    "import pop_tools\n",
    "\n",
    "import util"
   ]
  },
  {
   "cell_type": "code",
   "execution_count": 2,
   "metadata": {},
   "outputs": [
    {
     "name": "stdout",
     "output_type": "stream",
     "text": [
      "xarray.Dataset {\n",
      "dimensions:\n",
      "\tlength = 3 ;\n",
      "\tmember_id = 34 ;\n",
      "\tregion = 3 ;\n",
      "\ttime = 180 ;\n",
      "\n",
      "variables:\n",
      "\tfloat64 Chl_surf(time, member_id, region) ;\n",
      "\t\tChl_surf:cell_methods = time: mean ;\n",
      "\t\tChl_surf:grid_loc = 3114 ;\n",
      "\t\tChl_surf:long_name = Surface chlorophyll ;\n",
      "\t\tChl_surf:units = mg/m^3 ;\n",
      "\tfloat64 IFRAC(time, member_id, region) ;\n",
      "\t\tIFRAC:cell_methods = time: mean ;\n",
      "\t\tIFRAC:grid_loc = 2110 ;\n",
      "\t\tIFRAC:long_name = Ice Fraction from Coupler ;\n",
      "\t\tIFRAC:units = fraction ;\n",
      "\tfloat64 KGP(time, length, member_id, region) ;\n",
      "\t\tKGP:long_name = Daily growth rate ;\n",
      "\t\tKGP:units = mm d$^{-1}$ ;\n",
      "\tfloat64 SST(time, member_id, region) ;\n",
      "\t\tSST:cell_methods = time: mean ;\n",
      "\t\tSST:grid_loc = 3111 ;\n",
      "\t\tSST:long_name = Potential Temperature ;\n",
      "\t\tSST:units = degC ;\n",
      "\tfloat64 length(length) ;\n",
      "\t\tlength:long_name = Krill body length ;\n",
      "\t\tlength:units = mm ;\n",
      "\tint64 member_id(member_id) ;\n",
      "\t<U14 region(region) ;\n",
      "\tint64 time(time) ;\n",
      "\n",
      "// global attributes:\n",
      "}"
     ]
    }
   ],
   "source": [
    "ds = xr.open_zarr('data/cesm-le-fields-djf-regional-timeseries.zarr')\n",
    "\n",
    "ds.info()"
   ]
  },
  {
   "cell_type": "code",
   "execution_count": 3,
   "metadata": {},
   "outputs": [
    {
     "data": {
      "text/html": [
       "<pre>&lt;xarray.Dataset&gt;\n",
       "Dimensions:    (length: 3, member_id: 34, region: 3, time: 180)\n",
       "Coordinates:\n",
       "  * length     (length) float64 20.0 40.0 60.0\n",
       "  * member_id  (member_id) int64 1 2 9 10 11 12 13 ... 34 35 101 102 103 104 105\n",
       "  * region     (region) &lt;U14 &#x27;Southern Ocean&#x27; &#x27;WAP &amp; Atlantic&#x27; &#x27;Indo-Pacific&#x27;\n",
       "  * time       (time) int64 1921 1922 1923 1924 1925 ... 2097 2098 2099 2100\n",
       "Data variables:\n",
       "    Chl_surf   (time, member_id, region) float64 dask.array&lt;chunksize=(180, 34, 3), meta=np.ndarray&gt;\n",
       "    IFRAC      (time, member_id, region) float64 dask.array&lt;chunksize=(180, 34, 3), meta=np.ndarray&gt;\n",
       "    KGP        (time, length, member_id, region) float64 dask.array&lt;chunksize=(90, 3, 34, 3), meta=np.ndarray&gt;\n",
       "    SST        (time, member_id, region) float64 dask.array&lt;chunksize=(180, 34, 3), meta=np.ndarray&gt;</pre>"
      ],
      "text/plain": [
       "<xarray.Dataset>\n",
       "Dimensions:    (length: 3, member_id: 34, region: 3, time: 180)\n",
       "Coordinates:\n",
       "  * length     (length) float64 20.0 40.0 60.0\n",
       "  * member_id  (member_id) int64 1 2 9 10 11 12 13 ... 34 35 101 102 103 104 105\n",
       "  * region     (region) <U14 'Southern Ocean' 'WAP & Atlantic' 'Indo-Pacific'\n",
       "  * time       (time) int64 1921 1922 1923 1924 1925 ... 2097 2098 2099 2100\n",
       "Data variables:\n",
       "    Chl_surf   (time, member_id, region) float64 dask.array<chunksize=(180, 34, 3), meta=np.ndarray>\n",
       "    IFRAC      (time, member_id, region) float64 dask.array<chunksize=(180, 34, 3), meta=np.ndarray>\n",
       "    KGP        (time, length, member_id, region) float64 dask.array<chunksize=(90, 3, 34, 3), meta=np.ndarray>\n",
       "    SST        (time, member_id, region) float64 dask.array<chunksize=(180, 34, 3), meta=np.ndarray>"
      ]
     },
     "execution_count": 3,
     "metadata": {},
     "output_type": "execute_result"
    }
   ],
   "source": [
    "ds"
   ]
  },
  {
   "cell_type": "code",
   "execution_count": null,
   "metadata": {},
   "outputs": [],
   "source": []
  },
  {
   "cell_type": "code",
   "execution_count": null,
   "metadata": {},
   "outputs": [],
   "source": []
  },
  {
   "cell_type": "code",
   "execution_count": null,
   "metadata": {},
   "outputs": [],
   "source": []
  },
  {
   "cell_type": "markdown",
   "metadata": {},
   "source": [
    "### Enumerate Function:\n",
    "\n",
    "for index, item in enumerate(choices):\n",
    "\n",
    "for i, v in enumerate(ds):"
   ]
  },
  {
   "cell_type": "code",
   "execution_count": null,
   "metadata": {},
   "outputs": [],
   "source": []
  },
  {
   "cell_type": "code",
   "execution_count": null,
   "metadata": {},
   "outputs": [],
   "source": []
  },
  {
   "cell_type": "code",
   "execution_count": null,
   "metadata": {},
   "outputs": [],
   "source": []
  },
  {
   "cell_type": "code",
   "execution_count": null,
   "metadata": {},
   "outputs": [],
   "source": []
  }
 ],
 "metadata": {
  "kernelspec": {
   "display_name": "Python [conda env:miniconda3-krill]",
   "language": "python",
   "name": "conda-env-miniconda3-krill-py"
  },
  "language_info": {
   "codemirror_mode": {
    "name": "ipython",
    "version": 3
   },
   "file_extension": ".py",
   "mimetype": "text/x-python",
   "name": "python",
   "nbconvert_exporter": "python",
   "pygments_lexer": "ipython3",
   "version": "3.7.6"
  }
 },
 "nbformat": 4,
 "nbformat_minor": 4
}

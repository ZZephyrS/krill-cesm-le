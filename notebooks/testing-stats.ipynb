{
 "cells": [
  {
   "cell_type": "markdown",
   "metadata": {},
   "source": [
    "# Introduction\n",
    "\n",
    "This Jupyter Notebook uses the NCAR Community Earth System Model Large Ensemble (CESM-LE). The notebook uses an example the Kay et al. (2015) paper describing the CESM LENS dataset ([doi:10.1175/BAMS-D-13-00255.1](https://doi.org/10.1175/BAMS-D-13-00255.1))\n",
    "\n",
    "The objective of the notebook is to make an illustrative figure for a lead out in my masters thesis of projected trends in krill production over the next 20/50 years. The figure will make a map of trend magnitude.\n",
    "Conceptually, this process begins by computing a 20 year trend and a 50 year trend at every grid point. Then computing the standard deviation of those trends across the ensemble. Then computing PDFs of regional trends (trends within particular regions of interest) and plotting the PDF of these trends.\n",
    "\n",
    "\n",
    "Notebook version 3.3 (2020 April 17)\n",
    "____"
   ]
  },
  {
   "cell_type": "markdown",
   "metadata": {},
   "source": [
    "I would like to compute and make a figure of the trends in krill production over the next 20 and/or 50 years. Then I would like to make a map of trend magnitude in which:\n",
    "- at every grid point I compute a 20 and 50 year trend (the DJF trend)\n",
    "- then compute the standard deviation of those trends across the ensemble\n",
    "- then I want to compute PDFs of regional trends - specifically looking at the antarctic peninsula region\n",
    "- then lastly plot the PDF of regional trends"
   ]
  },
  {
   "cell_type": "markdown",
   "metadata": {},
   "source": [
    "## Set up environment"
   ]
  },
  {
   "cell_type": "code",
   "execution_count": 1,
   "metadata": {},
   "outputs": [
    {
     "name": "stderr",
     "output_type": "stream",
     "text": [
      "Cannot write to data cache folder '/glade/p/cesmdata/cseg'. Will not be able to download remote data files. Use environment variable 'CESMDATAROOT' to specify another directory.\n"
     ]
    }
   ],
   "source": [
    "# set up modules\n",
    "%matplotlib inline\n",
    "import os\n",
    "import shutil\n",
    "\n",
    "from glob import glob\n",
    "\n",
    "import cftime\n",
    "\n",
    "import numpy as np\n",
    "import xarray as xr\n",
    "\n",
    "import matplotlib.pyplot as plt\n",
    "\n",
    "import cartopy.crs as ccrs\n",
    "from cartopy.util import add_cyclic_point\n",
    "import cmocean\n",
    "import matplotlib.colors as colors\n",
    "from matplotlib import style\n",
    "\n",
    "import esmlab\n",
    "import intake\n",
    "import pop_tools\n",
    "\n",
    "import util"
   ]
  },
  {
   "cell_type": "code",
   "execution_count": 2,
   "metadata": {},
   "outputs": [
    {
     "data": {
      "text/plain": [
       "'/glade/u/home/zephyrs/projects/krill-cesm-le/notebooks'"
      ]
     },
     "execution_count": 2,
     "metadata": {},
     "output_type": "execute_result"
    }
   ],
   "source": [
    "pwd = os.getcwd()\n",
    "pwd"
   ]
  },
  {
   "cell_type": "code",
   "execution_count": 5,
   "metadata": {},
   "outputs": [],
   "source": [
    "#ds = xr.open_zarr('data/cesm-le-fields-djf-regional-timeseries.zarr')\n",
    "ds = xr.open_zarr('data/cesm-le-fields-djf-regional-timeseries-chl-edit.zarr')\n",
    "test = xr.open_zarr('data/cesm-le-fields-djf-epoch-mean-chl-edit.zarr')"
   ]
  },
  {
   "cell_type": "markdown",
   "metadata": {},
   "source": [
    "## Compute Linear Trend\n",
    "Define helper functions for trend computation."
   ]
  },
  {
   "cell_type": "code",
   "execution_count": 6,
   "metadata": {},
   "outputs": [],
   "source": [
    "def linear_trend(da, dim='time'):\n",
    "    da_chunk = da.chunk({dim: -1})\n",
    "    trend = xr.apply_ufunc(calc_slope,\n",
    "                           da_chunk,\n",
    "                           vectorize=True,\n",
    "                           input_core_dims=[[dim]],\n",
    "                           output_core_dims=[[]],\n",
    "                           output_dtypes=[np.float],\n",
    "                           dask='parallelized')\n",
    "    return trend\n",
    "\n",
    "def calc_slope(y):\n",
    "    \"\"\"ufunc to be used by linear_trend\"\"\"\n",
    "    x = np.arange(len(y))\n",
    "    return np.polyfit(x, y, 1)[0]"
   ]
  },
  {
   "cell_type": "markdown",
   "metadata": {},
   "source": [
    "Compute linear trends on the full ensemble."
   ]
  },
  {
   "cell_type": "code",
   "execution_count": 7,
   "metadata": {},
   "outputs": [
    {
     "data": {
      "text/plain": [
       "(2, 306)"
      ]
     },
     "execution_count": 7,
     "metadata": {},
     "output_type": "execute_result"
    }
   ],
   "source": [
    "kgp_parms = np.polyfit(ds.time, ds.KGP.stack(ens_space=['member_id','length','region']), 1)\n",
    "kgp_parms.shape"
   ]
  },
  {
   "cell_type": "code",
   "execution_count": 8,
   "metadata": {},
   "outputs": [],
   "source": [
    "slope = kgp_parms[0,:]\n",
    "intercept = kgp_parms[1,:]"
   ]
  },
  {
   "cell_type": "code",
   "execution_count": 9,
   "metadata": {},
   "outputs": [],
   "source": [
    "trend_tot = linear_trend(ds.KGP)\n",
    "trend_present = linear_trend(ds.KGP.sel(time=slice(1920, 2005)))\n",
    "trend_past = linear_trend(ds.KGP.sel(time=slice(2020, 2070)))"
   ]
  },
  {
   "cell_type": "code",
   "execution_count": 11,
   "metadata": {
    "collapsed": true,
    "jupyter": {
     "outputs_hidden": true
    }
   },
   "outputs": [
    {
     "data": {
      "text/plain": [
       "(array([2., 3., 0., 3., 7., 5., 5., 3., 2., 4.]),\n",
       " array([-1.24658859e-05, -1.20428266e-05, -1.16197673e-05, -1.11967080e-05,\n",
       "        -1.07736487e-05, -1.03505894e-05, -9.92753011e-06, -9.50447081e-06,\n",
       "        -9.08141151e-06, -8.65835221e-06, -8.23529291e-06]),\n",
       " <a list of 10 Patch objects>)"
      ]
     },
     "execution_count": 11,
     "metadata": {},
     "output_type": "execute_result"
    },
    {
     "data": {
      "image/png": "[encoded data removed]",
      "text/plain": [
       "<Figure size 432x288 with 1 Axes>"
      ]
     },
     "metadata": {
      "needs_background": "light"
     },
     "output_type": "display_data"
    }
   ],
   "source": [
    "trend_tot.isel(region=1, length=1).plot.hist()"
   ]
  },
  {
   "cell_type": "code",
   "execution_count": 12,
   "metadata": {
    "collapsed": true,
    "jupyter": {
     "outputs_hidden": true
    }
   },
   "outputs": [
    {
     "data": {
      "text/plain": [
       "(array([2., 1., 5., 8., 5., 3., 5., 1., 1., 3.]),\n",
       " array([-4.96077944e-06, -3.61242095e-06, -2.26406246e-06, -9.15703975e-07,\n",
       "         4.32654514e-07,  1.78101300e-06,  3.12937149e-06,  4.47772998e-06,\n",
       "         5.82608847e-06,  7.17444696e-06,  8.52280545e-06]),\n",
       " <a list of 10 Patch objects>)"
      ]
     },
     "execution_count": 12,
     "metadata": {},
     "output_type": "execute_result"
    },
    {
     "data": {
      "image/png": "[encoded data removed]",
      "text/plain": [
       "<Figure size 432x288 with 1 Axes>"
      ]
     },
     "metadata": {
      "needs_background": "light"
     },
     "output_type": "display_data"
    }
   ],
   "source": [
    "trend_present.isel(region=1, length=1).plot.hist()"
   ]
  },
  {
   "cell_type": "code",
   "execution_count": null,
   "metadata": {},
   "outputs": [],
   "source": [
    "#test\n",
    "for member_id in ds2.member_id:\n",
    "    ds2.KGP.sel(member_id=member_id).isel(length=1, region=0).plot()"
   ]
  },
  {
   "cell_type": "markdown",
   "metadata": {},
   "source": [
    "___\n",
    "## Visualize trends\n",
    "\n",
    "For visualization purposes, look for the ensemble members with the smallest and largest regional trends.\n",
    "First step: compute the mean trend over the REGION"
   ]
  },
  {
   "cell_type": "code",
   "execution_count": 17,
   "metadata": {},
   "outputs": [],
   "source": [
    "wap_trend = trend_tot.isel(region=1, length=1)\n",
    "#wap_trend = esmlab.weighted_mean(wap_trend,\n",
    "#                                  dim=('region'),\n",
    "#                                  weights=ds.region).load()"
   ]
  },
  {
   "cell_type": "markdown",
   "metadata": {},
   "source": [
    "Next, pick out the ensemble members with the min and max trends."
   ]
  },
  {
   "cell_type": "code",
   "execution_count": 18,
   "metadata": {},
   "outputs": [],
   "source": [
    "member_id_pick = [\n",
    "    wap_trend.where(wap_trend == wap_trend.max(),\n",
    "                     drop=True).member_id.values.astype('int')[0],\n",
    "    wap_trend.where(wap_trend == wap_trend.min(),\n",
    "                     drop=True).member_id.values.astype('int')[0]\n",
    "]"
   ]
  },
  {
   "cell_type": "code",
   "execution_count": 19,
   "metadata": {},
   "outputs": [
    {
     "data": {
      "text/plain": [
       "[34, 25]"
      ]
     },
     "execution_count": 19,
     "metadata": {},
     "output_type": "execute_result"
    }
   ],
   "source": [
    "member_id_pick"
   ]
  },
  {
   "cell_type": "markdown",
   "metadata": {},
   "source": [
    "Import plotting modules"
   ]
  },
  {
   "cell_type": "code",
   "execution_count": 20,
   "metadata": {},
   "outputs": [],
   "source": [
    "import matplotlib.pyplot as plt\n",
    "import matplotlib.colors as colors\n",
    "import cmocean\n",
    "import cartopy.crs as ccrs\n",
    "import cartopy"
   ]
  },
  {
   "cell_type": "code",
   "execution_count": 21,
   "metadata": {},
   "outputs": [
    {
     "ename": "AttributeError",
     "evalue": "'Dataset' object has no attribute 'TLAT'",
     "output_type": "error",
     "traceback": [
      "\u001b[0;31m---------------------------------------------------------------------------\u001b[0m",
      "\u001b[0;31mAttributeError\u001b[0m                            Traceback (most recent call last)",
      "\u001b[0;32m<ipython-input-21-70af9cd34076>\u001b[0m in \u001b[0;36m<module>\u001b[0;34m\u001b[0m\n\u001b[1;32m      2\u001b[0m     xr.Dataset({\n\u001b[1;32m      3\u001b[0m         \u001b[0;34m'trend'\u001b[0m\u001b[0;34m:\u001b[0m \u001b[0mtrend_tot\u001b[0m\u001b[0;34m,\u001b[0m\u001b[0;34m\u001b[0m\u001b[0;34m\u001b[0m\u001b[0m\n\u001b[0;32m----> 4\u001b[0;31m         \u001b[0;34m'TLAT'\u001b[0m\u001b[0;34m:\u001b[0m \u001b[0mds\u001b[0m\u001b[0;34m.\u001b[0m\u001b[0mTLAT\u001b[0m\u001b[0;34m[\u001b[0m\u001b[0;36m0\u001b[0m\u001b[0;34m]\u001b[0m\u001b[0;34m.\u001b[0m\u001b[0mcompute\u001b[0m\u001b[0;34m(\u001b[0m\u001b[0;34m)\u001b[0m\u001b[0;34m,\u001b[0m\u001b[0;34m\u001b[0m\u001b[0;34m\u001b[0m\u001b[0m\n\u001b[0m\u001b[1;32m      5\u001b[0m         \u001b[0;34m'TLONG'\u001b[0m\u001b[0;34m:\u001b[0m \u001b[0mds\u001b[0m\u001b[0;34m.\u001b[0m\u001b[0mTLONG\u001b[0m\u001b[0;34m[\u001b[0m\u001b[0;36m0\u001b[0m\u001b[0;34m]\u001b[0m\u001b[0;34m.\u001b[0m\u001b[0mcompute\u001b[0m\u001b[0;34m(\u001b[0m\u001b[0;34m)\u001b[0m\u001b[0;34m\u001b[0m\u001b[0;34m\u001b[0m\u001b[0m\n\u001b[1;32m      6\u001b[0m     }))\n",
      "\u001b[0;32m/glade/work/zephyrs/miniconda3/envs/krill/lib/python3.7/site-packages/xarray/core/common.py\u001b[0m in \u001b[0;36m__getattr__\u001b[0;34m(self, name)\u001b[0m\n\u001b[1;32m    231\u001b[0m                     \u001b[0;32mreturn\u001b[0m \u001b[0msource\u001b[0m\u001b[0;34m[\u001b[0m\u001b[0mname\u001b[0m\u001b[0;34m]\u001b[0m\u001b[0;34m\u001b[0m\u001b[0;34m\u001b[0m\u001b[0m\n\u001b[1;32m    232\u001b[0m         raise AttributeError(\n\u001b[0;32m--> 233\u001b[0;31m             \u001b[0;34m\"{!r} object has no attribute {!r}\"\u001b[0m\u001b[0;34m.\u001b[0m\u001b[0mformat\u001b[0m\u001b[0;34m(\u001b[0m\u001b[0mtype\u001b[0m\u001b[0;34m(\u001b[0m\u001b[0mself\u001b[0m\u001b[0;34m)\u001b[0m\u001b[0;34m.\u001b[0m\u001b[0m__name__\u001b[0m\u001b[0;34m,\u001b[0m \u001b[0mname\u001b[0m\u001b[0;34m)\u001b[0m\u001b[0;34m\u001b[0m\u001b[0;34m\u001b[0m\u001b[0m\n\u001b[0m\u001b[1;32m    234\u001b[0m         )\n\u001b[1;32m    235\u001b[0m \u001b[0;34m\u001b[0m\u001b[0m\n",
      "\u001b[0;31mAttributeError\u001b[0m: 'Dataset' object has no attribute 'TLAT'"
     ]
    }
   ],
   "source": [
    "dsp = util.pop_add_cyclic(\n",
    "    xr.Dataset({\n",
    "        'trend': trend_tot,\n",
    "        'TLAT': ds.TLAT[0].compute(),\n",
    "        'TLONG': ds.TLONG[0].compute()\n",
    "    }))\n",
    "dsp"
   ]
  },
  {
   "cell_type": "markdown",
   "metadata": {},
   "source": [
    "Compute the `forced` (ensemble mean) and `internal` components. Call `compute` on these dataset to trigger loading into memory so that subsequent plotting operations proceed as rapidly as possible. "
   ]
  },
  {
   "cell_type": "code",
   "execution_count": null,
   "metadata": {},
   "outputs": [],
   "source": [
    "forced = dsp.trend.mean('member_id').compute()\n",
    "internal = [(dsp.trend.sel(member_id=i) - forced).compute()\n",
    "            for i in member_id_pick]\n",
    "\n",
    "forced"
   ]
  },
  {
   "cell_type": "markdown",
   "metadata": {},
   "source": [
    "___\n",
    "Set up some basic plotting variables, i.e., contour levels, map projection."
   ]
  },
  {
   "cell_type": "code",
   "execution_count": null,
   "metadata": {},
   "outputs": [],
   "source": [
    "levels = np.arange(-100, 45, 5)\n",
    "norm = colors.DivergingNorm(vmin=levels[0], vmax=levels[-1], vcenter=0.)\n",
    "\n",
    "extent = [120, 260, 10, 65]\n",
    "prj = ccrs.Mercator(central_longitude=np.mean(extent[0:2]),\n",
    "                    min_latitude=extent[2],\n",
    "                    max_latitude=extent[3])"
   ]
  },
  {
   "cell_type": "markdown",
   "metadata": {},
   "source": [
    "Define a helper function that makes a single map plot."
   ]
  },
  {
   "cell_type": "code",
   "execution_count": null,
   "metadata": {},
   "outputs": [],
   "source": [
    "def one_plot(da, lines=True):\n",
    "    # filled contours\n",
    "    cf = ax.contourf(dsp.TLONG,\n",
    "                     dsp.TLAT,\n",
    "                     da,\n",
    "                     levels=levels,\n",
    "                     norm=norm,\n",
    "                     cmap=cmocean.cm.curl_r,\n",
    "                     extend='both',\n",
    "                     transform=ccrs.PlateCarree())\n",
    "\n",
    "    # contour lines\n",
    "    cs = ax.contour(dsp.TLONG,\n",
    "                    dsp.TLAT,\n",
    "                    da,\n",
    "                    colors='k',\n",
    "                    levels=levels,\n",
    "                    linewidths=0.5,\n",
    "                    transform=ccrs.PlateCarree())\n",
    "\n",
    "    if lines:\n",
    "        # add contour labels\n",
    "        lb = plt.clabel(cs, fontsize=6, inline=True, fmt='%r')\n",
    "\n",
    "    # land\n",
    "    land = ax.add_feature(\n",
    "        cartopy.feature.NaturalEarthFeature('physical',\n",
    "                                            'land',\n",
    "                                            '110m',\n",
    "                                            facecolor='lightgray'))\n",
    "\n",
    "    ax.coastlines(linewidth=0.5)\n",
    "\n",
    "    return cf"
   ]
  },
  {
   "cell_type": "markdown",
   "metadata": {},
   "source": [
    "Make a plot showing the Total trend and it's internal and forced components for the ensemble members with the min and max N. Pacific trends."
   ]
  },
  {
   "cell_type": "code",
   "execution_count": null,
   "metadata": {},
   "outputs": [],
   "source": [
    "fig = plt.figure(figsize=(12, 6))\n",
    "\n",
    "axs = []\n",
    "\n",
    "# plot total\n",
    "ax = fig.add_subplot(2, 3, 1, projection=prj)\n",
    "ax.set_extent(extent)\n",
    "one_plot(dsp.trend.sel(member_id=member_id_pick[0]))\n",
    "ax.text(235., 60, f'{member_id_pick[0]:03d}', transform=ccrs.PlateCarree())\n",
    "ax.set_title('Total')\n",
    "axs.append(ax)\n",
    "\n",
    "ax = fig.add_subplot(2, 3, 4, projection=prj)\n",
    "ax.set_extent(extent)\n",
    "one_plot(dsp.trend.sel(member_id=member_id_pick[1]))\n",
    "ax.text(235., 60, f'{member_id_pick[1]:03d}', transform=ccrs.PlateCarree())\n",
    "axs.append(ax)\n",
    "\n",
    "# plot internal variability\n",
    "ax = fig.add_subplot(2, 3, 2, projection=prj)\n",
    "ax.set_extent(extent)\n",
    "one_plot(internal[0])\n",
    "ax.text(235., 60, f'{member_id_pick[0]:03d}', transform=ccrs.PlateCarree())\n",
    "ax.set_title('Internal')\n",
    "axs.append(ax)\n",
    "\n",
    "ax = fig.add_subplot(2, 3, 5, projection=prj)\n",
    "ax.set_extent(extent)\n",
    "one_plot(internal[1])\n",
    "ax.text(235., 60, f'{member_id_pick[1]:03d}', transform=ccrs.PlateCarree())\n",
    "axs.append(ax)\n",
    "\n",
    "# plot forced\n",
    "ax = fig.add_subplot(2, 3, 3, projection=prj)\n",
    "ax.set_extent(extent)\n",
    "one_plot(forced)\n",
    "ax.set_title('Forced')\n",
    "axs.append(ax)\n",
    "\n",
    "ax = fig.add_subplot(2, 3, 6, projection=prj)\n",
    "ax.set_extent(extent)\n",
    "cf = one_plot(forced)\n",
    "axs.append(ax)\n",
    "\n",
    "# add colorbar\n",
    "plt.subplots_adjust(hspace=0.02, wspace=0.02)\n",
    "\n",
    "# colorbar and labels\n",
    "cb = plt.colorbar(cf, shrink=0.5, orientation='horizontal', ax=axs, pad=0.075)\n",
    "cb.ax.set_title(dsp.trend.units)\n",
    "plt.savefig('trend-decomp-O2-200m-NPac.png', dpi=300, bbox_inches='tight')"
   ]
  },
  {
   "cell_type": "markdown",
   "metadata": {},
   "source": [
    "### Plot All Trends - Total\n",
    "\n",
    "Make a postage stamp plot showing all the trends. First compute each ensemble member to load into memory."
   ]
  },
  {
   "cell_type": "code",
   "execution_count": null,
   "metadata": {},
   "outputs": [],
   "source": [
    "field = [\n",
    "    dsp.trend.isel(member_id=i).compute() for i in range(0, len(ds.member_id))\n",
    "]"
   ]
  },
  {
   "cell_type": "code",
   "execution_count": null,
   "metadata": {},
   "outputs": [],
   "source": [
    "fig = plt.figure(figsize=(10, 10))\n",
    "\n",
    "axs = []\n",
    "\n",
    "# plot total\n",
    "for i in range(0, len(ds.member_id)):\n",
    "    ax = fig.add_subplot(7, 5, i + 1, projection=prj)\n",
    "    ax.set_extent(extent)\n",
    "    cf = one_plot(field[i], lines=False)\n",
    "    axs.append(ax)\n",
    "\n",
    "plt.subplots_adjust(hspace=0.04, wspace=0.02)\n",
    "\n",
    "# colorbar and labels\n",
    "cb = plt.colorbar(cf, shrink=0.5, orientation='horizontal', ax=axs, pad=0.075)\n",
    "cb.ax.set_title(dsp.trend.units)\n",
    "\n",
    "plt.savefig('all-trends-O2-200m-NPac.png', dpi=300, bbox_inches='tight')"
   ]
  },
  {
   "cell_type": "markdown",
   "metadata": {},
   "source": [
    "### Plot All Trends - Internal"
   ]
  },
  {
   "cell_type": "code",
   "execution_count": null,
   "metadata": {},
   "outputs": [],
   "source": [
    "fig = plt.figure(figsize=(10, 10))\n",
    "\n",
    "axs = []\n",
    "\n",
    "# plot total\n",
    "for i in range(0, len(ds.member_id)):\n",
    "    ax = fig.add_subplot(7, 5, i + 1, projection=prj)\n",
    "    ax.set_extent(extent)\n",
    "    cf = one_plot(field[i] - forced, lines=False)\n",
    "    axs.append(ax)\n",
    "\n",
    "plt.subplots_adjust(hspace=0.04, wspace=0.02)\n",
    "\n",
    "# colorbar and labels\n",
    "cb = plt.colorbar(cf, shrink=0.5, orientation='horizontal', ax=axs, pad=0.075)\n",
    "cb.ax.set_title(dsp.trend.units)\n",
    "\n",
    "plt.savefig('all-trends-internal-O2-200m-NPac.png',\n",
    "            dpi=300,\n",
    "            bbox_inches='tight')"
   ]
  },
  {
   "cell_type": "code",
   "execution_count": null,
   "metadata": {},
   "outputs": [],
   "source": []
  },
  {
   "cell_type": "code",
   "execution_count": null,
   "metadata": {},
   "outputs": [],
   "source": []
  },
  {
   "cell_type": "code",
   "execution_count": null,
   "metadata": {},
   "outputs": [],
   "source": []
  },
  {
   "cell_type": "code",
   "execution_count": null,
   "metadata": {},
   "outputs": [],
   "source": []
  }
 ],
 "metadata": {
  "kernelspec": {
   "display_name": "Python [conda env:miniconda3-krill]",
   "language": "python",
   "name": "conda-env-miniconda3-krill-py"
  },
  "language_info": {
   "codemirror_mode": {
    "name": "ipython",
    "version": 3
   },
   "file_extension": ".py",
   "mimetype": "text/x-python",
   "name": "python",
   "nbconvert_exporter": "python",
   "pygments_lexer": "ipython3",
   "version": "3.7.6"
  }
 },
 "nbformat": 4,
 "nbformat_minor": 4
}

{
 "cells": [
  {
   "cell_type": "code",
   "execution_count": 1,
   "metadata": {},
   "outputs": [
    {
     "name": "stderr",
     "output_type": "stream",
     "text": [
      "Cannot write to data cache '/glade/p/cesmdata/cseg'. Will not be able to download remote data files. Use environment variable 'CESMDATAROOT' to specify another directory.\n"
     ]
    }
   ],
   "source": [
    "# set up modules\n",
    "%matplotlib inline\n",
    "import os\n",
    "import shutil\n",
    "\n",
    "from glob import glob\n",
    "\n",
    "import cftime\n",
    "\n",
    "import numpy as np\n",
    "import xarray as xr\n",
    "\n",
    "import matplotlib.pyplot as plt\n",
    "\n",
    "import cartopy.crs as ccrs\n",
    "from cartopy.util import add_cyclic_point\n",
    "import cmocean\n",
    "import matplotlib.colors as colors\n",
    "from matplotlib import style\n",
    "\n",
    "\n",
    "import intake\n",
    "import pop_tools\n",
    "\n",
    "import util"
   ]
  },
  {
   "cell_type": "markdown",
   "metadata": {},
   "source": [
    "## Ideas on how to proceed: Matt\n",
    "1. compute the mean DJF Krill production of the unperturbed climate\n",
    "2. Compute the standard deviation\n",
    "3. for each ensemble member, define the anomalies relative to that mean,\n",
    "4. divide by the standard deviation,\n",
    "5. Assess where that signal to noise ratio is greater than two\n"
   ]
  },
  {
   "cell_type": "code",
   "execution_count": 2,
   "metadata": {},
   "outputs": [],
   "source": [
    "#Compute Linear Trend"
   ]
  },
  {
   "cell_type": "markdown",
   "metadata": {},
   "source": []
  },
  {
   "cell_type": "code",
   "execution_count": 2,
   "metadata": {},
   "outputs": [],
   "source": [
    "#Read in Data\n",
    "ds_djf_epoch = xr.open_zarr('data/cesm-le-fields-djf-epoch-mean.zarr')\n",
    "ds_djf_regional = xr.open_zarr('data/cesm-le-fields-djf-regional-timeseries.zarr')"
   ]
  },
  {
   "cell_type": "code",
   "execution_count": 3,
   "metadata": {},
   "outputs": [],
   "source": [
    "#get difference between epochs\n",
    "with xr.set_options(keep_attrs=True):  \n",
    "    ds_djf_epoch_diff = ds_djf_epoch.diff('epoch').squeeze('epoch')"
   ]
  },
  {
   "cell_type": "code",
   "execution_count": 7,
   "metadata": {},
   "outputs": [
    {
     "data": {
      "text/html": [
       "<pre>&lt;xarray.DataArray &#x27;KGP&#x27; (time: 180)&gt;\n",
       "dask.array&lt;getitem, shape=(180,), dtype=float64, chunksize=(90,), chunktype=numpy.ndarray&gt;\n",
       "Coordinates:\n",
       "    length     float64 40.0\n",
       "    member_id  int64 1\n",
       "    region     &lt;U14 &#x27;Southern Ocean&#x27;\n",
       "  * time       (time) int64 1921 1922 1923 1924 1925 ... 2097 2098 2099 2100\n",
       "Attributes:\n",
       "    long_name:  Daily growth rate\n",
       "    units:      mm d$^{-1}$</pre>"
      ],
      "text/plain": [
       "<xarray.DataArray 'KGP' (time: 180)>\n",
       "dask.array<getitem, shape=(180,), dtype=float64, chunksize=(90,), chunktype=numpy.ndarray>\n",
       "Coordinates:\n",
       "    length     float64 40.0\n",
       "    member_id  int64 1\n",
       "    region     <U14 'Southern Ocean'\n",
       "  * time       (time) int64 1921 1922 1923 1924 1925 ... 2097 2098 2099 2100\n",
       "Attributes:\n",
       "    long_name:  Daily growth rate\n",
       "    units:      mm d$^{-1}$"
      ]
     },
     "execution_count": 7,
     "metadata": {},
     "output_type": "execute_result"
    }
   ],
   "source": [
    "ds_test = ds_djf_regional['KGP'].sel(region='Southern Ocean').sel(length='40').sel(member_id=1)\n",
    "ds_test"
   ]
  },
  {
   "cell_type": "code",
   "execution_count": 9,
   "metadata": {},
   "outputs": [],
   "source": []
  },
  {
   "cell_type": "code",
   "execution_count": 10,
   "metadata": {},
   "outputs": [
    {
     "ename": "AttributeError",
     "evalue": "'function' object has no attribute 'values'",
     "output_type": "error",
     "traceback": [
      "\u001b[0;31m---------------------------------------------------------------------------\u001b[0m",
      "\u001b[0;31mAttributeError\u001b[0m                            Traceback (most recent call last)",
      "\u001b[0;32m<ipython-input-10-45a1f18202c9>\u001b[0m in \u001b[0;36m<module>\u001b[0;34m\u001b[0m\n\u001b[0;32m----> 1\u001b[0;31m \u001b[0mxarray_trend\u001b[0m\u001b[0;34m(\u001b[0m\u001b[0mds_test\u001b[0m\u001b[0;34m)\u001b[0m\u001b[0;34m\u001b[0m\u001b[0;34m\u001b[0m\u001b[0m\n\u001b[0m",
      "\u001b[0;32m<ipython-input-9-eb0e42a8b5db>\u001b[0m in \u001b[0;36mxarray_trend\u001b[0;34m(xarr)\u001b[0m\n\u001b[1;32m     21\u001b[0m \u001b[0;34m\u001b[0m\u001b[0m\n\u001b[1;32m     22\u001b[0m     \u001b[0;31m# creating x and y variables for linear regression\u001b[0m\u001b[0;34m\u001b[0m\u001b[0;34m\u001b[0m\u001b[0;34m\u001b[0m\u001b[0m\n\u001b[0;32m---> 23\u001b[0;31m     \u001b[0mx\u001b[0m \u001b[0;34m=\u001b[0m \u001b[0mxarr\u001b[0m\u001b[0;34m.\u001b[0m\u001b[0mtime\u001b[0m\u001b[0;34m.\u001b[0m\u001b[0mto_pandas\u001b[0m\u001b[0;34m.\u001b[0m\u001b[0mvalues\u001b[0m\u001b[0;34m[\u001b[0m\u001b[0;34m:\u001b[0m\u001b[0;34m,\u001b[0m \u001b[0;32mNone\u001b[0m\u001b[0;34m]\u001b[0m\u001b[0;34m\u001b[0m\u001b[0;34m\u001b[0m\u001b[0m\n\u001b[0m\u001b[1;32m     24\u001b[0m     \u001b[0my\u001b[0m \u001b[0;34m=\u001b[0m \u001b[0mxarr\u001b[0m\u001b[0;34m.\u001b[0m\u001b[0mto_masked_array\u001b[0m\u001b[0;34m(\u001b[0m\u001b[0;34m)\u001b[0m\u001b[0;34m.\u001b[0m\u001b[0mreshape\u001b[0m\u001b[0;34m(\u001b[0m\u001b[0mn\u001b[0m\u001b[0;34m,\u001b[0m \u001b[0;34m-\u001b[0m\u001b[0;36m1\u001b[0m\u001b[0;34m)\u001b[0m\u001b[0;34m\u001b[0m\u001b[0;34m\u001b[0m\u001b[0m\n\u001b[1;32m     25\u001b[0m \u001b[0;34m\u001b[0m\u001b[0m\n",
      "\u001b[0;31mAttributeError\u001b[0m: 'function' object has no attribute 'values'"
     ]
    }
   ],
   "source": []
  },
  {
   "cell_type": "code",
   "execution_count": null,
   "metadata": {},
   "outputs": [],
   "source": []
  }
 ],
 "metadata": {
  "kernelspec": {
   "display_name": "CMIP6 2019.10",
   "language": "python",
   "name": "cmip6-201910"
  },
  "language_info": {
   "codemirror_mode": {
    "name": "ipython",
    "version": 3
   },
   "file_extension": ".py",
   "mimetype": "text/x-python",
   "name": "python",
   "nbconvert_exporter": "python",
   "pygments_lexer": "ipython3",
   "version": "3.7.6"
  }
 },
 "nbformat": 4,
 "nbformat_minor": 4
}

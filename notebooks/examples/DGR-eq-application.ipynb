{
 "cells": [
  {
   "cell_type": "markdown",
   "metadata": {},
   "source": [
    "### Krill Growth Model (Atkinson et al 2006)\n",
    "\n",
    "#### This empirical model derives a Daily Growth Rate (DGR, mm $d^{-1}$) from a starting length of an individual krill, chlorophyll concentration, and SST:\n",
    "\n",
    "$DGR = a + b * Length + c * Length^2 + [d * \\frac{CHL}{e + CHL}] + f * SST + g * SST ^2$"
   ]
  },
  {
   "cell_type": "markdown",
   "metadata": {},
   "source": [
    "- Length (L mm) = Proxy for growth =  using 40mm as the starting value (observed mean length of adult krill)\n",
    "- SST (°C) = Proxy for survival =  threshold between -1 to 5°C\n",
    "- Chl-a (mg m$^{-3}$) = Proxy for food availability - threshold: 0.5 mg m-3"
   ]
  },
  {
   "cell_type": "markdown",
   "metadata": {},
   "source": [
    "Murphy et al 2017:\n",
    "<blockquote> Sensitivity of the empirical model: Optimum growth rates vary with animal size, but occur generally between temperatures -1 to 2 o C and chlorophyll a concentrations > 1.0 mg m-3  (Figure S3). For chlorophyll a concentrations >1.0 mg m$^{-3}$ there is little change in the potential rate of growth, but the model is particularly sensitive to the change in chlorophyll a concentration from < 0.1 mg m$^{-3}$ to > 1 mg chl a m$^{-3}$ (Figure S34 ). Above ~1°C growth rates decline and this is particularly rapid above ~2°C and also below ~ -1°C. </blockquote>"
   ]
  },
  {
   "cell_type": "markdown",
   "metadata": {},
   "source": [
    "___\n",
    "### Objective: estimate the growth potential for each 1° by 1° latitude-longitude grid cell for each month (mm month−1)\n",
    "Murphy et al: estimated potential growth from satelitte data\n",
    "\n",
    "From Murphy et al 2017: used Atkinson et al. 2006; Model 3; see their Table 5\n",
    "<blockquote> Growth potential was calculated in two ways. In the first we calculated growth rates for each month only for months and cells where both SST and chlorophyll a values were present. In the second calculation for the months and locations where SST data were available but chlorophyll data were missing, we assumed the chlorophyll a concentration was 0.0 mg m−3 . Area-weighted mean growth rates were derived to generate summary estimates of circumpolar mean monthly growth rates (September to April; May to August were excluded because of extensive missing data due to cloud and sea ice cover). </blockquote>\n",
    "\n",
    "Devi et al: Evaluated projected changes in krill habitat between the recent past (1960-1989) and end of the century (2070-2099).\n",
    "\n",
    "* simulated growth potential as a measure of habitat quality\n",
    "* growth potential method from murphy et al \n",
    "* Habitat area = the surface area of grid cells where growth potential was positive\n",
    "* all growth potential calculations were done using seasonal climatologies yeilding seasonal GP AND YET:\n",
    "* For each day in the season, DGR was calculated using the SST and chlorophyll fields, and then added to the previous length.\n",
    "\n",
    "From Devi: \n",
    "<blockquote> if SST was present and chlorophyll was absent, then chlorophyll was set to 0 mg m-3 , whereas if there was sea ice cover the cell was excluded from the calculation. </blockquote>\n",
    "\n",
    "<blockquote>Although previous analyses have included other starting size classes, we found that projected differences between future and historical epochs remained the same irrespective of starting length. For each day in the season, DGR was calculated using the SST and chlorophyll fields, and then added to the previous length</blockquote>"
   ]
  },
  {
   "cell_type": "code",
   "execution_count": 1,
   "metadata": {},
   "outputs": [],
   "source": [
    "#Import Modules\n",
    "import os\n",
    "\n",
    "import math\n",
    "import xarray as xr\n",
    "import pandas as pd\n",
    "import numpy as np\n",
    "import matplotlib.pyplot as plt\n",
    "from math import exp\n",
    "%matplotlib inline"
   ]
  },
  {
   "cell_type": "code",
   "execution_count": 4,
   "metadata": {},
   "outputs": [],
   "source": [
    "# specify coefs\n",
    "a = -0.066 # Constant - all krill combined (no life stage or sex)\n",
    "b = 0.002 # Linear term relating to length\n",
    "c = -0.000061 # Quadratic term relating to length\n",
    "d = 0.385 # Maximum term relating to food\n",
    "e = 0.328 # Half Saturation constant relating to food\n",
    "f = 0.0078 # Linear term relating to temperature\n",
    "g = -0.0101 # Quadratic term relating to temperature"
   ]
  },
  {
   "cell_type": "code",
   "execution_count": 39,
   "metadata": {},
   "outputs": [
    {
     "name": "stdout",
     "output_type": "stream",
     "text": [
      "Example conditions and their resulting terms within the DGR Function:\n"
     ]
    },
    {
     "data": {
      "text/html": [
       "<div>\n",
       "<style scoped>\n",
       "    .dataframe tbody tr th:only-of-type {\n",
       "        vertical-align: middle;\n",
       "    }\n",
       "\n",
       "    .dataframe tbody tr th {\n",
       "        vertical-align: top;\n",
       "    }\n",
       "\n",
       "    .dataframe thead th {\n",
       "        text-align: right;\n",
       "    }\n",
       "</style>\n",
       "<table border=\"1\" class=\"dataframe\">\n",
       "  <thead>\n",
       "    <tr style=\"text-align: right;\">\n",
       "      <th></th>\n",
       "      <th>SST</th>\n",
       "      <th>s</th>\n",
       "      <th>CHL</th>\n",
       "      <th>c</th>\n",
       "      <th>L_i</th>\n",
       "      <th>l</th>\n",
       "    </tr>\n",
       "  </thead>\n",
       "  <tbody>\n",
       "    <tr>\n",
       "      <th>0</th>\n",
       "      <td>-2.00</td>\n",
       "      <td>-0.056</td>\n",
       "      <td>0.00</td>\n",
       "      <td>0.000</td>\n",
       "      <td>10.0</td>\n",
       "      <td>-0.052</td>\n",
       "    </tr>\n",
       "    <tr>\n",
       "      <th>1</th>\n",
       "      <td>-1.00</td>\n",
       "      <td>-0.018</td>\n",
       "      <td>0.04</td>\n",
       "      <td>0.042</td>\n",
       "      <td>15.0</td>\n",
       "      <td>-0.050</td>\n",
       "    </tr>\n",
       "    <tr>\n",
       "      <th>2</th>\n",
       "      <td>-0.50</td>\n",
       "      <td>-0.006</td>\n",
       "      <td>0.07</td>\n",
       "      <td>0.068</td>\n",
       "      <td>20.0</td>\n",
       "      <td>-0.050</td>\n",
       "    </tr>\n",
       "    <tr>\n",
       "      <th>3</th>\n",
       "      <td>-0.25</td>\n",
       "      <td>-0.003</td>\n",
       "      <td>0.10</td>\n",
       "      <td>0.090</td>\n",
       "      <td>25.0</td>\n",
       "      <td>-0.054</td>\n",
       "    </tr>\n",
       "    <tr>\n",
       "      <th>4</th>\n",
       "      <td>0.00</td>\n",
       "      <td>0.000</td>\n",
       "      <td>0.20</td>\n",
       "      <td>0.146</td>\n",
       "      <td>27.5</td>\n",
       "      <td>-0.057</td>\n",
       "    </tr>\n",
       "  </tbody>\n",
       "</table>\n",
       "</div>"
      ],
      "text/plain": [
       "    SST      s   CHL      c   L_i      l\n",
       "0 -2.00 -0.056  0.00  0.000  10.0 -0.052\n",
       "1 -1.00 -0.018  0.04  0.042  15.0 -0.050\n",
       "2 -0.50 -0.006  0.07  0.068  20.0 -0.050\n",
       "3 -0.25 -0.003  0.10  0.090  25.0 -0.054\n",
       "4  0.00  0.000  0.20  0.146  27.5 -0.057"
      ]
     },
     "execution_count": 39,
     "metadata": {},
     "output_type": "execute_result"
    }
   ],
   "source": [
    "#test conditions\n",
    "temp = [-2,-1, -0.5, -0.25, 0, 0.25, 0.5, 0.75, 1, 1.5, 2, 2.5, 3, 4, 5, 6]\n",
    "#food = [0, 0.25, 0.5, 0.75, 1, 1.5, 2, 2.5, 3]\n",
    "#food = [0, 0.06, 0.07, 0.1, 0.22, 0.38, 0.5, 0.7, 1, 1.3, 1.5, 1.78, 2, 3, 4, 5] \n",
    "food = [0, 0.04, 0.07, 0.1, 0.2, 0.3, 0.4, 0.5, 0.6, 0.7, 1, 1.3, 1.5, 1.78, 2, 3] \n",
    "\n",
    "long = [10, 15, 20, 25, 27.5, 30, 32.5, 35, 37.5, 40, 42.5, 45, 47.5, 50, 55, 60]\n",
    "# intialise data of lists. \n",
    "data = {'SST': temp, 's': \"\",\n",
    "        'CHL': food,'c': \"\",\n",
    "        'L_i': long, 'l': \"\"} \n",
    "# Create DataFrame \n",
    "df = pd.DataFrame(data) \n",
    "# Calculate Tests on the data frame\n",
    "df['s'] = np.round((f * df.SST + g * df.SST**2), 3)\n",
    "df['c'] = np.round((d * df.CHL / (e + df.CHL)), 3)\n",
    "df['l'] = np.round ((a + (b * df.L_i) + (c * df.L_i**2)), 3)\n",
    "# Print the output. \n",
    "print('Example conditions and their resulting terms within the DGR Function:')\n",
    "df.head()"
   ]
  },
  {
   "cell_type": "code",
   "execution_count": 41,
   "metadata": {},
   "outputs": [
    {
     "data": {
      "text/html": [
       "<div>\n",
       "<style scoped>\n",
       "    .dataframe tbody tr th:only-of-type {\n",
       "        vertical-align: middle;\n",
       "    }\n",
       "\n",
       "    .dataframe tbody tr th {\n",
       "        vertical-align: top;\n",
       "    }\n",
       "\n",
       "    .dataframe thead th {\n",
       "        text-align: right;\n",
       "    }\n",
       "</style>\n",
       "<table border=\"1\" class=\"dataframe\">\n",
       "  <thead>\n",
       "    <tr style=\"text-align: right;\">\n",
       "      <th></th>\n",
       "      <th>SST</th>\n",
       "      <th>s</th>\n",
       "      <th>CHL</th>\n",
       "      <th>c</th>\n",
       "      <th>L_i</th>\n",
       "      <th>l</th>\n",
       "    </tr>\n",
       "  </thead>\n",
       "  <tbody>\n",
       "    <tr>\n",
       "      <th>0</th>\n",
       "      <td>-2.00</td>\n",
       "      <td>-0.056</td>\n",
       "      <td>0.00</td>\n",
       "      <td>0.000</td>\n",
       "      <td>10.0</td>\n",
       "      <td>-0.052</td>\n",
       "    </tr>\n",
       "    <tr>\n",
       "      <th>1</th>\n",
       "      <td>-1.00</td>\n",
       "      <td>-0.018</td>\n",
       "      <td>0.04</td>\n",
       "      <td>0.042</td>\n",
       "      <td>15.0</td>\n",
       "      <td>-0.050</td>\n",
       "    </tr>\n",
       "    <tr>\n",
       "      <th>2</th>\n",
       "      <td>-0.50</td>\n",
       "      <td>-0.006</td>\n",
       "      <td>0.07</td>\n",
       "      <td>0.068</td>\n",
       "      <td>20.0</td>\n",
       "      <td>-0.050</td>\n",
       "    </tr>\n",
       "    <tr>\n",
       "      <th>3</th>\n",
       "      <td>-0.25</td>\n",
       "      <td>-0.003</td>\n",
       "      <td>0.10</td>\n",
       "      <td>0.090</td>\n",
       "      <td>25.0</td>\n",
       "      <td>-0.054</td>\n",
       "    </tr>\n",
       "    <tr>\n",
       "      <th>4</th>\n",
       "      <td>0.00</td>\n",
       "      <td>0.000</td>\n",
       "      <td>0.20</td>\n",
       "      <td>0.146</td>\n",
       "      <td>27.5</td>\n",
       "      <td>-0.057</td>\n",
       "    </tr>\n",
       "    <tr>\n",
       "      <th>5</th>\n",
       "      <td>0.25</td>\n",
       "      <td>0.001</td>\n",
       "      <td>0.30</td>\n",
       "      <td>0.184</td>\n",
       "      <td>30.0</td>\n",
       "      <td>-0.061</td>\n",
       "    </tr>\n",
       "    <tr>\n",
       "      <th>6</th>\n",
       "      <td>0.50</td>\n",
       "      <td>0.001</td>\n",
       "      <td>0.40</td>\n",
       "      <td>0.212</td>\n",
       "      <td>32.5</td>\n",
       "      <td>-0.065</td>\n",
       "    </tr>\n",
       "    <tr>\n",
       "      <th>7</th>\n",
       "      <td>0.75</td>\n",
       "      <td>0.000</td>\n",
       "      <td>0.50</td>\n",
       "      <td>0.232</td>\n",
       "      <td>35.0</td>\n",
       "      <td>-0.071</td>\n",
       "    </tr>\n",
       "    <tr>\n",
       "      <th>8</th>\n",
       "      <td>1.00</td>\n",
       "      <td>-0.002</td>\n",
       "      <td>0.60</td>\n",
       "      <td>0.249</td>\n",
       "      <td>37.5</td>\n",
       "      <td>-0.077</td>\n",
       "    </tr>\n",
       "    <tr>\n",
       "      <th>9</th>\n",
       "      <td>1.50</td>\n",
       "      <td>-0.011</td>\n",
       "      <td>0.70</td>\n",
       "      <td>0.262</td>\n",
       "      <td>40.0</td>\n",
       "      <td>-0.084</td>\n",
       "    </tr>\n",
       "    <tr>\n",
       "      <th>10</th>\n",
       "      <td>2.00</td>\n",
       "      <td>-0.025</td>\n",
       "      <td>1.00</td>\n",
       "      <td>0.290</td>\n",
       "      <td>42.5</td>\n",
       "      <td>-0.091</td>\n",
       "    </tr>\n",
       "    <tr>\n",
       "      <th>11</th>\n",
       "      <td>2.50</td>\n",
       "      <td>-0.044</td>\n",
       "      <td>1.30</td>\n",
       "      <td>0.307</td>\n",
       "      <td>45.0</td>\n",
       "      <td>-0.100</td>\n",
       "    </tr>\n",
       "    <tr>\n",
       "      <th>12</th>\n",
       "      <td>3.00</td>\n",
       "      <td>-0.068</td>\n",
       "      <td>1.50</td>\n",
       "      <td>0.316</td>\n",
       "      <td>47.5</td>\n",
       "      <td>-0.109</td>\n",
       "    </tr>\n",
       "    <tr>\n",
       "      <th>13</th>\n",
       "      <td>4.00</td>\n",
       "      <td>-0.130</td>\n",
       "      <td>1.78</td>\n",
       "      <td>0.325</td>\n",
       "      <td>50.0</td>\n",
       "      <td>-0.118</td>\n",
       "    </tr>\n",
       "    <tr>\n",
       "      <th>14</th>\n",
       "      <td>5.00</td>\n",
       "      <td>-0.214</td>\n",
       "      <td>2.00</td>\n",
       "      <td>0.331</td>\n",
       "      <td>55.0</td>\n",
       "      <td>-0.141</td>\n",
       "    </tr>\n",
       "    <tr>\n",
       "      <th>15</th>\n",
       "      <td>6.00</td>\n",
       "      <td>-0.317</td>\n",
       "      <td>3.00</td>\n",
       "      <td>0.347</td>\n",
       "      <td>60.0</td>\n",
       "      <td>-0.166</td>\n",
       "    </tr>\n",
       "  </tbody>\n",
       "</table>\n",
       "</div>"
      ],
      "text/plain": [
       "     SST      s   CHL      c   L_i      l\n",
       "0  -2.00 -0.056  0.00  0.000  10.0 -0.052\n",
       "1  -1.00 -0.018  0.04  0.042  15.0 -0.050\n",
       "2  -0.50 -0.006  0.07  0.068  20.0 -0.050\n",
       "3  -0.25 -0.003  0.10  0.090  25.0 -0.054\n",
       "4   0.00  0.000  0.20  0.146  27.5 -0.057\n",
       "5   0.25  0.001  0.30  0.184  30.0 -0.061\n",
       "6   0.50  0.001  0.40  0.212  32.5 -0.065\n",
       "7   0.75  0.000  0.50  0.232  35.0 -0.071\n",
       "8   1.00 -0.002  0.60  0.249  37.5 -0.077\n",
       "9   1.50 -0.011  0.70  0.262  40.0 -0.084\n",
       "10  2.00 -0.025  1.00  0.290  42.5 -0.091\n",
       "11  2.50 -0.044  1.30  0.307  45.0 -0.100\n",
       "12  3.00 -0.068  1.50  0.316  47.5 -0.109\n",
       "13  4.00 -0.130  1.78  0.325  50.0 -0.118\n",
       "14  5.00 -0.214  2.00  0.331  55.0 -0.141\n",
       "15  6.00 -0.317  3.00  0.347  60.0 -0.166"
      ]
     },
     "execution_count": 41,
     "metadata": {},
     "output_type": "execute_result"
    }
   ],
   "source": [
    "df"
   ]
  },
  {
   "cell_type": "code",
   "execution_count": 9,
   "metadata": {},
   "outputs": [],
   "source": [
    "from matplotlib import style\n",
    "style.use('ggplot')"
   ]
  },
  {
   "cell_type": "code",
   "execution_count": 37,
   "metadata": {},
   "outputs": [
    {
     "data": {
      "image/png": "[encoded data removed]",
      "text/plain": [
       "<Figure size 1440x360 with 3 Axes>"
      ]
     },
     "metadata": {},
     "output_type": "display_data"
    }
   ],
   "source": [
    "fig = plt.figure(figsize=(20,5))\n",
    "\n",
    "ax1 = fig.add_subplot(131)\n",
    "ax1.set_title('KGP w.r.t. Length')\n",
    "ax1.plot(df.L_i, df.l, color ='purple')\n",
    "ax1.vlines(40, -0.166, -0.052 , color='black', linestyle = 'dashed', label = 'average adult')\n",
    "plt.xlabel(\"starting length (mm)\")\n",
    "plt.ylabel(\"KGP mm day$^{-1}$\")\n",
    "plt.legend()\n",
    "plt.gca();\n",
    "\n",
    "ax2 = fig.add_subplot(132)\n",
    "ax2.set_title('KGP w.r.t. Chlorophyll')\n",
    "ax2.plot(df.CHL, df.c, color = 'darkgreen')\n",
    "#ax2.vlines(0.5, 0, .35, color='red', linestyle = 'dashed', label = 'growth threshold')\n",
    "ax2.vlines(1, 0, .35, color='green', linestyle = 'dashed', label = 'optimal growth')\n",
    "plt.xlabel(\"Chl-a (mg m$^{-3}$)\")\n",
    "plt.ylabel(\"KGP mm day$^{-1}$\")\n",
    "plt.legend(loc = 'lower right')\n",
    "plt.gca()\n",
    "\n",
    "ax3 = fig.add_subplot(133)\n",
    "ax3.set_title('KGP w.r.t. SST')\n",
    "ax3.plot(df.SST, df.s, '-b')\n",
    "ax3.vlines([-0.95,5], -0.32, 0 , color='black', linestyle = 'solid', label = 'temp range')\n",
    "ax3.vlines([-1,2], -0.32, 0 , color='green', linestyle = 'dashed', label = 'optimal range')\n",
    "plt.legend()\n",
    "plt.xlabel(\"SST (°C)\")\n",
    "plt.ylabel(\"KGP mm day$^{-1}$\")\n",
    "plt.gca()\n",
    "\n",
    "plt.savefig('KGP with respect to terms.png')"
   ]
  },
  {
   "cell_type": "markdown",
   "metadata": {},
   "source": [
    "### Single Plots"
   ]
  },
  {
   "cell_type": "code",
   "execution_count": 35,
   "metadata": {},
   "outputs": [
    {
     "data": {
      "image/png": "[encoded data removed]",
      "text/plain": [
       "<Figure size 720x360 with 1 Axes>"
      ]
     },
     "metadata": {},
     "output_type": "display_data"
    }
   ],
   "source": [
    "fig = plt.figure(figsize=(10,5))\n",
    "\n",
    "ax2 = fig.add_subplot(111)\n",
    "ax2.set_title('KGP w.r.t. Chlorophyll')\n",
    "ax2.plot(df.CHL, df.c, color = 'darkgreen')\n",
    "ax2.vlines(1, 0, .35, color='green', linestyle = 'dashed', label = 'optimal growth')\n",
    "plt.xlabel(\"Chl-a (mg m$^{-3}$)\")\n",
    "plt.ylabel(\"KGP mm day$^{-1}$\")\n",
    "plt.legend(loc = 'lower right')\n",
    "plt.gca()\n",
    "\n",
    "plt.savefig('figures/KGP with respect to chl.png')"
   ]
  },
  {
   "cell_type": "code",
   "execution_count": 40,
   "metadata": {},
   "outputs": [
    {
     "data": {
      "image/png": "[encoded data removed]",
      "text/plain": [
       "<Figure size 720x360 with 1 Axes>"
      ]
     },
     "metadata": {},
     "output_type": "display_data"
    }
   ],
   "source": [
    "fig = plt.figure(figsize=(10,5))\n",
    "\n",
    "ax3 = fig.add_subplot(111)\n",
    "ax3.set_title('KGP w.r.t. SST')\n",
    "ax3.plot(df.SST, df.s, '-b')\n",
    "ax3.vlines([-0.95,5], -0.32, 0 , color='black', linestyle = 'solid', label = 'survival range')\n",
    "ax3.vlines([-1,2], -0.32, 0 , color='green', linestyle = 'dashed', label = 'optimal range')                             \n",
    "plt.legend()\n",
    "plt.xlabel(\"SST (°C)\")\n",
    "plt.ylabel(\"KGP mm day$^{-1}$\")\n",
    "plt.gca()\n",
    "\n",
    "plt.savefig('figures/KGP with respect to sst.png')"
   ]
  },
  {
   "cell_type": "code",
   "execution_count": null,
   "metadata": {},
   "outputs": [],
   "source": []
  },
  {
   "cell_type": "code",
   "execution_count": 6,
   "metadata": {},
   "outputs": [
    {
     "name": "stdout",
     "output_type": "stream",
     "text": [
      "length term: -0.084\n",
      "chl term: 1.559\n",
      "sst term: -0.002\n",
      "DGR Test Case: 1.47\n"
     ]
    }
   ],
   "source": [
    "#test conditions\n",
    "length = 40\n",
    "sst = 1\n",
    "chl = 1\n",
    "\n",
    "#DGR Expression\n",
    "length_term = a + (b * length) + (c * length**2)\n",
    "chl_term = d * (chl / e + chl)\n",
    "sst_term = f * sst + g * sst**2\n",
    "print('length term:', np.round(length_term, 3)) \n",
    "print('chl term:', np.round(chl_term, 3))\n",
    "print('sst term:', np.round(sst_term, 3))\n",
    "\n",
    "DGR = length_term + chl_term + sst_term\n",
    "print('DGR Test Case:', np.round(DGR,2))"
   ]
  },
  {
   "cell_type": "markdown",
   "metadata": {},
   "source": [
    "___\n",
    "### Goal: \n",
    "#### evaluate the function to calculate KGP in the same dimensions of an ensemble member:\n"
   ]
  },
  {
   "cell_type": "code",
   "execution_count": 82,
   "metadata": {},
   "outputs": [],
   "source": [
    "def compute_kgp(ds, length):\n",
    "    \"\"\"Compute Krill Growth Potential \n",
    "    \n",
    "    Natural growth rates in Antarctic krill (Euphausia superba): II. Predictive \n",
    "    models based on food, temperature, body length, sex, and maturity \n",
    "    stage doi: 10.4319/lo.2006.51.2.0973 \n",
    "    A Atkinson, RS Shreeve, AG Hirst, P Rothery, GA Tarling \n",
    "    Limnol Oceanogr, 2006 \n",
    "    \n",
    "    Oceanic circumpolar habitats of Antarctic krill \n",
    "    doi: 10.3354/meps07498 \n",
    "    A Atkinson, V Siegel, EA Pakhomov, P Rothery, V Loeb \n",
    "    Mar Ecol Prog Ser, 2008\n",
    "    \n",
    "    \"\"\"\n",
    "    \n",
    "    # specify coefs\n",
    "    a = -0.066\n",
    "    b = 0.002\n",
    "    c = -0.000061\n",
    "    d = 0.385\n",
    "    e = 0.328\n",
    "    f = 0.0078\n",
    "    g = -0.0101\n",
    "    \n",
    "    # local pointers\n",
    "    sst = ds.SST\n",
    "    chl = ds.Chl_surf\n",
    "        \n",
    "    # compute terms and sum\n",
    "    length_term = a + (b * length) + (c * length**2)\n",
    "    chl_term = d * chl / (e + chl)    \n",
    "    sst_term = f * sst + g * sst**2    \n",
    "    kgp = length_term + chl_term + sst_term\n",
    "   \n",
    "    ds['KGP'] = kgp\n",
    "    return ds"
   ]
  },
  {
   "cell_type": "code",
   "execution_count": 134,
   "metadata": {},
   "outputs": [],
   "source": [
    "def test_compute(ds, length):\n",
    "    \"\"\"Compute Krill Growth Potential \n",
    "    doi: 10.3354/meps07498 \n",
    "    EQUATION:\n",
    "    a + (b*L) + (c*L^2) + (d*C/(e+C)) + (f*S) + (g*S^2)\n",
    "    \n",
    "    \"\"\"\n",
    "    # specify coefs\n",
    "    a = -0.066\n",
    "    b = 0.002\n",
    "    c = -0.000061\n",
    "    d = 0.385\n",
    "    e = 0.328\n",
    "    f = 0.0078\n",
    "    g = -0.0101\n",
    "    \n",
    "    # parameter s.e.\n",
    "    ae = 0.165\n",
    "    be = 0.0066\n",
    "    ce = -0.000077\n",
    "    de = 0.091\n",
    "    ee = 0.246\n",
    "    fe = 0.017\n",
    "    ge = -0.00045\n",
    "    \n",
    "    # local pointers\n",
    "    sst = ds.SST\n",
    "    chl = ds.Chl_surf\n",
    "        \n",
    "    # compute terms and sum\n",
    "    length_term = a + (b * length) + (c * length**2)\n",
    "    chl_term = (d * (chl / (e + chl)))    \n",
    "    sst_term = (f * sst) + (g * sst**2)    \n",
    "    #error = ae + be + ce + de + ee + fe + ge\n",
    "    bad_idea = (.21 - .15)\n",
    "    \n",
    "    kgp = length_term + chl_term + sst_term + bad_idea #+ error\n",
    "    \n",
    "    ds['KGP'] = kgp\n",
    "    return ds"
   ]
  },
  {
   "cell_type": "markdown",
   "metadata": {},
   "source": [
    "### Test Equations Based on Table S4 Murphy 2017:\n",
    "Estimated growth rate of 40 mm krill for the mean parameterisation and for ± 1 s.e (Table S3). \n",
    "Values were estimated at SST of 0.5o C and a chlorophyll concentration of 0.5 mg m-3 :\n",
    "\n",
    "DGR = 0.21 mm d$^{-1}$\n",
    "\n",
    "-1 s.e. = -0.12\n",
    "\n",
    "+1 s.e. = 0.53"
   ]
  },
  {
   "cell_type": "code",
   "execution_count": 135,
   "metadata": {},
   "outputs": [
    {
     "name": "stdout",
     "output_type": "stream",
     "text": [
      "current equation DGR @ .5: 0    0.150263\n",
      "Name: KGP, dtype: float64\n",
      "updated equation DGR @ .5: 0    0.210263\n",
      "Name: KGP, dtype: float64\n",
      "updated equation DGR @ .5: 0    0.243463\n",
      "Name: KGP, dtype: float64\n",
      "updated equation DGR @ .5: 0    0.128263\n",
      "Name: KGP, dtype: float64\n"
     ]
    }
   ],
   "source": [
    "# Make Fake Data with Controls:\n",
    "data = {'SST': np.linspace(.5, .5, 1),\n",
    "        'Chl_surf': np.linspace(.5, .5, 1) } \n",
    "\n",
    "# Create DataFrames \n",
    "murphy = pd.DataFrame(data)\n",
    "\n",
    "kgp_murphy = compute_kgp(murphy, 40)\n",
    "print('current equation DGR @ .5:', kgp_murphy.KGP)\n",
    "\n",
    "kgp_murphy2 = test_compute(murphy, 40)\n",
    "print('updated equation DGR @ .5:', kgp_murphy2.KGP)\n",
    "\n",
    "\n",
    "kgp_murphy20 = test_compute(murphy, 20)\n",
    "print('updated equation DGR @ .5:', kgp_murphy20.KGP)\n",
    "kgp_murphy60 = test_compute(murphy, 60)\n",
    "print('updated equation DGR @ .5:', kgp_murphy60.KGP)\n"
   ]
  },
  {
   "cell_type": "markdown",
   "metadata": {},
   "source": [
    "## Test it again with 1's instead of .5 to check where things are going wrong"
   ]
  },
  {
   "cell_type": "code",
   "execution_count": 136,
   "metadata": {},
   "outputs": [
    {
     "name": "stdout",
     "output_type": "stream",
     "text": [
      "current equation DGR @ 1: 0    0.20401\n",
      "Name: KGP, dtype: float64\n",
      "updated equation DGR @ 1: 0    0.26401\n",
      "Name: KGP, dtype: float64\n"
     ]
    }
   ],
   "source": [
    "# Make Fake Data with Controls:\n",
    "data2 = {'SST': np.linspace(1, 1, 1),\n",
    "        'Chl_surf': np.linspace(1, 1, 1) } \n",
    "\n",
    "# Create DataFrames \n",
    "murphy1 = pd.DataFrame(data2)\n",
    "\n",
    "kgp_murphy3 = compute_kgp(murphy1, 40)\n",
    "print('current equation DGR @ 1:', kgp_murphy3.KGP)\n",
    "\n",
    "kgp_murphy4 = test_compute(murphy1, 40)\n",
    "print('updated equation DGR @ 1:', kgp_murphy4.KGP)"
   ]
  },
  {
   "cell_type": "markdown",
   "metadata": {},
   "source": [
    "\n",
    "___\n",
    "## Make Hypothetical Datasets to test:\n",
    "krill length = 40 \n",
    "1. KGP wrt SST **constant chl** @ 1 mg; sst varies between -1 and 5\n",
    "2. KGP wrt Chl **constant sst** @ 1°C; chl varies between 0 and 5 mg"
   ]
  },
  {
   "cell_type": "code",
   "execution_count": 137,
   "metadata": {},
   "outputs": [],
   "source": [
    "# Make Fake Data with Controls:\n",
    "data_sst = {'SST': np.linspace(-1, 5, 50),\n",
    "        'Chl_surf': np.linspace(.5, .5, 50) } \n",
    "\n",
    "data_chl = {'SST': np.linspace(.5, .5, 50),\n",
    "        'Chl_surf': np.linspace(0, 5, 50) } \n",
    "\n",
    "# Create DataFrames \n",
    "const_sst = pd.DataFrame(data_sst)\n",
    "const_chl = pd.DataFrame(data_chl)\n",
    "#df_b.head()"
   ]
  },
  {
   "cell_type": "markdown",
   "metadata": {},
   "source": [
    "#### Compute KGP wrt both vars and both computations:"
   ]
  },
  {
   "cell_type": "code",
   "execution_count": 138,
   "metadata": {},
   "outputs": [],
   "source": [
    "kgp_chl = compute_kgp(const_chl, 40)\n",
    "\n",
    "kgp_sst = compute_kgp(const_sst, 40)\n"
   ]
  },
  {
   "cell_type": "code",
   "execution_count": 139,
   "metadata": {},
   "outputs": [],
   "source": [
    "# Make Fake Data with Controls:\n",
    "data_sst2 = {'SST': np.linspace(-1, 5, 50),\n",
    "        'Chl_surf': np.linspace(.5, .5, 50) } \n",
    "\n",
    "data_chl2 = {'SST': np.linspace(.5, .5, 50),\n",
    "        'Chl_surf': np.linspace(0, 5, 50) } \n",
    "\n",
    "# Create DataFrames \n",
    "const_sst2 = pd.DataFrame(data_sst2)\n",
    "const_chl2 = pd.DataFrame(data_chl2)\n",
    "#df_b.head()"
   ]
  },
  {
   "cell_type": "code",
   "execution_count": 140,
   "metadata": {},
   "outputs": [],
   "source": [
    "kgp_chl_test = test_compute(const_chl2, 40)\n",
    "kgp_sst_test = test_compute(const_sst2, 40)"
   ]
  },
  {
   "cell_type": "markdown",
   "metadata": {},
   "source": [
    "## Visualize the differences:"
   ]
  },
  {
   "cell_type": "code",
   "execution_count": 141,
   "metadata": {},
   "outputs": [
    {
     "data": {
      "text/plain": [
       "<matplotlib.axes._subplots.AxesSubplot at 0x2b5f7fd02a10>"
      ]
     },
     "execution_count": 141,
     "metadata": {},
     "output_type": "execute_result"
    },
    {
     "data": {
      "image/png": "[encoded data removed]",
      "text/plain": [
       "<Figure size 720x360 with 1 Axes>"
      ]
     },
     "metadata": {
      "needs_background": "light"
     },
     "output_type": "display_data"
    }
   ],
   "source": [
    "fig = plt.figure(figsize=(10,5))\n",
    "\n",
    "ax = fig.add_subplot(111)\n",
    "ax.set_title('KGP w.r.t. Temperature \\n (chl kept constant @ 1mg)')\n",
    "\n",
    "ax.plot(kgp_sst.SST, kgp_sst.KGP, color = 'blue',\n",
    "         alpha = .8, linewidth = 4,\n",
    "         solid_capstyle='round', label = 'current equation')\n",
    "\n",
    "ax.plot(kgp_sst_test.SST, kgp_sst_test.KGP, color = 'skyblue',\n",
    "         alpha = .8, linewidth = 4, linestyle = 'dashed',\n",
    "         solid_capstyle='round', label = 'updated equation')\n",
    "\n",
    "plt.xlabel(\"SST °C\")\n",
    "plt.ylabel(\"KGP mm day$^{-1}$\")\n",
    "plt.legend()\n",
    "plt.gca()\n",
    "\n",
    "#plt.savefig('figures/KGP with respect to chl.png')"
   ]
  },
  {
   "cell_type": "code",
   "execution_count": 142,
   "metadata": {},
   "outputs": [
    {
     "data": {
      "text/plain": [
       "<matplotlib.axes._subplots.AxesSubplot at 0x2b5f847085d0>"
      ]
     },
     "execution_count": 142,
     "metadata": {},
     "output_type": "execute_result"
    },
    {
     "data": {
      "image/png": "[encoded data removed]",
      "text/plain": [
       "<Figure size 720x360 with 1 Axes>"
      ]
     },
     "metadata": {
      "needs_background": "light"
     },
     "output_type": "display_data"
    }
   ],
   "source": [
    "fig = plt.figure(figsize=(10,5))\n",
    "\n",
    "ax2 = fig.add_subplot(111)\n",
    "ax2.set_title('KGP w.r.t. Chl Conc. \\n (sst kept constant @ 1°C)')\n",
    "ax2.plot(kgp_chl.Chl_surf, kgp_chl.KGP, color = 'darkgreen',\n",
    "         alpha = .8, linewidth = 4, \n",
    "         solid_capstyle='round', label = 'current equation')\n",
    "\n",
    "ax2.plot(kgp_chl_test.Chl_surf, kgp_chl_test.KGP, color = 'lightgreen',\n",
    "         alpha = .8, linewidth = 4, linestyle = 'dashed',\n",
    "         solid_capstyle='round', label = 'updated equation')\n",
    "\n",
    "#plt.xlabel(\"SST °C\")\n",
    "plt.xlabel(\"Chl-a (mg m$^{-3}$)\")\n",
    "plt.ylabel(\"KGP mm day$^{-1}$\")\n",
    "plt.legend(loc = 'lower right')\n",
    "plt.gca()\n",
    "\n",
    "#plt.savefig('figures/KGP with respect to chl.png')"
   ]
  },
  {
   "cell_type": "code",
   "execution_count": 39,
   "metadata": {},
   "outputs": [],
   "source": [
    "def compute_kgp_test2(ds, length):\n",
    "    \"\"\"Compute Krill Growth Potential \n",
    "    doi: 10.3354/meps07498 \n",
    "    \"\"\"\n",
    "    # specify coefs\n",
    "    a = -0.066\n",
    "    b = 0.002\n",
    "    c = -0.000061\n",
    "    d = 0.385\n",
    "    e = 0.328\n",
    "    f = 0.0078\n",
    "    g = -0.0101\n",
    "    \n",
    "    # parameter s.e.\n",
    "    ae = 0.165\n",
    "    be = 0.0066\n",
    "    ce = -0.000077\n",
    "    de = 0.091\n",
    "    ee = 0.246\n",
    "    fe = 0.017\n",
    "    ge = -0.00045\n",
    "    \n",
    "    # local pointers\n",
    "    sst = ds.SST\n",
    "    chl = ds.Chl_surf\n",
    "        \n",
    "    # compute terms and sum\n",
    "    length_term = a + b * length + c * length**2\n",
    "    chl_term = d * (chl / (e + chl))    \n",
    "    sst_term = f * sst + g * sst**2    \n",
    "    kgp = length_term + chl_term + sst_term\n",
    "    kgp.name = 'KGP'\n",
    "   \n",
    "    ds['KGP'] = kgp\n",
    "    return ds"
   ]
  },
  {
   "cell_type": "code",
   "execution_count": 34,
   "metadata": {},
   "outputs": [],
   "source": [
    "# Murphy Test"
   ]
  },
  {
   "cell_type": "code",
   "execution_count": 47,
   "metadata": {},
   "outputs": [
    {
     "name": "stdout",
     "output_type": "stream",
     "text": [
      "current equation DGR @ .5: 0    0.155313\n",
      "Name: KGP, dtype: float64\n",
      "updated equation DGR @ .5: 0    0.150263\n",
      "Name: KGP, dtype: float64\n",
      "current equation DGR @ 1: 0    0.22421\n",
      "Name: KGP, dtype: float64\n",
      "updated equation DGR @ 1: 0    0.20401\n",
      "Name: KGP, dtype: float64\n"
     ]
    }
   ],
   "source": []
  },
  {
   "cell_type": "code",
   "execution_count": 36,
   "metadata": {},
   "outputs": [
    {
     "data": {
      "text/html": [
       "<div>\n",
       "<style scoped>\n",
       "    .dataframe tbody tr th:only-of-type {\n",
       "        vertical-align: middle;\n",
       "    }\n",
       "\n",
       "    .dataframe tbody tr th {\n",
       "        vertical-align: top;\n",
       "    }\n",
       "\n",
       "    .dataframe thead th {\n",
       "        text-align: right;\n",
       "    }\n",
       "</style>\n",
       "<table border=\"1\" class=\"dataframe\">\n",
       "  <thead>\n",
       "    <tr style=\"text-align: right;\">\n",
       "      <th></th>\n",
       "      <th>SST</th>\n",
       "      <th>Chl_surf</th>\n",
       "    </tr>\n",
       "  </thead>\n",
       "  <tbody>\n",
       "    <tr>\n",
       "      <th>0</th>\n",
       "      <td>1.0</td>\n",
       "      <td>1.0</td>\n",
       "    </tr>\n",
       "  </tbody>\n",
       "</table>\n",
       "</div>"
      ],
      "text/plain": [
       "   SST  Chl_surf\n",
       "0  1.0       1.0"
      ]
     },
     "execution_count": 36,
     "metadata": {},
     "output_type": "execute_result"
    }
   ],
   "source": []
  },
  {
   "cell_type": "code",
   "execution_count": 37,
   "metadata": {},
   "outputs": [
    {
     "data": {
      "text/html": [
       "<div>\n",
       "<style scoped>\n",
       "    .dataframe tbody tr th:only-of-type {\n",
       "        vertical-align: middle;\n",
       "    }\n",
       "\n",
       "    .dataframe tbody tr th {\n",
       "        vertical-align: top;\n",
       "    }\n",
       "\n",
       "    .dataframe thead th {\n",
       "        text-align: right;\n",
       "    }\n",
       "</style>\n",
       "<table border=\"1\" class=\"dataframe\">\n",
       "  <thead>\n",
       "    <tr style=\"text-align: right;\">\n",
       "      <th></th>\n",
       "      <th>SST</th>\n",
       "      <th>Chl_surf</th>\n",
       "      <th>KGP</th>\n",
       "    </tr>\n",
       "  </thead>\n",
       "  <tbody>\n",
       "    <tr>\n",
       "      <th>0</th>\n",
       "      <td>0.5</td>\n",
       "      <td>0.5</td>\n",
       "      <td>0.155313</td>\n",
       "    </tr>\n",
       "  </tbody>\n",
       "</table>\n",
       "</div>"
      ],
      "text/plain": [
       "   SST  Chl_surf       KGP\n",
       "0  0.5       0.5  0.155313"
      ]
     },
     "execution_count": 37,
     "metadata": {},
     "output_type": "execute_result"
    }
   ],
   "source": [
    "kgp_murphy = compute_kgp(murphy, 40)\n",
    "kgp_murphy"
   ]
  },
  {
   "cell_type": "code",
   "execution_count": 38,
   "metadata": {},
   "outputs": [
    {
     "data": {
      "text/html": [
       "<div>\n",
       "<style scoped>\n",
       "    .dataframe tbody tr th:only-of-type {\n",
       "        vertical-align: middle;\n",
       "    }\n",
       "\n",
       "    .dataframe tbody tr th {\n",
       "        vertical-align: top;\n",
       "    }\n",
       "\n",
       "    .dataframe thead th {\n",
       "        text-align: right;\n",
       "    }\n",
       "</style>\n",
       "<table border=\"1\" class=\"dataframe\">\n",
       "  <thead>\n",
       "    <tr style=\"text-align: right;\">\n",
       "      <th></th>\n",
       "      <th>SST</th>\n",
       "      <th>Chl_surf</th>\n",
       "      <th>KGP</th>\n",
       "    </tr>\n",
       "  </thead>\n",
       "  <tbody>\n",
       "    <tr>\n",
       "      <th>0</th>\n",
       "      <td>0.5</td>\n",
       "      <td>0.5</td>\n",
       "      <td>0.150263</td>\n",
       "    </tr>\n",
       "  </tbody>\n",
       "</table>\n",
       "</div>"
      ],
      "text/plain": [
       "   SST  Chl_surf       KGP\n",
       "0  0.5       0.5  0.150263"
      ]
     },
     "execution_count": 38,
     "metadata": {},
     "output_type": "execute_result"
    }
   ],
   "source": [
    "kgp_murphy2 = compute_kgp_test(murphy, 40)\n",
    "kgp_murphy2"
   ]
  },
  {
   "cell_type": "code",
   "execution_count": null,
   "metadata": {},
   "outputs": [],
   "source": []
  },
  {
   "cell_type": "code",
   "execution_count": null,
   "metadata": {},
   "outputs": [],
   "source": []
  }
 ],
 "metadata": {
  "kernelspec": {
   "display_name": "Python [conda env:miniconda3-krill]",
   "language": "python",
   "name": "conda-env-miniconda3-krill-py"
  },
  "language_info": {
   "codemirror_mode": {
    "name": "ipython",
    "version": 3
   },
   "file_extension": ".py",
   "mimetype": "text/x-python",
   "name": "python",
   "nbconvert_exporter": "python",
   "pygments_lexer": "ipython3",
   "version": "3.7.6"
  }
 },
 "nbformat": 4,
 "nbformat_minor": 4
}

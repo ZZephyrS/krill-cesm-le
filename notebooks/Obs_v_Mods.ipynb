{
 "cells": [
  {
   "cell_type": "markdown",
   "metadata": {},
   "source": [
    "# Comparing Chl between SeaWIFS and CESM-LE Output\n",
    "1. load data\n",
    "2. regrid data\n",
    "3. compare"
   ]
  },
  {
   "cell_type": "code",
   "execution_count": 45,
   "metadata": {},
   "outputs": [],
   "source": [
    "%matplotlib inline\n",
    "import os\n",
    "from glob import glob\n",
    "\n",
    "import calendar\n",
    "import numpy as np\n",
    "import xarray as xr\n",
    "import xesmf as xe\n",
    "\n",
    "import matplotlib.pyplot as plt\n",
    "import matplotlib.colors as colors\n",
    "import matplotlib.gridspec as gridspec\n",
    "import matplotlib.path as mpath\n",
    "\n",
    "import cartopy.crs as ccrs\n",
    "from cartopy.util import add_cyclic_point\n",
    "import cmocean\n",
    "\n",
    "import util"
   ]
  },
  {
   "cell_type": "code",
   "execution_count": 22,
   "metadata": {},
   "outputs": [
    {
     "name": "stdout",
     "output_type": "stream",
     "text": [
      "obs data shape: (12, 2160, 4320) model data shape: (12, 384, 320)\n"
     ]
    }
   ],
   "source": [
    "#Load Model Output from Compressed File processed in cesm-initial-look script\n",
    "dsmod = xr.open_zarr('data/cesm-le-sst-chl.zarr').compute()\n",
    "#Load Observational Data from Compressed File processed in Seawifs script\n",
    "dsobs = xr.open_zarr('data/seawifs/monthly_climatology/chl_gsm/seawifs_L3m_MC_GSM_chl_gsm_9km_global.zarr').compute()"
   ]
  },
  {
   "cell_type": "code",
   "execution_count": 33,
   "metadata": {},
   "outputs": [
    {
     "data": {
      "text/html": [
       "<pre>&lt;xarray.Dataset&gt;\n",
       "Dimensions:   (month: 12, nlat: 384, nlon: 320, z_t: 60, z_t_150m: 15)\n",
       "Coordinates:\n",
       "    TLAT      (nlat, nlon) float64 -79.22 -79.22 -79.22 ... 72.2 72.19 72.19\n",
       "    TLONG     (nlat, nlon) float64 320.6 321.7 322.8 323.9 ... 318.9 319.4 319.8\n",
       "  * month     (month) int64 1 2 3 4 5 6 7 8 9 10 11 12\n",
       "  * z_t       (z_t) float32 500.0 1500.0 2500.0 ... 487508.34 512502.8 537500.0\n",
       "  * z_t_150m  (z_t_150m) float32 500.0 1500.0 2500.0 ... 12500.0 13500.0 14500.0\n",
       "Dimensions without coordinates: nlat, nlon\n",
       "Data variables:\n",
       "    Chl_surf  (month, nlat, nlon) float32 nan nan nan nan ... nan nan nan nan\n",
       "    KMT       (nlat, nlon) float64 0.0 0.0 0.0 0.0 0.0 ... 0.0 0.0 0.0 0.0 0.0\n",
       "    SST       (month, nlat, nlon) float32 nan nan nan nan ... nan nan nan nan\n",
       "    TAREA     (nlat, nlon) float64 1.125e+13 1.125e+13 ... 7.431e+12 7.432e+12\n",
       "    dz        (z_t) float32 1000.0 1000.0 1000.0 ... 24996.244 24998.11</pre>"
      ],
      "text/plain": [
       "<xarray.Dataset>\n",
       "Dimensions:   (month: 12, nlat: 384, nlon: 320, z_t: 60, z_t_150m: 15)\n",
       "Coordinates:\n",
       "    TLAT      (nlat, nlon) float64 -79.22 -79.22 -79.22 ... 72.2 72.19 72.19\n",
       "    TLONG     (nlat, nlon) float64 320.6 321.7 322.8 323.9 ... 318.9 319.4 319.8\n",
       "  * month     (month) int64 1 2 3 4 5 6 7 8 9 10 11 12\n",
       "  * z_t       (z_t) float32 500.0 1500.0 2500.0 ... 487508.34 512502.8 537500.0\n",
       "  * z_t_150m  (z_t_150m) float32 500.0 1500.0 2500.0 ... 12500.0 13500.0 14500.0\n",
       "Dimensions without coordinates: nlat, nlon\n",
       "Data variables:\n",
       "    Chl_surf  (month, nlat, nlon) float32 nan nan nan nan ... nan nan nan nan\n",
       "    KMT       (nlat, nlon) float64 0.0 0.0 0.0 0.0 0.0 ... 0.0 0.0 0.0 0.0 0.0\n",
       "    SST       (month, nlat, nlon) float32 nan nan nan nan ... nan nan nan nan\n",
       "    TAREA     (nlat, nlon) float64 1.125e+13 1.125e+13 ... 7.431e+12 7.432e+12\n",
       "    dz        (z_t) float32 1000.0 1000.0 1000.0 ... 24996.244 24998.11"
      ]
     },
     "execution_count": 33,
     "metadata": {},
     "output_type": "execute_result"
    }
   ],
   "source": [
    "dsmod"
   ]
  },
  {
   "cell_type": "code",
   "execution_count": 34,
   "metadata": {},
   "outputs": [
    {
     "data": {
      "text/html": [
       "<pre>&lt;xarray.Dataset&gt;\n",
       "Dimensions:  (lat: 2160, lon: 4320, month: 12)\n",
       "Coordinates:\n",
       "  * lat      (lat) float64 89.96 89.88 89.79 89.71 ... -89.79 -89.88 -89.96\n",
       "  * lon      (lon) float64 -180.0 -179.9 -179.8 -179.7 ... 179.8 179.9 180.0\n",
       "  * month    (month) &lt;U3 &#x27;Jan&#x27; &#x27;Feb&#x27; &#x27;Mar&#x27; &#x27;Apr&#x27; ... &#x27;Sep&#x27; &#x27;Oct&#x27; &#x27;Nov&#x27; &#x27;Dec&#x27;\n",
       "Data variables:\n",
       "    area     (lat, lon) float64 6.244e+04 6.244e+04 ... 6.244e+04 6.244e+04\n",
       "    chl_gsm  (month, lat, lon) float32 nan nan nan nan nan ... nan nan nan nan\n",
       "Attributes:\n",
       "    Conventions:                       CF-1.6 ACDD-1.3\n",
       "    _lastModified:                     2018-02-01T11:55:18.000Z\n",
       "    cdm_data_type:                     grid\n",
       "    creator_email:                     data@oceancolor.gsfc.nasa.gov\n",
       "    creator_name:                      NASA/GSFC/OBPG\n",
       "    creator_url:                       http://oceandata.sci.gsfc.nasa.gov\n",
       "    data_bins:                         4918763\n",
       "    data_maximum:                      203999543296.0\n",
       "    data_minimum:                      0.00019056067685596645\n",
       "    date_created:                      2018-02-01T11:55:18.000Z\n",
       "    easternmost_longitude:             180.0\n",
       "    end_orbit_number:                  66564\n",
       "    geospatial_lat_max:                90.0\n",
       "    geospatial_lat_min:                -90.0\n",
       "    geospatial_lat_resolution:         9.27662467956543\n",
       "    geospatial_lat_units:              degrees_north\n",
       "    geospatial_lon_max:                180.0\n",
       "    geospatial_lon_min:                -180.0\n",
       "    geospatial_lon_resolution:         9.27662467956543\n",
       "    geospatial_lon_units:              degrees_east\n",
       "    grid_mapping_name:                 latitude_longitude\n",
       "    history:                           l3mapgen par=S19980012010031.L3m_MC_GS...\n",
       "    id:                                S19980012010031.L3b_MC_GSM.nc/L3/S1998...\n",
       "    identifier_product_doi:            10.5067/ORBVIEW-2/SEAWIFS/L3M/GSM/2018\n",
       "    identifier_product_doi_authority:  http://dx.doi.org\n",
       "    institution:                       NASA Goddard Space Flight Center, Ocea...\n",
       "    instrument:                        SeaWiFS\n",
       "    keywords:                          Earth Science &gt; Oceans &gt; Ocean Optics ...\n",
       "    keywords_vocabulary:               NASA Global Change Master Directory (G...\n",
       "    l2_flag_names:                     ATMFAIL,LAND,HILT,HISATZEN,STRAYLIGHT,...\n",
       "    latitude_step:                     0.0833333358168602\n",
       "    latitude_units:                    degrees_north\n",
       "    license:                           http://science.nasa.gov/earth-science/...\n",
       "    longitude_step:                    0.0833333358168602\n",
       "    longitude_units:                   degrees_east\n",
       "    map_projection:                    Equidistant Cylindrical\n",
       "    measure:                           Mean\n",
       "    naming_authority:                  gov.nasa.gsfc.sci.oceandata\n",
       "    northernmost_latitude:             90.0\n",
       "    number_of_columns:                 4320\n",
       "    number_of_lines:                   2160\n",
       "    platform:                          Orbview-2\n",
       "    processing_level:                  L3 Mapped\n",
       "    processing_version:                2018.0\n",
       "    product_name:                      S19980012010031.L3m_MC_GSM_chl_gsm_9km.nc\n",
       "    project:                           Ocean Biology Processing Group (NASA/G...\n",
       "    publisher_email:                   data@oceancolor.gsfc.nasa.gov\n",
       "    publisher_name:                    NASA/GSFC/OBPG\n",
       "    publisher_url:                     http://oceandata.sci.gsfc.nasa.gov\n",
       "    southernmost_latitude:             -90.0\n",
       "    spatialResolution:                 9.28 km\n",
       "    standard_name_vocabulary:          CF Standard Name Table v36\n",
       "    start_orbit_number:                2237\n",
       "    suggested_image_scaling_applied:   No\n",
       "    suggested_image_scaling_maximum:   20.0\n",
       "    suggested_image_scaling_minimum:   0.009999999776482582\n",
       "    suggested_image_scaling_type:      LOG\n",
       "    sw_point_latitude:                 -89.95833587646484\n",
       "    sw_point_longitude:                -179.9583282470703\n",
       "    temporal_range:                    12-year\n",
       "    time_coverage_end:                 2010-01-30T17:24:53.000Z\n",
       "    time_coverage_start:               1997-12-31T18:57:10.000Z\n",
       "    title:                             SeaWiFS Level-3 Standard Mapped Image\n",
       "    westernmost_longitude:             -180.0</pre>"
      ],
      "text/plain": [
       "<xarray.Dataset>\n",
       "Dimensions:  (lat: 2160, lon: 4320, month: 12)\n",
       "Coordinates:\n",
       "  * lat      (lat) float64 89.96 89.88 89.79 89.71 ... -89.79 -89.88 -89.96\n",
       "  * lon      (lon) float64 -180.0 -179.9 -179.8 -179.7 ... 179.8 179.9 180.0\n",
       "  * month    (month) <U3 'Jan' 'Feb' 'Mar' 'Apr' ... 'Sep' 'Oct' 'Nov' 'Dec'\n",
       "Data variables:\n",
       "    area     (lat, lon) float64 6.244e+04 6.244e+04 ... 6.244e+04 6.244e+04\n",
       "    chl_gsm  (month, lat, lon) float32 nan nan nan nan nan ... nan nan nan nan\n",
       "Attributes:\n",
       "    Conventions:                       CF-1.6 ACDD-1.3\n",
       "    _lastModified:                     2018-02-01T11:55:18.000Z\n",
       "    cdm_data_type:                     grid\n",
       "    creator_email:                     data@oceancolor.gsfc.nasa.gov\n",
       "    creator_name:                      NASA/GSFC/OBPG\n",
       "    creator_url:                       http://oceandata.sci.gsfc.nasa.gov\n",
       "    data_bins:                         4918763\n",
       "    data_maximum:                      203999543296.0\n",
       "    data_minimum:                      0.00019056067685596645\n",
       "    date_created:                      2018-02-01T11:55:18.000Z\n",
       "    easternmost_longitude:             180.0\n",
       "    end_orbit_number:                  66564\n",
       "    geospatial_lat_max:                90.0\n",
       "    geospatial_lat_min:                -90.0\n",
       "    geospatial_lat_resolution:         9.27662467956543\n",
       "    geospatial_lat_units:              degrees_north\n",
       "    geospatial_lon_max:                180.0\n",
       "    geospatial_lon_min:                -180.0\n",
       "    geospatial_lon_resolution:         9.27662467956543\n",
       "    geospatial_lon_units:              degrees_east\n",
       "    grid_mapping_name:                 latitude_longitude\n",
       "    history:                           l3mapgen par=S19980012010031.L3m_MC_GS...\n",
       "    id:                                S19980012010031.L3b_MC_GSM.nc/L3/S1998...\n",
       "    identifier_product_doi:            10.5067/ORBVIEW-2/SEAWIFS/L3M/GSM/2018\n",
       "    identifier_product_doi_authority:  http://dx.doi.org\n",
       "    institution:                       NASA Goddard Space Flight Center, Ocea...\n",
       "    instrument:                        SeaWiFS\n",
       "    keywords:                          Earth Science > Oceans > Ocean Optics ...\n",
       "    keywords_vocabulary:               NASA Global Change Master Directory (G...\n",
       "    l2_flag_names:                     ATMFAIL,LAND,HILT,HISATZEN,STRAYLIGHT,...\n",
       "    latitude_step:                     0.0833333358168602\n",
       "    latitude_units:                    degrees_north\n",
       "    license:                           http://science.nasa.gov/earth-science/...\n",
       "    longitude_step:                    0.0833333358168602\n",
       "    longitude_units:                   degrees_east\n",
       "    map_projection:                    Equidistant Cylindrical\n",
       "    measure:                           Mean\n",
       "    naming_authority:                  gov.nasa.gsfc.sci.oceandata\n",
       "    northernmost_latitude:             90.0\n",
       "    number_of_columns:                 4320\n",
       "    number_of_lines:                   2160\n",
       "    platform:                          Orbview-2\n",
       "    processing_level:                  L3 Mapped\n",
       "    processing_version:                2018.0\n",
       "    product_name:                      S19980012010031.L3m_MC_GSM_chl_gsm_9km.nc\n",
       "    project:                           Ocean Biology Processing Group (NASA/G...\n",
       "    publisher_email:                   data@oceancolor.gsfc.nasa.gov\n",
       "    publisher_name:                    NASA/GSFC/OBPG\n",
       "    publisher_url:                     http://oceandata.sci.gsfc.nasa.gov\n",
       "    southernmost_latitude:             -90.0\n",
       "    spatialResolution:                 9.28 km\n",
       "    standard_name_vocabulary:          CF Standard Name Table v36\n",
       "    start_orbit_number:                2237\n",
       "    suggested_image_scaling_applied:   No\n",
       "    suggested_image_scaling_maximum:   20.0\n",
       "    suggested_image_scaling_minimum:   0.009999999776482582\n",
       "    suggested_image_scaling_type:      LOG\n",
       "    sw_point_latitude:                 -89.95833587646484\n",
       "    sw_point_longitude:                -179.9583282470703\n",
       "    temporal_range:                    12-year\n",
       "    time_coverage_end:                 2010-01-30T17:24:53.000Z\n",
       "    time_coverage_start:               1997-12-31T18:57:10.000Z\n",
       "    title:                             SeaWiFS Level-3 Standard Mapped Image\n",
       "    westernmost_longitude:             -180.0"
      ]
     },
     "execution_count": 34,
     "metadata": {},
     "output_type": "execute_result"
    }
   ],
   "source": [
    "dsobs"
   ]
  },
  {
   "cell_type": "markdown",
   "metadata": {},
   "source": [
    "### Compare the differences in the data formats:"
   ]
  },
  {
   "cell_type": "code",
   "execution_count": 29,
   "metadata": {},
   "outputs": [
    {
     "name": "stdout",
     "output_type": "stream",
     "text": [
      "obs data shape: (12, 2160, 4320) model data shape: (12, 384, 320)\n"
     ]
    },
    {
     "data": {
      "image/png": "[encoded data removed]",
      "text/plain": [
       "<Figure size 432x288 with 2 Axes>"
      ]
     },
     "metadata": {
      "needs_background": "light"
     },
     "output_type": "display_data"
    }
   ],
   "source": [
    "#plot Observational Data:\n",
    "dsobs.chl_gsm.sel(month='Jan').plot();"
   ]
  },
  {
   "cell_type": "code",
   "execution_count": 30,
   "metadata": {},
   "outputs": [
    {
     "name": "stdout",
     "output_type": "stream",
     "text": [
      "obs data shape: (12, 2160, 4320) model data shape: (12, 384, 320)\n"
     ]
    },
    {
     "data": {
      "image/png": "[encoded data removed]",
      "text/plain": [
       "<Figure size 432x288 with 2 Axes>"
      ]
     },
     "metadata": {
      "needs_background": "light"
     },
     "output_type": "display_data"
    }
   ],
   "source": [
    "#plot CESM:\n",
    "dsmod.Chl_surf.sel(month=1).plot();\n",
    "print('obs data shape:', dsobs.chl_gsm.shape, 'model data shape:', dsmod.Chl_surf.shape)"
   ]
  },
  {
   "cell_type": "markdown",
   "metadata": {},
   "source": [
    "##### SeaWiFS \n",
    "Lat/Lon is normal, grid size is 9km, chl concentration is in a log format?\n",
    "obs data shape: (12, 2160, 4320)\n",
    "##### CESM\n",
    "Lat/Lon is in the pop grid, grid size is 100km, chl concentration is in mg m-3\n",
    " model data shape: (12, 384, 320)"
   ]
  },
  {
   "cell_type": "markdown",
   "metadata": {},
   "source": [
    "## Regrdi between curvilinear grids\n",
    "https://xesmf.readthedocs.io/en/latest/notebooks/Curvilinear_grid.html"
   ]
  },
  {
   "cell_type": "markdown",
   "metadata": {},
   "source": [
    "#### Input data"
   ]
  },
  {
   "cell_type": "code",
   "execution_count": 47,
   "metadata": {},
   "outputs": [],
   "source": [
    "dr_mod = dsmod.Chl_surf\n",
    "dr_obs =  dsobs.chl_gsm"
   ]
  },
  {
   "cell_type": "markdown",
   "metadata": {},
   "source": [
    "#### Input grid\n",
    "We need to rename the coordinate names to lon and lat because xESMF has no way to guess variable meaning."
   ]
  },
  {
   "cell_type": "code",
   "execution_count": 41,
   "metadata": {},
   "outputs": [
    {
     "data": {
      "text/html": [
       "<pre>&lt;xarray.Dataset&gt;\n",
       "Dimensions:   (month: 12, nlat: 384, nlon: 320, z_t: 60, z_t_150m: 15)\n",
       "Coordinates:\n",
       "    lon       (nlat, nlon) float64 -79.22 -79.22 -79.22 ... 72.2 72.19 72.19\n",
       "    lat       (nlat, nlon) float64 320.6 321.7 322.8 323.9 ... 318.9 319.4 319.8\n",
       "  * month     (month) int64 1 2 3 4 5 6 7 8 9 10 11 12\n",
       "  * z_t       (z_t) float32 500.0 1500.0 2500.0 ... 487508.34 512502.8 537500.0\n",
       "  * z_t_150m  (z_t_150m) float32 500.0 1500.0 2500.0 ... 12500.0 13500.0 14500.0\n",
       "Dimensions without coordinates: nlat, nlon\n",
       "Data variables:\n",
       "    Chl_surf  (month, nlat, nlon) float32 nan nan nan nan ... nan nan nan nan\n",
       "    KMT       (nlat, nlon) float64 0.0 0.0 0.0 0.0 0.0 ... 0.0 0.0 0.0 0.0 0.0\n",
       "    SST       (month, nlat, nlon) float32 nan nan nan nan ... nan nan nan nan\n",
       "    TAREA     (nlat, nlon) float64 1.125e+13 1.125e+13 ... 7.431e+12 7.432e+12\n",
       "    dz        (z_t) float32 1000.0 1000.0 1000.0 ... 24996.244 24998.11</pre>"
      ],
      "text/plain": [
       "<xarray.Dataset>\n",
       "Dimensions:   (month: 12, nlat: 384, nlon: 320, z_t: 60, z_t_150m: 15)\n",
       "Coordinates:\n",
       "    lon       (nlat, nlon) float64 -79.22 -79.22 -79.22 ... 72.2 72.19 72.19\n",
       "    lat       (nlat, nlon) float64 320.6 321.7 322.8 323.9 ... 318.9 319.4 319.8\n",
       "  * month     (month) int64 1 2 3 4 5 6 7 8 9 10 11 12\n",
       "  * z_t       (z_t) float32 500.0 1500.0 2500.0 ... 487508.34 512502.8 537500.0\n",
       "  * z_t_150m  (z_t_150m) float32 500.0 1500.0 2500.0 ... 12500.0 13500.0 14500.0\n",
       "Dimensions without coordinates: nlat, nlon\n",
       "Data variables:\n",
       "    Chl_surf  (month, nlat, nlon) float32 nan nan nan nan ... nan nan nan nan\n",
       "    KMT       (nlat, nlon) float64 0.0 0.0 0.0 0.0 0.0 ... 0.0 0.0 0.0 0.0 0.0\n",
       "    SST       (month, nlat, nlon) float32 nan nan nan nan ... nan nan nan nan\n",
       "    TAREA     (nlat, nlon) float64 1.125e+13 1.125e+13 ... 7.431e+12 7.432e+12\n",
       "    dz        (z_t) float32 1000.0 1000.0 1000.0 ... 24996.244 24998.11"
      ]
     },
     "execution_count": 41,
     "metadata": {},
     "output_type": "execute_result"
    }
   ],
   "source": [
    "dsmod = dsmod.rename({'TLAT': 'lon', 'TLONG': 'lat'})\n",
    "dsmod"
   ]
  },
  {
   "cell_type": "markdown",
   "metadata": {},
   "source": [
    "#### Output grid\n",
    "Say we want to regrid it to a global 1∘×1∘ grid. xESMF provides a shortcut to make this output grid.\n",
    "\n",
    "The output coordinates are all 2D arrays. They happen to be a rectilinear grid in this case (`lat` is constant over `x` axis, and `lon` is constant over `y` axis), but you can use 2D arrays to specify any curvilinear grids."
   ]
  },
  {
   "cell_type": "code",
   "execution_count": 46,
   "metadata": {},
   "outputs": [
    {
     "data": {
      "text/html": [
       "<pre>&lt;xarray.Dataset&gt;\n",
       "Dimensions:  (x: 360, x_b: 361, y: 180, y_b: 181)\n",
       "Coordinates:\n",
       "    lon      (y, x) float64 -179.5 -178.5 -177.5 -176.5 ... 177.5 178.5 179.5\n",
       "    lat      (y, x) float64 -89.5 -89.5 -89.5 -89.5 ... 89.5 89.5 89.5 89.5\n",
       "    lon_b    (y_b, x_b) int64 -180 -179 -178 -177 -176 ... 176 177 178 179 180\n",
       "    lat_b    (y_b, x_b) int64 -90 -90 -90 -90 -90 -90 -90 ... 90 90 90 90 90 90\n",
       "Dimensions without coordinates: x, x_b, y, y_b\n",
       "Data variables:\n",
       "    *empty*</pre>"
      ],
      "text/plain": [
       "<xarray.Dataset>\n",
       "Dimensions:  (x: 360, x_b: 361, y: 180, y_b: 181)\n",
       "Coordinates:\n",
       "    lon      (y, x) float64 -179.5 -178.5 -177.5 -176.5 ... 177.5 178.5 179.5\n",
       "    lat      (y, x) float64 -89.5 -89.5 -89.5 -89.5 ... 89.5 89.5 89.5 89.5\n",
       "    lon_b    (y_b, x_b) int64 -180 -179 -178 -177 -176 ... 176 177 178 179 180\n",
       "    lat_b    (y_b, x_b) int64 -90 -90 -90 -90 -90 -90 -90 ... 90 90 90 90 90 90\n",
       "Dimensions without coordinates: x, x_b, y, y_b\n",
       "Data variables:\n",
       "    *empty*"
      ]
     },
     "execution_count": 46,
     "metadata": {},
     "output_type": "execute_result"
    }
   ],
   "source": [
    "ds_out = xe.util.grid_global(1, 1)\n",
    "ds_out  # contains lat/lon values of cell centers and boundaries."
   ]
  },
  {
   "cell_type": "code",
   "execution_count": 48,
   "metadata": {},
   "outputs": [
    {
     "name": "stderr",
     "output_type": "stream",
     "text": [
      "/glade/work/zephyrs/miniconda3/envs/krill/lib/python3.7/site-packages/xesmf/backend.py:52: UserWarning: Latitude is outside of [-90, 90]\n",
      "  warnings.warn(\"Latitude is outside of [-90, 90]\")\n"
     ]
    },
    {
     "name": "stdout",
     "output_type": "stream",
     "text": [
      "Create weight file: bilinear_384x320_180x360.nc\n"
     ]
    },
    {
     "ename": "ImportError",
     "evalue": "Regrid(filename) requires PIO and does not work if ESMF has not been built with MPI support",
     "output_type": "error",
     "traceback": [
      "\u001b[0;31m---------------------------------------------------------------------------\u001b[0m",
      "\u001b[0;31mImportError\u001b[0m                               Traceback (most recent call last)",
      "\u001b[0;32m<ipython-input-48-c32784990026>\u001b[0m in \u001b[0;36m<module>\u001b[0;34m\u001b[0m\n\u001b[0;32m----> 1\u001b[0;31m \u001b[0mregridder\u001b[0m \u001b[0;34m=\u001b[0m \u001b[0mxe\u001b[0m\u001b[0;34m.\u001b[0m\u001b[0mRegridder\u001b[0m\u001b[0;34m(\u001b[0m\u001b[0mdsmod\u001b[0m\u001b[0;34m,\u001b[0m \u001b[0mds_out\u001b[0m\u001b[0;34m,\u001b[0m \u001b[0;34m'bilinear'\u001b[0m\u001b[0;34m)\u001b[0m\u001b[0;34m\u001b[0m\u001b[0;34m\u001b[0m\u001b[0m\n\u001b[0m\u001b[1;32m      2\u001b[0m \u001b[0mdr_mod_out\u001b[0m \u001b[0;34m=\u001b[0m \u001b[0mregridder\u001b[0m\u001b[0;34m(\u001b[0m\u001b[0mdr_mod\u001b[0m\u001b[0;34m)\u001b[0m\u001b[0;34m\u001b[0m\u001b[0;34m\u001b[0m\u001b[0m\n",
      "\u001b[0;32m/glade/work/zephyrs/miniconda3/envs/krill/lib/python3.7/site-packages/xesmf/frontend.py\u001b[0m in \u001b[0;36m__init__\u001b[0;34m(self, ds_in, ds_out, method, periodic, filename, reuse_weights)\u001b[0m\n\u001b[1;32m    175\u001b[0m \u001b[0;34m\u001b[0m\u001b[0m\n\u001b[1;32m    176\u001b[0m         \u001b[0;31m# get weight matrix\u001b[0m\u001b[0;34m\u001b[0m\u001b[0;34m\u001b[0m\u001b[0;34m\u001b[0m\u001b[0m\n\u001b[0;32m--> 177\u001b[0;31m         \u001b[0mself\u001b[0m\u001b[0;34m.\u001b[0m\u001b[0m_write_weight_file\u001b[0m\u001b[0;34m(\u001b[0m\u001b[0;34m)\u001b[0m\u001b[0;34m\u001b[0m\u001b[0;34m\u001b[0m\u001b[0m\n\u001b[0m\u001b[1;32m    178\u001b[0m         \u001b[0mself\u001b[0m\u001b[0;34m.\u001b[0m\u001b[0mweights\u001b[0m \u001b[0;34m=\u001b[0m \u001b[0mread_weights\u001b[0m\u001b[0;34m(\u001b[0m\u001b[0mself\u001b[0m\u001b[0;34m.\u001b[0m\u001b[0mfilename\u001b[0m\u001b[0;34m,\u001b[0m \u001b[0mself\u001b[0m\u001b[0;34m.\u001b[0m\u001b[0mn_in\u001b[0m\u001b[0;34m,\u001b[0m \u001b[0mself\u001b[0m\u001b[0;34m.\u001b[0m\u001b[0mn_out\u001b[0m\u001b[0;34m)\u001b[0m\u001b[0;34m\u001b[0m\u001b[0;34m\u001b[0m\u001b[0m\n\u001b[1;32m    179\u001b[0m \u001b[0;34m\u001b[0m\u001b[0m\n",
      "\u001b[0;32m/glade/work/zephyrs/miniconda3/envs/krill/lib/python3.7/site-packages/xesmf/frontend.py\u001b[0m in \u001b[0;36m_write_weight_file\u001b[0;34m(self)\u001b[0m\n\u001b[1;32m    218\u001b[0m \u001b[0;34m\u001b[0m\u001b[0m\n\u001b[1;32m    219\u001b[0m         regrid = esmf_regrid_build(self._grid_in, self._grid_out, self.method,\n\u001b[0;32m--> 220\u001b[0;31m                                    filename=self.filename)\n\u001b[0m\u001b[1;32m    221\u001b[0m         \u001b[0mesmf_regrid_finalize\u001b[0m\u001b[0;34m(\u001b[0m\u001b[0mregrid\u001b[0m\u001b[0;34m)\u001b[0m  \u001b[0;31m# only need weights, not regrid object\u001b[0m\u001b[0;34m\u001b[0m\u001b[0;34m\u001b[0m\u001b[0m\n\u001b[1;32m    222\u001b[0m \u001b[0;34m\u001b[0m\u001b[0m\n",
      "\u001b[0;32m/glade/work/zephyrs/miniconda3/envs/krill/lib/python3.7/site-packages/xesmf/backend.py\u001b[0m in \u001b[0;36mesmf_regrid_build\u001b[0;34m(sourcegrid, destgrid, method, filename, extra_dims)\u001b[0m\n\u001b[1;32m    241\u001b[0m     regrid = ESMF.Regrid(sourcefield, destfield, filename=filename,\n\u001b[1;32m    242\u001b[0m                          \u001b[0mregrid_method\u001b[0m\u001b[0;34m=\u001b[0m\u001b[0mesmf_regrid_method\u001b[0m\u001b[0;34m,\u001b[0m\u001b[0;34m\u001b[0m\u001b[0;34m\u001b[0m\u001b[0m\n\u001b[0;32m--> 243\u001b[0;31m                          unmapped_action=ESMF.UnmappedAction.IGNORE)\n\u001b[0m\u001b[1;32m    244\u001b[0m \u001b[0;34m\u001b[0m\u001b[0m\n\u001b[1;32m    245\u001b[0m     \u001b[0;32mreturn\u001b[0m \u001b[0mregrid\u001b[0m\u001b[0;34m\u001b[0m\u001b[0;34m\u001b[0m\u001b[0m\n",
      "\u001b[0;32m/glade/work/zephyrs/miniconda3/envs/krill/lib/python3.7/site-packages/ESMF/util/decorators.py\u001b[0m in \u001b[0;36mnew_func\u001b[0;34m(*args, **kwargs)\u001b[0m\n\u001b[1;32m     62\u001b[0m \u001b[0;34m\u001b[0m\u001b[0m\n\u001b[1;32m     63\u001b[0m         \u001b[0mesmp\u001b[0m \u001b[0;34m=\u001b[0m \u001b[0mesmpymanager\u001b[0m\u001b[0;34m.\u001b[0m\u001b[0mManager\u001b[0m\u001b[0;34m(\u001b[0m\u001b[0mdebug\u001b[0m \u001b[0;34m=\u001b[0m \u001b[0;32mFalse\u001b[0m\u001b[0;34m)\u001b[0m\u001b[0;34m\u001b[0m\u001b[0;34m\u001b[0m\u001b[0m\n\u001b[0;32m---> 64\u001b[0;31m         \u001b[0;32mreturn\u001b[0m \u001b[0mfunc\u001b[0m\u001b[0;34m(\u001b[0m\u001b[0;34m*\u001b[0m\u001b[0margs\u001b[0m\u001b[0;34m,\u001b[0m \u001b[0;34m**\u001b[0m\u001b[0mkwargs\u001b[0m\u001b[0;34m)\u001b[0m\u001b[0;34m\u001b[0m\u001b[0;34m\u001b[0m\u001b[0m\n\u001b[0m\u001b[1;32m     65\u001b[0m     \u001b[0;32mreturn\u001b[0m \u001b[0mnew_func\u001b[0m\u001b[0;34m\u001b[0m\u001b[0;34m\u001b[0m\u001b[0m\n\u001b[1;32m     66\u001b[0m \u001b[0;34m\u001b[0m\u001b[0m\n",
      "\u001b[0;32m/glade/work/zephyrs/miniconda3/envs/krill/lib/python3.7/site-packages/ESMF/api/regrid.py\u001b[0m in \u001b[0;36m__init__\u001b[0;34m(self, srcfield, dstfield, filename, src_mask_values, dst_mask_values, regrid_method, pole_method, regrid_pole_npoints, line_type, norm_type, extrap_method, extrap_num_src_pnts, extrap_dist_exponent, unmapped_action, ignore_degenerate, create_rh, src_frac_field, dst_frac_field, factors)\u001b[0m\n\u001b[1;32m    132\u001b[0m                 \u001b[0mmsg\u001b[0m \u001b[0;34m=\u001b[0m \u001b[0;34m\"Regrid(filename) requires PIO and does not work if ESMF has \"\u001b[0m\u001b[0;31m \u001b[0m\u001b[0;31m\\\u001b[0m\u001b[0;34m\u001b[0m\u001b[0;34m\u001b[0m\u001b[0m\n\u001b[1;32m    133\u001b[0m                       \u001b[0;34m\"not been built with MPI support\"\u001b[0m\u001b[0;34m\u001b[0m\u001b[0;34m\u001b[0m\u001b[0m\n\u001b[0;32m--> 134\u001b[0;31m                 \u001b[0;32mraise\u001b[0m \u001b[0mImportError\u001b[0m\u001b[0;34m(\u001b[0m\u001b[0mmsg\u001b[0m\u001b[0;34m)\u001b[0m\u001b[0;34m\u001b[0m\u001b[0;34m\u001b[0m\u001b[0m\n\u001b[0m\u001b[1;32m    135\u001b[0m \u001b[0;34m\u001b[0m\u001b[0m\n\u001b[1;32m    136\u001b[0m             self._routehandle = ESMP_FieldRegridStoreFile(\n",
      "\u001b[0;31mImportError\u001b[0m: Regrid(filename) requires PIO and does not work if ESMF has not been built with MPI support"
     ]
    }
   ],
   "source": [
    "regridder = xe.Regridder(dsmod, ds_out, 'bilinear')\n",
    "dr_mod_out = regridder(dr_mod)"
   ]
  },
  {
   "cell_type": "code",
   "execution_count": null,
   "metadata": {},
   "outputs": [],
   "source": []
  }
 ],
 "metadata": {
  "kernelspec": {
   "display_name": "Python [conda env:miniconda3-krill]",
   "language": "python",
   "name": "conda-env-miniconda3-krill-py"
  },
  "language_info": {
   "codemirror_mode": {
    "name": "ipython",
    "version": 3
   },
   "file_extension": ".py",
   "mimetype": "text/x-python",
   "name": "python",
   "nbconvert_exporter": "python",
   "pygments_lexer": "ipython3",
   "version": "3.7.6"
  }
 },
 "nbformat": 4,
 "nbformat_minor": 4
}

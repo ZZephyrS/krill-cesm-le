{
 "cells": [
  {
   "cell_type": "markdown",
   "metadata": {},
   "source": [
    "## Function to Compute DGR/KGP on CESM-LE Datasets"
   ]
  },
  {
   "cell_type": "code",
   "execution_count": null,
   "metadata": {},
   "outputs": [],
   "source": [
    "def compute_kgp_test(ds, length):\n",
    "    \"\"\"Compute Krill Growth Potential \n",
    "    doi: 10.3354/meps07498 \n",
    "    \"\"\"\n",
    "    # specify coefs\n",
    "    a = -0.066\n",
    "    b = 0.002\n",
    "    c = -0.000061\n",
    "    d = 0.385\n",
    "    e = 0.328\n",
    "    f = 0.0078\n",
    "    g = -0.0101\n",
    "    \n",
    "    # parameter s.e.\n",
    "    ae = 0.165\n",
    "    be = 0.0066\n",
    "    ce = -0.000077\n",
    "    de = 0.091\n",
    "    ee = 0.246\n",
    "    fe = 0.017\n",
    "    ge = -0.00045\n",
    "    \n",
    "    # local pointers\n",
    "    sst = ds.SST\n",
    "    chl = ds.Chl_surf\n",
    "        \n",
    "    # compute terms and sum\n",
    "    length_term = a + b * length + c * length**2\n",
    "    chl_term = d * (chl / (e + chl))    \n",
    "    sst_term = f * sst + g * sst**2    \n",
    "    kgp = length_term + chl_term + sst_term\n",
    "    kgp.name = 'KGP'\n",
    "   \n",
    "    ds['KGP'] = kgp\n",
    "    return ds"
   ]
  }
 ],
 "metadata": {
  "kernelspec": {
   "display_name": "Python [conda env:miniconda3-krill]",
   "language": "python",
   "name": "conda-env-miniconda3-krill-py"
  },
  "language_info": {
   "codemirror_mode": {
    "name": "ipython",
    "version": 3
   },
   "file_extension": ".py",
   "mimetype": "text/x-python",
   "name": "python",
   "nbconvert_exporter": "python",
   "pygments_lexer": "ipython3",
   "version": "3.7.6"
  }
 },
 "nbformat": 4,
 "nbformat_minor": 4
}

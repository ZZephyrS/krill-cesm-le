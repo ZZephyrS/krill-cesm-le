{
 "cells": [
  {
   "cell_type": "markdown",
   "metadata": {},
   "source": [
    "### Krill Growth Model (Atkinson et al 2006)\n",
    "\n",
    "#### This empirical model derives a Daily Growth Rate (DGR, mm $d^{-1}$) from a starting length of an individual krill, chlorophyll concentration, and SST:\n",
    "\n",
    "$DGR = a + b * Length + c * Length^2 + [d * \\frac{CHL}{e + CHL}] + f * SST + g * SST ^2$"
   ]
  },
  {
   "cell_type": "markdown",
   "metadata": {},
   "source": [
    "- Length (L mm) = Proxy for growth =  using 40mm as the starting value (observed mean length of adult krill)\n",
    "- SST (°C) = Proxy for survival =  threshold between -1 to 5°C\n",
    "- Chl-a (mg m$^{-3}$) = Proxy for food availability - threshold: 0.5 mg m-3"
   ]
  },
  {
   "cell_type": "markdown",
   "metadata": {},
   "source": [
    "Murphy et al 2017:\n",
    "<blockquote> Sensitivity of the empirical model: Optimum growth rates vary with animal size, but occur generally between temperatures -1 to 2 o C and chlorophyll a concentrations > 1.0 mg m-3  (Figure S3). For chlorophyll a concentrations >1.0 mg m -3 there is little change in the potential rate of growth, but the model is particularly sensitive to the change in chlorophyll a concentration from < 0.1 mg m -3 to > 1 mg chl a m -3 (Figure S34 ). Above ~1o C growth rates decline and this is particularly rapid above ~2oC and also below ~-1oC. </blockquote>"
   ]
  },
  {
   "cell_type": "markdown",
   "metadata": {},
   "source": [
    "___\n",
    "### Objective: estimate the growth potential for each 1° by 1° latitude-longitude grid cell for each month (mm month−1)\n",
    "Murphy et al: estimated potential growth from satelitte data\n",
    "\n",
    "From Murphy et al 2017: used Atkinson et al. 2006; Model 337; see their Table 5\n",
    "<blockquote> Growth potential was calculated in two ways. In the first we calculated growth rates for each month only for months and cells where both SST and chlorophyll a values were present. In the second calculation for the months and locations where SST data were available but chlorophyll data were missing, we assumed the chlorophyll a concentration was 0.0 mg m−3 . Area-weighted mean growth rates were derived to generate summary estimates of circumpolar mean monthly growth rates (September to April; May to August were excluded because of extensive missing data due to cloud and sea ice cover). </blockquote>\n",
    "\n",
    "Devi et al: Evaluated projected changes in krill habitat between the recent past (1960-1989) and end of the century (2070-2099).\n",
    "\n",
    "* simulated growth potential as a measure of habitat quality\n",
    "* growth potential method from murphy et al \n",
    "* Habitat area = the surface area of grid cells where growth potential was positive\n",
    "* all growth potential calculations were done using seasonal climatologies yeilding seasonal GP AND YET:\n",
    "* For each day in the season, DGR was calculated using the SST and chlorophyll fields, and then added to the previous length.\n",
    "\n",
    "From Devi: \n",
    "<blockquote> if SST was present and chlorophyll was absent, then chlorophyll was set to 0 mg m-3 , whereas if there was sea ice cover the cell was excluded from the calculation. </blockquote>\n",
    "\n",
    "<blockquote>Although previous analyses have included other starting size classes, we found that projected differences between future and historical epochs remained the same irrespective of starting length. For each day in the season, DGR was calculated using the SST and chlorophyll fields, and then added to the previous length</blockquote>"
   ]
  },
  {
   "cell_type": "markdown",
   "metadata": {},
   "source": [
    "___\n",
    "### Notebook Goal: \n",
    "#### write a function to calculate KGP in the same dimensions of an ensemble member:\n",
    "\n",
    "example:\n",
    "\n",
    "<code>def compute KGP(CHL, SST):\n",
    "    return f(CHL) + g(SST)   \n",
    "</code>\n",
    "so that `KGP = compute_KGP(CHL, SST)` #inherits dims of chl and sst (member_id, time, nlat, nlon) and so that you can go further to do `KGP_SO = compute_areal_mean(KGP)` resulting in KGP_SO dims = m, t, region\n"
   ]
  },
  {
   "cell_type": "code",
   "execution_count": 43,
   "metadata": {},
   "outputs": [],
   "source": [
    "#Import Modules\n",
    "import os\n",
    "\n",
    "import math\n",
    "import xarray as xr\n",
    "import pandas as pd\n",
    "import numpy as np\n",
    "import matplotlib.pyplot as plt\n",
    "from math import exp\n",
    "%matplotlib inline"
   ]
  },
  {
   "cell_type": "code",
   "execution_count": 2,
   "metadata": {},
   "outputs": [],
   "source": [
    "# Set Constants\n",
    "a = -0.066 #alpha\n",
    "b = 0.002 #beta\n",
    "c = -0.000061 #gamma\n",
    "d = 0.385 #delta\n",
    "e = 0.328 #epsilon\n",
    "f = 0.0078 #zeta\n",
    "g = -0.0101 #eta"
   ]
  },
  {
   "cell_type": "code",
   "execution_count": 8,
   "metadata": {},
   "outputs": [
    {
     "name": "stdout",
     "output_type": "stream",
     "text": [
      "Example conditions and their resulting terms within the DGR Function:\n"
     ]
    },
    {
     "data": {
      "text/html": [
       "<div>\n",
       "<style scoped>\n",
       "    .dataframe tbody tr th:only-of-type {\n",
       "        vertical-align: middle;\n",
       "    }\n",
       "\n",
       "    .dataframe tbody tr th {\n",
       "        vertical-align: top;\n",
       "    }\n",
       "\n",
       "    .dataframe thead th {\n",
       "        text-align: right;\n",
       "    }\n",
       "</style>\n",
       "<table border=\"1\" class=\"dataframe\">\n",
       "  <thead>\n",
       "    <tr style=\"text-align: right;\">\n",
       "      <th></th>\n",
       "      <th>SST</th>\n",
       "      <th>s</th>\n",
       "      <th>CHL</th>\n",
       "      <th>c</th>\n",
       "      <th>L_i</th>\n",
       "      <th>l</th>\n",
       "    </tr>\n",
       "  </thead>\n",
       "  <tbody>\n",
       "    <tr>\n",
       "      <th>0</th>\n",
       "      <td>-2</td>\n",
       "      <td>-0.056</td>\n",
       "      <td>0.00</td>\n",
       "      <td>0.000</td>\n",
       "      <td>10</td>\n",
       "      <td>-0.052</td>\n",
       "    </tr>\n",
       "    <tr>\n",
       "      <th>1</th>\n",
       "      <td>-1</td>\n",
       "      <td>-0.018</td>\n",
       "      <td>0.25</td>\n",
       "      <td>0.390</td>\n",
       "      <td>20</td>\n",
       "      <td>-0.050</td>\n",
       "    </tr>\n",
       "    <tr>\n",
       "      <th>2</th>\n",
       "      <td>0</td>\n",
       "      <td>0.000</td>\n",
       "      <td>0.50</td>\n",
       "      <td>0.779</td>\n",
       "      <td>25</td>\n",
       "      <td>-0.054</td>\n",
       "    </tr>\n",
       "    <tr>\n",
       "      <th>3</th>\n",
       "      <td>1</td>\n",
       "      <td>-0.002</td>\n",
       "      <td>0.75</td>\n",
       "      <td>1.169</td>\n",
       "      <td>30</td>\n",
       "      <td>-0.061</td>\n",
       "    </tr>\n",
       "    <tr>\n",
       "      <th>4</th>\n",
       "      <td>2</td>\n",
       "      <td>-0.025</td>\n",
       "      <td>1.00</td>\n",
       "      <td>1.559</td>\n",
       "      <td>35</td>\n",
       "      <td>-0.071</td>\n",
       "    </tr>\n",
       "    <tr>\n",
       "      <th>5</th>\n",
       "      <td>3</td>\n",
       "      <td>-0.068</td>\n",
       "      <td>1.50</td>\n",
       "      <td>2.338</td>\n",
       "      <td>40</td>\n",
       "      <td>-0.084</td>\n",
       "    </tr>\n",
       "    <tr>\n",
       "      <th>6</th>\n",
       "      <td>4</td>\n",
       "      <td>-0.130</td>\n",
       "      <td>2.00</td>\n",
       "      <td>3.118</td>\n",
       "      <td>45</td>\n",
       "      <td>-0.100</td>\n",
       "    </tr>\n",
       "    <tr>\n",
       "      <th>7</th>\n",
       "      <td>5</td>\n",
       "      <td>-0.214</td>\n",
       "      <td>2.50</td>\n",
       "      <td>3.897</td>\n",
       "      <td>50</td>\n",
       "      <td>-0.118</td>\n",
       "    </tr>\n",
       "    <tr>\n",
       "      <th>8</th>\n",
       "      <td>6</td>\n",
       "      <td>-0.317</td>\n",
       "      <td>3.00</td>\n",
       "      <td>4.676</td>\n",
       "      <td>60</td>\n",
       "      <td>-0.166</td>\n",
       "    </tr>\n",
       "  </tbody>\n",
       "</table>\n",
       "</div>"
      ],
      "text/plain": [
       "   SST      s   CHL      c  L_i      l\n",
       "0   -2 -0.056  0.00  0.000   10 -0.052\n",
       "1   -1 -0.018  0.25  0.390   20 -0.050\n",
       "2    0  0.000  0.50  0.779   25 -0.054\n",
       "3    1 -0.002  0.75  1.169   30 -0.061\n",
       "4    2 -0.025  1.00  1.559   35 -0.071\n",
       "5    3 -0.068  1.50  2.338   40 -0.084\n",
       "6    4 -0.130  2.00  3.118   45 -0.100\n",
       "7    5 -0.214  2.50  3.897   50 -0.118\n",
       "8    6 -0.317  3.00  4.676   60 -0.166"
      ]
     },
     "execution_count": 8,
     "metadata": {},
     "output_type": "execute_result"
    }
   ],
   "source": [
    "#test conditions\n",
    "temp = [-2,-1, 0, 1, 2, 3, 4, 5, 6]\n",
    "food = [0, 0.25, 0.5, 0.75, 1, 1.5, 2, 2.5, 3] \n",
    "long = [10, 20, 25, 30, 35, 40, 45, 50, 60]\n",
    "# intialise data of lists. \n",
    "data = {'SST': temp, 's': \"\",\n",
    "        'CHL':food,'c': \"\",\n",
    "        'L_i': long, 'l': \"\"} \n",
    "# Create DataFrame \n",
    "df = pd.DataFrame(data) \n",
    "# Calculate Tests on the data frame\n",
    "df['s'] = np.round((f * df.SST + g * df.SST**2), 3)\n",
    "df['c'] = np.round((d * (df.CHL / e + df.CHL)), 3)\n",
    "df['l'] = np.round ((a + (b * df.L_i) + (c * df.L_i**2)), 3)\n",
    "# Print the output. \n",
    "print('Example conditions and their resulting terms within the DGR Function:')\n",
    "df"
   ]
  },
  {
   "cell_type": "code",
   "execution_count": 47,
   "metadata": {},
   "outputs": [
    {
     "data": {
      "text/plain": [
       "'/glade/u/home/zephyrs/projects/krill-cesm-le/figures/DGR-Equation'"
      ]
     },
     "execution_count": 47,
     "metadata": {},
     "output_type": "execute_result"
    }
   ],
   "source": [
    "#for saving figures, run this cell twice:\n",
    "pwd = os.getcwd()\n",
    "os.chdir('/glade/u/home/zephyrs/projects/krill-cesm-le/figures/DGR-Equation')\n",
    "pwd"
   ]
  },
  {
   "cell_type": "code",
   "execution_count": 49,
   "metadata": {},
   "outputs": [],
   "source": [
    "from matplotlib import style\n",
    "style.use('ggplot')"
   ]
  },
  {
   "cell_type": "code",
   "execution_count": 51,
   "metadata": {},
   "outputs": [
    {
     "data": {
      "image/png": "[encoded data removed]",
      "text/plain": [
       "<Figure size 1080x360 with 3 Axes>"
      ]
     },
     "metadata": {},
     "output_type": "display_data"
    }
   ],
   "source": [
    "fig = plt.figure(figsize=(15,5))\n",
    "\n",
    "ax1 = fig.add_subplot(131)\n",
    "ax1.set_title('SST Term')\n",
    "ax1.plot(df.SST, df.s, '-b')\n",
    "ax1.vlines([-1,5], -0.32, 0 , color='grey', linestyle = 'solid', linewidth=3, label = 'temp range')\n",
    "ax1.vlines([-1,2], -0.32, 0 , color='green', linestyle = 'dashed', label = 'optimal range')\n",
    "plt.gca()\n",
    "\n",
    "ax2 = fig.add_subplot(132)\n",
    "ax2.set_title('CHL Term')\n",
    "ax2.plot(df.CHL, df.c, color = 'darkgreen')\n",
    "ax2.vlines(0.5, 0, 5, color='red', linestyle = 'dashed', label = 'growth threshold')\n",
    "ax2.vlines(1, 0, 5, color='green', linestyle = 'dashed', label = 'optimal growth')\n",
    "plt.gca()\n",
    "\n",
    "ax3 = fig.add_subplot(133)\n",
    "ax3.set_title('Length Term')\n",
    "ax3.plot(df.L_i, df.l, color ='purple')\n",
    "ax3.vlines(40, -0.18, -0.03 , color='black', linestyle = 'dashed', label = 'average adult')\n",
    "plt.gca();\n",
    "\n",
    "#plt.savefig('Exploring-DGR-Terms.png')"
   ]
  },
  {
   "cell_type": "code",
   "execution_count": 6,
   "metadata": {},
   "outputs": [
    {
     "name": "stdout",
     "output_type": "stream",
     "text": [
      "length term: -0.084\n",
      "chl term: 1.559\n",
      "sst term: -0.002\n",
      "DGR Test Case: 1.47\n"
     ]
    }
   ],
   "source": [
    "#test conditions\n",
    "length = 40\n",
    "sst = 1\n",
    "chl = 1\n",
    "\n",
    "#DGR Expression\n",
    "length_term = a + (b * length) + (c * length**2)\n",
    "chl_term = d * (chl / e + chl)\n",
    "sst_term = f * sst + g * sst**2\n",
    "print('length term:', np.round(length_term, 3)) \n",
    "print('chl term:', np.round(chl_term, 3))\n",
    "print('sst term:', np.round(sst_term, 3))\n",
    "\n",
    "DGR = length_term + chl_term + sst_term\n",
    "print('DGR Test Case:', np.round(DGR,2))"
   ]
  }
 ],
 "metadata": {
  "kernelspec": {
   "display_name": "Python [conda env:miniconda3-krill]",
   "language": "python",
   "name": "conda-env-miniconda3-krill-py"
  },
  "language_info": {
   "codemirror_mode": {
    "name": "ipython",
    "version": 3
   },
   "file_extension": ".py",
   "mimetype": "text/x-python",
   "name": "python",
   "nbconvert_exporter": "python",
   "pygments_lexer": "ipython3",
   "version": "3.7.6"
  }
 },
 "nbformat": 4,
 "nbformat_minor": 4
}

{
 "cells": [
  {
   "cell_type": "code",
   "execution_count": 1,
   "metadata": {},
   "outputs": [],
   "source": [
    "from itertools import product\n",
    "\n",
    "import numpy as np\n",
    "import xarray as xr\n",
    "\n",
    "import matplotlib.pyplot as plt\n",
    "import matplotlib.gridspec as gridspec\n",
    "import pop_tools\n",
    "import xpersist as xp\n",
    "\n",
    "import util"
   ]
  },
  {
   "cell_type": "code",
   "execution_count": 2,
   "metadata": {},
   "outputs": [],
   "source": [
    "retro = xr.open_zarr('/glade/p/cgd/oce/projects/krill-cesm-le/data/cesm-le-fields-djf-retro-trends.zarr')\n"
   ]
  },
  {
   "cell_type": "code",
   "execution_count": 3,
   "metadata": {},
   "outputs": [
    {
     "ename": "NameError",
     "evalue": "name 'ds_djf_regional' is not defined",
     "output_type": "error",
     "traceback": [
      "\u001b[0;31m---------------------------------------------------------------------------\u001b[0m",
      "\u001b[0;31mNameError\u001b[0m                                 Traceback (most recent call last)",
      "\u001b[0;32m<ipython-input-3-2165e261f760>\u001b[0m in \u001b[0;36m<module>\u001b[0;34m\u001b[0m\n\u001b[1;32m     11\u001b[0m \u001b[0;31m#ax.set_ylabel('O$_2$ [mmol m$^{-3}$]')\u001b[0m\u001b[0;34m\u001b[0m\u001b[0;34m\u001b[0m\u001b[0;34m\u001b[0m\u001b[0m\n\u001b[1;32m     12\u001b[0m \u001b[0;34m\u001b[0m\u001b[0m\n\u001b[0;32m---> 13\u001b[0;31m \u001b[0;32mfor\u001b[0m \u001b[0mm_id\u001b[0m \u001b[0;32min\u001b[0m \u001b[0mds_djf_regional\u001b[0m\u001b[0;34m.\u001b[0m\u001b[0mmember_id\u001b[0m\u001b[0;34m:\u001b[0m\u001b[0;34m\u001b[0m\u001b[0;34m\u001b[0m\u001b[0m\n\u001b[0m\u001b[1;32m     14\u001b[0m     \u001b[0mvar_i\u001b[0m \u001b[0;34m=\u001b[0m \u001b[0mds_djf_regional\u001b[0m\u001b[0;34m[\u001b[0m\u001b[0mv\u001b[0m\u001b[0;34m]\u001b[0m\u001b[0;34m.\u001b[0m\u001b[0msel\u001b[0m\u001b[0;34m(\u001b[0m\u001b[0mmember_id\u001b[0m\u001b[0;34m=\u001b[0m\u001b[0mm_id\u001b[0m\u001b[0;34m,\u001b[0m \u001b[0mregion\u001b[0m\u001b[0;34m=\u001b[0m\u001b[0mregion\u001b[0m\u001b[0;34m)\u001b[0m\u001b[0;34m\u001b[0m\u001b[0;34m\u001b[0m\u001b[0m\n\u001b[1;32m     15\u001b[0m     \u001b[0max\u001b[0m\u001b[0;34m.\u001b[0m\u001b[0mplot\u001b[0m\u001b[0;34m(\u001b[0m\u001b[0mds_djf_regional\u001b[0m\u001b[0;34m.\u001b[0m\u001b[0mtime\u001b[0m\u001b[0;34m,\u001b[0m \u001b[0mvar_i\u001b[0m\u001b[0;34m,\u001b[0m \u001b[0;34m'-'\u001b[0m\u001b[0;34m,\u001b[0m \u001b[0mlinewidth\u001b[0m\u001b[0;34m=\u001b[0m\u001b[0;36m0.5\u001b[0m\u001b[0;34m)\u001b[0m\u001b[0;34m\u001b[0m\u001b[0;34m\u001b[0m\u001b[0m\n",
      "\u001b[0;31mNameError\u001b[0m: name 'ds_djf_regional' is not defined"
     ]
    },
    {
     "data": {
      "image/png": "[encoded data removed]",
      "text/plain": [
       "<Figure size 432x576 with 1 Axes>"
      ]
     },
     "metadata": {
      "needs_background": "light"
     },
     "output_type": "display_data"
    }
   ],
   "source": [
    "v = 'SST'\n",
    "region = 'Southern Ocean'\n",
    "\n",
    "hexcolor = ['#1b9e77', '#d95f02', '#7570b3', '#e7298a']\n",
    "\n",
    "fig = plt.figure(figsize=(6, 8))\n",
    "gs = gridspec.GridSpec(2,1)\n",
    "\n",
    "ax = fig.add_subplot(gs[0, 0])\n",
    "ax.set_xlim((1920, 2100))\n",
    "#ax.set_ylabel('O$_2$ [mmol m$^{-3}$]')\n",
    "\n",
    "for m_id in ds_djf_regional.member_id:\n",
    "    var_i = ds_djf_regional[v].sel(member_id=m_id, region=region)\n",
    "    ax.plot(ds_djf_regional.time, var_i, '-', linewidth=0.5)\n",
    "    \n",
    "ax.plot(ds_djf_regional.time, ds_djf_regional[v].sel(region=region).mean('member_id'), '-', \n",
    "        linewidth=1, color='k')\n",
    "\n",
    "ax.set_xticklabels([])\n",
    "ax.set_ylabel(f'{ds_djf_regional[v].long_name} [{ds_djf_regional[v].units}]')\n",
    "\n",
    "ax = fig.add_subplot(gs[1, 0])\n",
    "handles = []\n",
    "for n_year in ds_djf_rgn_trnd.trend_length.values:\n",
    "    da = ds_djf_rgn_trnd[v].sel(trend_length=n_year, region=region)\n",
    "    \n",
    "    y_mean = da.mean('member_id')\n",
    "    y_std = da.std('member_id')\n",
    "    \n",
    "    y_low = y_mean - y_std\n",
    "    y_hi = y_mean + y_std\n",
    "    \n",
    "    color = hexcolor.pop()\n",
    "    \n",
    "    p = ax.plot(\n",
    "        ds_djf_rgn_trnd.trend_year, y_mean, \n",
    "        '-', label=f'{n_year:d} yr trends', color=color\n",
    "    )\n",
    "    handles.append(p[0])\n",
    "    \n",
    "    ax.plot(\n",
    "        ds_djf_rgn_trnd.trend_year, y_low,\n",
    "        '-', label='%d yr trends', color=color,\n",
    "        linewidth=0.2\n",
    "    )            \n",
    "    ax.plot(\n",
    "        ds_djf_rgn_trnd.trend_year, y_hi, \n",
    "        '-', label='%d yr trends', color=color, \n",
    "        linewidth=0.2\n",
    "    )\n",
    "    \n",
    "    ax.fill_between(\n",
    "        ds_djf_rgn_trnd.trend_year, y_low, y_hi,\n",
    "        facecolor=color, alpha=0.4\n",
    "    )\n",
    "    \n",
    "\n",
    "    s2n = y_mean / y_std\n",
    "    for l in range(len(ds_djf_rgn_trnd.trend_year)):\n",
    "        \n",
    "        # where the signal to noise is greater than 2, detect!\n",
    "        if all(np.abs(s2n[l:]) > 2):\n",
    "            toex = ds_djf_rgn_trnd.trend_year.values[l]\n",
    "            toey = y_mean.values[l]\n",
    "            ax.plot(toex, toey, '*', \n",
    "                    color=color, \n",
    "                    markeredgecolor='k',\n",
    "                    markeredgewidth=0.2,\n",
    "                    markersize=10)\n",
    "            break\n",
    "            \n",
    "ax.legend(handles, [h.get_label() for h in handles])\n",
    "ax.axhline(0, color='k', linewidth=0.5, zorder=-10)\n",
    "\n",
    "ax.set_xlabel('Year')\n",
    "ax.set_ylabel(f'{ds_djf_rgn_trnd[v].long_name} [{ds_djf_rgn_trnd[v].units}]')\n",
    "\n",
    "gs.update(hspace=0.05)\n",
    "\n",
    "ax = fig.get_axes()\n",
    "alp = [chr(i).upper() for i in range(97,97+26)]\n",
    "for i,axi in enumerate(ax):\n",
    "    p = axi.get_position()\n",
    "    y = p.y1 - 0.01\n",
    "    x = p.x0 - 0.05\n",
    "    fig.text(x, y, '%s'%alp[i],\n",
    "             fontsize=14.,\n",
    "             fontweight='semibold')"
   ]
  },
  {
   "cell_type": "code",
   "execution_count": null,
   "metadata": {},
   "outputs": [],
   "source": []
  }
 ],
 "metadata": {
  "kernelspec": {
   "display_name": "Python [conda env:miniconda3-krill-2]",
   "language": "python",
   "name": "conda-env-miniconda3-krill-2-py"
  },
  "language_info": {
   "codemirror_mode": {
    "name": "ipython",
    "version": 3
   },
   "file_extension": ".py",
   "mimetype": "text/x-python",
   "name": "python",
   "nbconvert_exporter": "python",
   "pygments_lexer": "ipython3",
   "version": "3.7.6"
  }
 },
 "nbformat": 4,
 "nbformat_minor": 4
}

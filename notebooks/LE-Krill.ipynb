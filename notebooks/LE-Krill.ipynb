{
 "cells": [
  {
   "cell_type": "markdown",
   "metadata": {},
   "source": [
    "# Investigate changes in the Krill Growth Potential simulated by the CESM-LE"
   ]
  },
  {
   "cell_type": "code",
   "execution_count": 1,
   "metadata": {},
   "outputs": [
    {
     "name": "stderr",
     "output_type": "stream",
     "text": [
      "Cannot write to data cache '/glade/p/cesmdata/cseg'. Will not be able to download remote data files. Use environment variable 'CESMDATAROOT' to specify another directory.\n"
     ]
    }
   ],
   "source": [
    "# set up modules\n",
    "%matplotlib inline\n",
    "import os\n",
    "import shutil\n",
    "\n",
    "from glob import glob\n",
    "\n",
    "import cftime\n",
    "\n",
    "import numpy as np\n",
    "import xarray as xr\n",
    "\n",
    "import matplotlib.pyplot as plt\n",
    "\n",
    "import cartopy.crs as ccrs\n",
    "from cartopy.util import add_cyclic_point\n",
    "import cmocean\n",
    "\n",
    "import intake\n",
    "import pop_tools\n",
    "\n",
    "import util"
   ]
  },
  {
   "cell_type": "markdown",
   "metadata": {},
   "source": [
    "### Spin up dask cluster"
   ]
  },
  {
   "cell_type": "code",
   "execution_count": 2,
   "metadata": {},
   "outputs": [
    {
     "data": {
      "application/vnd.jupyter.widget-view+json": {
       "model_id": "7e68d90b5d17477897043a284f465d3b",
       "version_major": 2,
       "version_minor": 0
      },
      "text/plain": [
       "VBox(children=(HTML(value='<h2>NCARCluster</h2>'), HBox(children=(HTML(value='\\n<div>\\n  <style scoped>\\n    .…"
      ]
     },
     "metadata": {},
     "output_type": "display_data"
    }
   ],
   "source": [
    "#'''\n",
    "from ncar_jobqueue import NCARCluster\n",
    "#cluster = NCARCluster()\n",
    "cluster = NCARCluster(project='UCUC0006')\n",
    "cluster.scale(36) #adapt(minimum_jobs=1, maximum_jobs=40)\n",
    "cluster\n",
    "#''';"
   ]
  },
  {
   "cell_type": "code",
   "execution_count": 3,
   "metadata": {},
   "outputs": [
    {
     "data": {
      "text/html": [
       "<table style=\"border: 2px solid white;\">\n",
       "<tr>\n",
       "<td style=\"vertical-align: top; border: 0px solid white\">\n",
       "<h3 style=\"text-align: left;\">Client</h3>\n",
       "<ul style=\"text-align: left; list-style: none; margin: 0; padding: 0;\">\n",
       "  <li><b>Scheduler: </b>tcp://128.117.181.224:33527</li>\n",
       "  <li><b>Dashboard: </b><a href='https://jupyterhub.ucar.edu/dav/user/zephyrs/proxy/8787/status' target='_blank'>https://jupyterhub.ucar.edu/dav/user/zephyrs/proxy/8787/status</a>\n",
       "</ul>\n",
       "</td>\n",
       "<td style=\"vertical-align: top; border: 0px solid white\">\n",
       "<h3 style=\"text-align: left;\">Cluster</h3>\n",
       "<ul style=\"text-align: left; list-style:none; margin: 0; padding: 0;\">\n",
       "  <li><b>Workers: </b>0</li>\n",
       "  <li><b>Cores: </b>0</li>\n",
       "  <li><b>Memory: </b>0 B</li>\n",
       "</ul>\n",
       "</td>\n",
       "</tr>\n",
       "</table>"
      ],
      "text/plain": [
       "<Client: 'tcp://128.117.181.224:33527' processes=0 threads=0, memory=0 B>"
      ]
     },
     "execution_count": 3,
     "metadata": {},
     "output_type": "execute_result"
    }
   ],
   "source": [
    "#'''\n",
    "from dask.distributed import Client\n",
    "client = Client(cluster) # Connect this local process to remote workers\n",
    "client\n",
    "#''';"
   ]
  },
  {
   "cell_type": "markdown",
   "metadata": {},
   "source": [
    "### Get the model grid for subsetting in latitude\n",
    "Using the `pop_tools` package: This reads the same binary files that the model read to generate the grid online."
   ]
  },
  {
   "cell_type": "code",
   "execution_count": 4,
   "metadata": {},
   "outputs": [
    {
     "data": {
      "text/html": [
       "<pre>&lt;xarray.Dataset&gt;\n",
       "Dimensions:      (nlat: 384, nlon: 320, z_t: 60, z_w: 60, z_w_bot: 60)\n",
       "Coordinates:\n",
       "  * z_t          (z_t) float64 500.0 1.5e+03 2.5e+03 ... 5.125e+05 5.375e+05\n",
       "  * z_w          (z_w) float64 0.0 1e+03 2e+03 3e+03 ... 4.75e+05 5e+05 5.25e+05\n",
       "  * z_w_bot      (z_w_bot) float64 1e+03 2e+03 3e+03 ... 5e+05 5.25e+05 5.5e+05\n",
       "Dimensions without coordinates: nlat, nlon\n",
       "Data variables:\n",
       "    TLAT         (nlat, nlon) float64 -79.22 -79.22 -79.22 ... 72.2 72.19 72.19\n",
       "    TLONG        (nlat, nlon) float64 320.6 321.7 322.8 ... 318.9 319.4 319.8\n",
       "    ULAT         (nlat, nlon) float64 -78.95 -78.95 -78.95 ... 72.42 72.41 72.41\n",
       "    ULONG        (nlat, nlon) float64 321.1 322.3 323.4 ... 319.2 319.6 320.0\n",
       "    DXT          (nlat, nlon) float64 1.894e+06 1.893e+06 ... 1.473e+06\n",
       "    DYT          (nlat, nlon) float64 5.94e+06 5.94e+06 ... 5.046e+06 5.046e+06\n",
       "    DXU          (nlat, nlon) float64 2.397e+06 2.397e+06 ... 1.391e+06\n",
       "    DYU          (nlat, nlon) float64 5.94e+06 5.94e+06 ... 5.493e+06 5.493e+06\n",
       "    TAREA        (nlat, nlon) float64 1.125e+13 1.125e+13 ... 7.432e+12\n",
       "    UAREA        (nlat, nlon) float64 1.423e+13 1.423e+13 ... 7.639e+12\n",
       "    KMT          (nlat, nlon) int32 0 0 0 0 0 0 0 0 0 0 ... 0 0 0 0 0 0 0 0 0 0\n",
       "    REGION_MASK  (nlat, nlon) int32 0 0 0 0 0 0 0 0 0 0 ... 0 0 0 0 0 0 0 0 0 0\n",
       "    dz           (z_t) float64 1e+03 1e+03 1e+03 ... 2.499e+04 2.5e+04 2.5e+04\n",
       "Attributes:\n",
       "    lateral_dims:         [384, 320]\n",
       "    vertical_dims:        60\n",
       "    vert_grid_file:       gx1v7_vert_grid\n",
       "    horiz_grid_fname:     inputdata/ocn/pop/gx1v6/grid/horiz_grid_20010402.ie...\n",
       "    topography_fname:     inputdata/ocn/pop/gx1v6/grid/topography_20090204.ie...\n",
       "    region_mask_fname:    inputdata/ocn/pop/gx1v6/grid/region_mask_20090205.i...\n",
       "    type:                 dipole\n",
       "    region_mask_regions:  {&#x27;Caspian Sea&#x27;: -14, &#x27;Black Sea&#x27;: -13, &#x27;Baltic Sea&#x27;...\n",
       "    title:                POP_gx1v6 grid</pre>"
      ],
      "text/plain": [
       "<xarray.Dataset>\n",
       "Dimensions:      (nlat: 384, nlon: 320, z_t: 60, z_w: 60, z_w_bot: 60)\n",
       "Coordinates:\n",
       "  * z_t          (z_t) float64 500.0 1.5e+03 2.5e+03 ... 5.125e+05 5.375e+05\n",
       "  * z_w          (z_w) float64 0.0 1e+03 2e+03 3e+03 ... 4.75e+05 5e+05 5.25e+05\n",
       "  * z_w_bot      (z_w_bot) float64 1e+03 2e+03 3e+03 ... 5e+05 5.25e+05 5.5e+05\n",
       "Dimensions without coordinates: nlat, nlon\n",
       "Data variables:\n",
       "    TLAT         (nlat, nlon) float64 -79.22 -79.22 -79.22 ... 72.2 72.19 72.19\n",
       "    TLONG        (nlat, nlon) float64 320.6 321.7 322.8 ... 318.9 319.4 319.8\n",
       "    ULAT         (nlat, nlon) float64 -78.95 -78.95 -78.95 ... 72.42 72.41 72.41\n",
       "    ULONG        (nlat, nlon) float64 321.1 322.3 323.4 ... 319.2 319.6 320.0\n",
       "    DXT          (nlat, nlon) float64 1.894e+06 1.893e+06 ... 1.473e+06\n",
       "    DYT          (nlat, nlon) float64 5.94e+06 5.94e+06 ... 5.046e+06 5.046e+06\n",
       "    DXU          (nlat, nlon) float64 2.397e+06 2.397e+06 ... 1.391e+06\n",
       "    DYU          (nlat, nlon) float64 5.94e+06 5.94e+06 ... 5.493e+06 5.493e+06\n",
       "    TAREA        (nlat, nlon) float64 1.125e+13 1.125e+13 ... 7.432e+12\n",
       "    UAREA        (nlat, nlon) float64 1.423e+13 1.423e+13 ... 7.639e+12\n",
       "    KMT          (nlat, nlon) int32 0 0 0 0 0 0 0 0 0 0 ... 0 0 0 0 0 0 0 0 0 0\n",
       "    REGION_MASK  (nlat, nlon) int32 0 0 0 0 0 0 0 0 0 0 ... 0 0 0 0 0 0 0 0 0 0\n",
       "    dz           (z_t) float64 1e+03 1e+03 1e+03 ... 2.499e+04 2.5e+04 2.5e+04\n",
       "Attributes:\n",
       "    lateral_dims:         [384, 320]\n",
       "    vertical_dims:        60\n",
       "    vert_grid_file:       gx1v7_vert_grid\n",
       "    horiz_grid_fname:     inputdata/ocn/pop/gx1v6/grid/horiz_grid_20010402.ie...\n",
       "    topography_fname:     inputdata/ocn/pop/gx1v6/grid/topography_20090204.ie...\n",
       "    region_mask_fname:    inputdata/ocn/pop/gx1v6/grid/region_mask_20090205.i...\n",
       "    type:                 dipole\n",
       "    region_mask_regions:  {'Caspian Sea': -14, 'Black Sea': -13, 'Baltic Sea'...\n",
       "    title:                POP_gx1v6 grid"
      ]
     },
     "execution_count": 4,
     "metadata": {},
     "output_type": "execute_result"
    }
   ],
   "source": [
    "grid = pop_tools.get_grid('POP_gx1v6')\n",
    "grid"
   ]
  },
  {
   "cell_type": "markdown",
   "metadata": {},
   "source": [
    "Find the portion of the domain that is south of 30°S. Create a slice object corresponding to this region.\n",
    "\n",
    "First, let's visualize the TLAT array."
   ]
  },
  {
   "cell_type": "code",
   "execution_count": 5,
   "metadata": {},
   "outputs": [
    {
     "data": {
      "text/plain": [
       "slice(0, 93, None)"
      ]
     },
     "execution_count": 5,
     "metadata": {},
     "output_type": "execute_result"
    }
   ],
   "source": [
    "jnx = np.where(grid.TLAT[:, 0] <= -30)[0]\n",
    "lat_slice = slice(jnx[0], jnx[-1]+1)\n",
    "lat_slice"
   ]
  },
  {
   "cell_type": "markdown",
   "metadata": {},
   "source": [
    "### Construct a region mask"
   ]
  },
  {
   "cell_type": "code",
   "execution_count": 6,
   "metadata": {},
   "outputs": [
    {
     "data": {
      "text/html": [
       "<pre>&lt;xarray.DataArray &#x27;masked_area&#x27; (region: 3, nlat: 93, nlon: 320)&gt;\n",
       "array([[[           nan,            nan,            nan, ...,\n",
       "                    nan,            nan,            nan],\n",
       "        [           nan,            nan,            nan, ...,\n",
       "                    nan,            nan,            nan],\n",
       "        [1.52530781e+13, 1.52530781e+13, 1.52530781e+13, ...,\n",
       "                    nan,            nan,            nan],\n",
       "        ...,\n",
       "        [0.00000000e+00, 0.00000000e+00, 0.00000000e+00, ...,\n",
       "         0.00000000e+00, 0.00000000e+00, 0.00000000e+00],\n",
       "        [0.00000000e+00, 0.00000000e+00, 0.00000000e+00, ...,\n",
       "         0.00000000e+00, 0.00000000e+00, 0.00000000e+00],\n",
       "        [0.00000000e+00, 0.00000000e+00, 0.00000000e+00, ...,\n",
       "         0.00000000e+00, 0.00000000e+00, 0.00000000e+00]],\n",
       "\n",
       "       [[           nan,            nan,            nan, ...,\n",
       "                    nan,            nan,            nan],\n",
       "        [           nan,            nan,            nan, ...,\n",
       "                    nan,            nan,            nan],\n",
       "        [1.52530781e+13, 1.52530781e+13, 1.52530781e+13, ...,\n",
       "                    nan,            nan,            nan],\n",
       "        ...,\n",
       "        [0.00000000e+00, 0.00000000e+00, 0.00000000e+00, ...,\n",
       "         0.00000000e+00, 0.00000000e+00, 0.00000000e+00],\n",
       "        [0.00000000e+00, 0.00000000e+00, 0.00000000e+00, ...,\n",
       "         0.00000000e+00, 0.00000000e+00, 0.00000000e+00],\n",
       "        [0.00000000e+00, 0.00000000e+00, 0.00000000e+00, ...,\n",
       "         0.00000000e+00, 0.00000000e+00, 0.00000000e+00]],\n",
       "\n",
       "       [[           nan,            nan,            nan, ...,\n",
       "                    nan,            nan,            nan],\n",
       "        [           nan,            nan,            nan, ...,\n",
       "                    nan,            nan,            nan],\n",
       "        [0.00000000e+00, 0.00000000e+00, 0.00000000e+00, ...,\n",
       "                    nan,            nan,            nan],\n",
       "        ...,\n",
       "        [0.00000000e+00, 0.00000000e+00, 0.00000000e+00, ...,\n",
       "         0.00000000e+00, 0.00000000e+00, 0.00000000e+00],\n",
       "        [0.00000000e+00, 0.00000000e+00, 0.00000000e+00, ...,\n",
       "         0.00000000e+00, 0.00000000e+00, 0.00000000e+00],\n",
       "        [0.00000000e+00, 0.00000000e+00, 0.00000000e+00, ...,\n",
       "         0.00000000e+00, 0.00000000e+00, 0.00000000e+00]]])\n",
       "Coordinates:\n",
       "  * region   (region) &lt;U14 &#x27;Southern Ocean&#x27; &#x27;WAP &amp; Atlantic&#x27; &#x27;Indo-Pacific&#x27;\n",
       "Dimensions without coordinates: nlat, nlon</pre>"
      ],
      "text/plain": [
       "<xarray.DataArray 'masked_area' (region: 3, nlat: 93, nlon: 320)>\n",
       "array([[[           nan,            nan,            nan, ...,\n",
       "                    nan,            nan,            nan],\n",
       "        [           nan,            nan,            nan, ...,\n",
       "                    nan,            nan,            nan],\n",
       "        [1.52530781e+13, 1.52530781e+13, 1.52530781e+13, ...,\n",
       "                    nan,            nan,            nan],\n",
       "        ...,\n",
       "        [0.00000000e+00, 0.00000000e+00, 0.00000000e+00, ...,\n",
       "         0.00000000e+00, 0.00000000e+00, 0.00000000e+00],\n",
       "        [0.00000000e+00, 0.00000000e+00, 0.00000000e+00, ...,\n",
       "         0.00000000e+00, 0.00000000e+00, 0.00000000e+00],\n",
       "        [0.00000000e+00, 0.00000000e+00, 0.00000000e+00, ...,\n",
       "         0.00000000e+00, 0.00000000e+00, 0.00000000e+00]],\n",
       "\n",
       "       [[           nan,            nan,            nan, ...,\n",
       "                    nan,            nan,            nan],\n",
       "        [           nan,            nan,            nan, ...,\n",
       "                    nan,            nan,            nan],\n",
       "        [1.52530781e+13, 1.52530781e+13, 1.52530781e+13, ...,\n",
       "                    nan,            nan,            nan],\n",
       "        ...,\n",
       "        [0.00000000e+00, 0.00000000e+00, 0.00000000e+00, ...,\n",
       "         0.00000000e+00, 0.00000000e+00, 0.00000000e+00],\n",
       "        [0.00000000e+00, 0.00000000e+00, 0.00000000e+00, ...,\n",
       "         0.00000000e+00, 0.00000000e+00, 0.00000000e+00],\n",
       "        [0.00000000e+00, 0.00000000e+00, 0.00000000e+00, ...,\n",
       "         0.00000000e+00, 0.00000000e+00, 0.00000000e+00]],\n",
       "\n",
       "       [[           nan,            nan,            nan, ...,\n",
       "                    nan,            nan,            nan],\n",
       "        [           nan,            nan,            nan, ...,\n",
       "                    nan,            nan,            nan],\n",
       "        [0.00000000e+00, 0.00000000e+00, 0.00000000e+00, ...,\n",
       "                    nan,            nan,            nan],\n",
       "        ...,\n",
       "        [0.00000000e+00, 0.00000000e+00, 0.00000000e+00, ...,\n",
       "         0.00000000e+00, 0.00000000e+00, 0.00000000e+00],\n",
       "        [0.00000000e+00, 0.00000000e+00, 0.00000000e+00, ...,\n",
       "         0.00000000e+00, 0.00000000e+00, 0.00000000e+00],\n",
       "        [0.00000000e+00, 0.00000000e+00, 0.00000000e+00, ...,\n",
       "         0.00000000e+00, 0.00000000e+00, 0.00000000e+00]]])\n",
       "Coordinates:\n",
       "  * region   (region) <U14 'Southern Ocean' 'WAP & Atlantic' 'Indo-Pacific'\n",
       "Dimensions without coordinates: nlat, nlon"
      ]
     },
     "execution_count": 6,
     "metadata": {},
     "output_type": "execute_result"
    }
   ],
   "source": [
    "# define a list of tuples describing our regions: (region_name, logical_array)\n",
    "so_logic = (grid.TLAT <= -45)\n",
    "mask_logic = [\n",
    "    ('Southern Ocean', so_logic), \n",
    "    ('WAP & Atlantic', so_logic & ((grid.TLONG > 260) | (grid.TLONG < 25))),\n",
    "    ('Indo-Pacific', so_logic & ~((grid.TLONG > 260) | (grid.TLONG < 25))),    \n",
    "]\n",
    "\n",
    "# create a region coordinate with the region names\n",
    "region = xr.DataArray(\n",
    "    [t[0] for t in mask_logic], \n",
    "    dims=('region'), \n",
    ")\n",
    "nregion = len(region)\n",
    "\n",
    "\n",
    "# create a masked array array\n",
    "masked_area = xr.DataArray(\n",
    "    np.zeros((nregion,)+grid.TLAT.shape), \n",
    "    dims=('region',)+grid.TLAT.dims,\n",
    "    coords={'region': region},\n",
    "    name='masked_area',\n",
    ")\n",
    "for i, name_logic in enumerate(mask_logic):\n",
    "    masked_area.data[i, :, :] = grid.TAREA.where(name_logic[1]).fillna(0.).where(grid.KMT>0)\n",
    "\n",
    "# subset to the lat range from above\n",
    "masked_area = masked_area.isel(nlat=lat_slice)\n",
    "masked_area"
   ]
  },
  {
   "cell_type": "markdown",
   "metadata": {},
   "source": [
    "Make a quick-look plot of the regions."
   ]
  },
  {
   "cell_type": "code",
   "execution_count": 7,
   "metadata": {},
   "outputs": [
    {
     "data": {
      "image/png": "[encoded data removed]",
      "text/plain": [
       "<Figure size 288x648 with 6 Axes>"
      ]
     },
     "metadata": {
      "needs_background": "light"
     },
     "output_type": "display_data"
    }
   ],
   "source": [
    "ncol = int(np.sqrt(nregion))\n",
    "nrow = int(nregion/ncol) + min(1, nregion%ncol)\n",
    "\n",
    "fig, ax = plt.subplots(nrow, ncol, figsize=(4*ncol, 3*nrow),\n",
    "                       constrained_layout=True)\n",
    "\n",
    "for i, region in enumerate(masked_area.region.values):\n",
    "    plt.axes(ax.ravel()[i])\n",
    "    masked_area.sel(region=region).plot()"
   ]
  },
  {
   "cell_type": "markdown",
   "metadata": {},
   "source": [
    "Check that the sum across the region dimension is as expected. Land should have the value nregion and elsewhere the coverage should reflect the number of regions the cover each cell, e.g., if there is no overlap, the plot should show \"1\"."
   ]
  },
  {
   "cell_type": "code",
   "execution_count": 8,
   "metadata": {},
   "outputs": [
    {
     "data": {
      "image/png": "[encoded data removed]",
      "text/plain": [
       "<Figure size 432x288 with 2 Axes>"
      ]
     },
     "metadata": {
      "needs_background": "light"
     },
     "output_type": "display_data"
    }
   ],
   "source": [
    "masked_area.where(masked_area==0).fillna(1.).sum('region').plot();"
   ]
  },
  {
   "cell_type": "markdown",
   "metadata": {},
   "source": [
    "### Read the CESM-LE data\n",
    "We will use `intake-esm`, which is a data catalog tool. It enables querying a database for the files we want, then loading those directly as an xarray.Dataset.\n",
    "\n",
    "First step is to set the \"collection\" for the CESM-LE, which depends on a json file conforming to the ESM Catalog Specification."
   ]
  },
  {
   "cell_type": "code",
   "execution_count": 9,
   "metadata": {},
   "outputs": [],
   "source": [
    "#below, catalog_file doesn't work:\n",
    "# [Errno 2] No such file or directory: '/data/glade-cesm1-le.json'"
   ]
  },
  {
   "cell_type": "code",
   "execution_count": 10,
   "metadata": {},
   "outputs": [
    {
     "data": {
      "text/plain": [
       "glade-cesm1-le-ESM Collection with 191066 entries:\n",
       "\t> 7 experiment(s)\n",
       "\n",
       "\t> 108 case(s)\n",
       "\n",
       "\t> 6 component(s)\n",
       "\n",
       "\t> 15 stream(s)\n",
       "\n",
       "\t> 1052 variable(s)\n",
       "\n",
       "\t> 116 date_range(s)\n",
       "\n",
       "\t> 40 member_id(s)\n",
       "\n",
       "\t> 191066 path(s)\n",
       "\n",
       "\t> 6 ctrl_branch_year(s)\n",
       "\n",
       "\t> 4 ctrl_experiment(s)\n",
       "\n",
       "\t> 41 ctrl_member_id(s)"
      ]
     },
     "execution_count": 10,
     "metadata": {},
     "output_type": "execute_result"
    }
   ],
   "source": [
    "catalog_file = './data/glade-cesm1-le.json'\n",
    "variables = ['SST', 'diatChl', 'spChl', 'diazChl', 'IFRAC']\n",
    "experiments = ['20C', 'RCP85']\n",
    "stream = 'pop.h'\n",
    "    \n",
    "col = intake.open_esm_datastore(catalog_file)\n",
    "col"
   ]
  },
  {
   "cell_type": "markdown",
   "metadata": {},
   "source": [
    "Now we will search the collection for the ensemble members (unique member_id's) that have a chlorophyll field. This is necessary because the ocean biogeochemistry was corrupted in some members and the data deleted.\n",
    "\n",
    "In this cell, member_id is a list of the ensemble members we want to operate on."
   ]
  },
  {
   "cell_type": "code",
   "execution_count": 11,
   "metadata": {},
   "outputs": [
    {
     "name": "stdout",
     "output_type": "stream",
     "text": [
      "[1, 2, 9, 10, 11, 12, 13, 14, 15, 16, 17, 18, 19, 20, 21, 22, 23, 24, 25, 26, 27, 28, 29, 30, 31, 32, 33, 34, 35, 101, 102, 103, 104, 105]\n"
     ]
    }
   ],
   "source": [
    "col_sub = col.search(experiment=['20C'],                      \n",
    "                     stream='pop.h', \n",
    "                     variable=['diatChl'])\n",
    "\n",
    "member_id = list(col_sub.df.member_id.unique())\n",
    "print(member_id)"
   ]
  },
  {
   "cell_type": "markdown",
   "metadata": {},
   "source": [
    "### Now let's search for the data we want\n",
    "Specify a list of variables and perform a search. Under the hood, the search functionality uses pandas data frames. We can view that frame here using the `.df` syntax."
   ]
  },
  {
   "cell_type": "code",
   "execution_count": 12,
   "metadata": {},
   "outputs": [
    {
     "name": "stdout",
     "output_type": "stream",
     "text": [
      "glade-cesm1-le-ESM Collection with 475 entries:\n",
      "\t> 2 experiment(s)\n",
      "\n",
      "\t> 68 case(s)\n",
      "\n",
      "\t> 1 component(s)\n",
      "\n",
      "\t> 1 stream(s)\n",
      "\n",
      "\t> 5 variable(s)\n",
      "\n",
      "\t> 5 date_range(s)\n",
      "\n",
      "\t> 34 member_id(s)\n",
      "\n",
      "\t> 475 path(s)\n",
      "\n",
      "\t> 3 ctrl_branch_year(s)\n",
      "\n",
      "\t> 2 ctrl_experiment(s)\n",
      "\n",
      "\t> 34 ctrl_member_id(s)\n",
      "\n"
     ]
    },
    {
     "data": {
      "text/html": [
       "<div>\n",
       "<style scoped>\n",
       "    .dataframe tbody tr th:only-of-type {\n",
       "        vertical-align: middle;\n",
       "    }\n",
       "\n",
       "    .dataframe tbody tr th {\n",
       "        vertical-align: top;\n",
       "    }\n",
       "\n",
       "    .dataframe thead th {\n",
       "        text-align: right;\n",
       "    }\n",
       "</style>\n",
       "<table border=\"1\" class=\"dataframe\">\n",
       "  <thead>\n",
       "    <tr style=\"text-align: right;\">\n",
       "      <th></th>\n",
       "      <th>experiment</th>\n",
       "      <th>case</th>\n",
       "      <th>component</th>\n",
       "      <th>stream</th>\n",
       "      <th>variable</th>\n",
       "      <th>date_range</th>\n",
       "      <th>member_id</th>\n",
       "      <th>path</th>\n",
       "      <th>ctrl_branch_year</th>\n",
       "      <th>ctrl_experiment</th>\n",
       "      <th>ctrl_member_id</th>\n",
       "    </tr>\n",
       "  </thead>\n",
       "  <tbody>\n",
       "    <tr>\n",
       "      <th>0</th>\n",
       "      <td>20C</td>\n",
       "      <td>b.e11.B20TRC5CNBDRD.f09_g16.001</td>\n",
       "      <td>ocn</td>\n",
       "      <td>pop.h</td>\n",
       "      <td>IFRAC</td>\n",
       "      <td>185001-200512</td>\n",
       "      <td>1</td>\n",
       "      <td>/glade/campaign/cesm/collections/cesmLE/CESM-C...</td>\n",
       "      <td>402</td>\n",
       "      <td>CTRL</td>\n",
       "      <td>1</td>\n",
       "    </tr>\n",
       "    <tr>\n",
       "      <th>1</th>\n",
       "      <td>20C</td>\n",
       "      <td>b.e11.B20TRC5CNBDRD.f09_g16.002</td>\n",
       "      <td>ocn</td>\n",
       "      <td>pop.h</td>\n",
       "      <td>IFRAC</td>\n",
       "      <td>192001-200512</td>\n",
       "      <td>2</td>\n",
       "      <td>/glade/campaign/cesm/collections/cesmLE/CESM-C...</td>\n",
       "      <td>1920</td>\n",
       "      <td>20C</td>\n",
       "      <td>1</td>\n",
       "    </tr>\n",
       "    <tr>\n",
       "      <th>2</th>\n",
       "      <td>20C</td>\n",
       "      <td>b.e11.B20TRC5CNBDRD.f09_g16.009</td>\n",
       "      <td>ocn</td>\n",
       "      <td>pop.h</td>\n",
       "      <td>IFRAC</td>\n",
       "      <td>192001-200512</td>\n",
       "      <td>9</td>\n",
       "      <td>/glade/campaign/cesm/collections/cesmLE/CESM-C...</td>\n",
       "      <td>1920</td>\n",
       "      <td>20C</td>\n",
       "      <td>1</td>\n",
       "    </tr>\n",
       "    <tr>\n",
       "      <th>3</th>\n",
       "      <td>20C</td>\n",
       "      <td>b.e11.B20TRC5CNBDRD.f09_g16.010</td>\n",
       "      <td>ocn</td>\n",
       "      <td>pop.h</td>\n",
       "      <td>IFRAC</td>\n",
       "      <td>192001-200512</td>\n",
       "      <td>10</td>\n",
       "      <td>/glade/campaign/cesm/collections/cesmLE/CESM-C...</td>\n",
       "      <td>1920</td>\n",
       "      <td>20C</td>\n",
       "      <td>1</td>\n",
       "    </tr>\n",
       "    <tr>\n",
       "      <th>4</th>\n",
       "      <td>20C</td>\n",
       "      <td>b.e11.B20TRC5CNBDRD.f09_g16.011</td>\n",
       "      <td>ocn</td>\n",
       "      <td>pop.h</td>\n",
       "      <td>IFRAC</td>\n",
       "      <td>192001-200512</td>\n",
       "      <td>11</td>\n",
       "      <td>/glade/campaign/cesm/collections/cesmLE/CESM-C...</td>\n",
       "      <td>1920</td>\n",
       "      <td>20C</td>\n",
       "      <td>1</td>\n",
       "    </tr>\n",
       "  </tbody>\n",
       "</table>\n",
       "</div>"
      ],
      "text/plain": [
       "  experiment                             case component stream variable  \\\n",
       "0        20C  b.e11.B20TRC5CNBDRD.f09_g16.001       ocn  pop.h    IFRAC   \n",
       "1        20C  b.e11.B20TRC5CNBDRD.f09_g16.002       ocn  pop.h    IFRAC   \n",
       "2        20C  b.e11.B20TRC5CNBDRD.f09_g16.009       ocn  pop.h    IFRAC   \n",
       "3        20C  b.e11.B20TRC5CNBDRD.f09_g16.010       ocn  pop.h    IFRAC   \n",
       "4        20C  b.e11.B20TRC5CNBDRD.f09_g16.011       ocn  pop.h    IFRAC   \n",
       "\n",
       "      date_range  member_id  \\\n",
       "0  185001-200512          1   \n",
       "1  192001-200512          2   \n",
       "2  192001-200512          9   \n",
       "3  192001-200512         10   \n",
       "4  192001-200512         11   \n",
       "\n",
       "                                                path  ctrl_branch_year  \\\n",
       "0  /glade/campaign/cesm/collections/cesmLE/CESM-C...               402   \n",
       "1  /glade/campaign/cesm/collections/cesmLE/CESM-C...              1920   \n",
       "2  /glade/campaign/cesm/collections/cesmLE/CESM-C...              1920   \n",
       "3  /glade/campaign/cesm/collections/cesmLE/CESM-C...              1920   \n",
       "4  /glade/campaign/cesm/collections/cesmLE/CESM-C...              1920   \n",
       "\n",
       "  ctrl_experiment  ctrl_member_id  \n",
       "0            CTRL               1  \n",
       "1             20C               1  \n",
       "2             20C               1  \n",
       "3             20C               1  \n",
       "4             20C               1  "
      ]
     },
     "execution_count": 12,
     "metadata": {},
     "output_type": "execute_result"
    }
   ],
   "source": [
    "col_sub = col.search(\n",
    "    experiment=experiments, \n",
    "    stream=stream, \n",
    "    variable=variables,\n",
    "    member_id=member_id,\n",
    "    )\n",
    "\n",
    "print(col_sub)\n",
    "\n",
    "col_sub.df.head()"
   ]
  },
  {
   "cell_type": "markdown",
   "metadata": {},
   "source": [
    "Now we can use the `to_dataset_dict` method to return a dictionary of `xarray.Dataset`'s. `intake_esm` makes groups of these according to rules in the collection spec file.\n",
    "\n",
    "We can use the preprocess parameter to pass in a function that makes some corrections to the dataset. So first we define a function that does the following:\n",
    "\n",
    "* fix the time coordinate to be the middle of the interval\n",
    "* drop the singleton dimension on SST (which screws up coordinate alignment)\n",
    "* subset to the time-interval 1920-2100"
   ]
  },
  {
   "cell_type": "code",
   "execution_count": 13,
   "metadata": {},
   "outputs": [],
   "source": [
    "def fix_sst_time_and_subset(ds):\n",
    "    \"\"\"Fix some things in the dataset and subset in space\"\"\"   \n",
    "    grid_vars = ['KMT', 'TAREA', 'TLAT', 'TLONG', 'z_t', 'dz', 'z_t_150m', 'time', 'time_bound']\n",
    "\n",
    "    if 'SST' in ds:\n",
    "        ds['SST'] = ds.SST.isel(z_t=0, drop=True)\n",
    "             \n",
    "    data_vars = list(filter(lambda v: v in variables, ds.data_vars))\n",
    "    \n",
    "    ds = ds[data_vars+grid_vars].isel(nlat=lat_slice)\n",
    "    \n",
    "    # set grid variables to coordinates to ease concatenation in intake-esm\n",
    "    new_coords = set(grid_vars) - set(ds.coords)\n",
    "\n",
    "    return ds.set_coords(new_coords)"
   ]
  },
  {
   "cell_type": "code",
   "execution_count": 14,
   "metadata": {},
   "outputs": [
    {
     "name": "stdout",
     "output_type": "stream",
     "text": [
      "\n",
      "--> The keys in the returned dictionary of datasets are constructed as follows:\n",
      "\t'component.experiment.stream'\n",
      "                \n",
      "--> There is/are 2 group(s)\n",
      "CPU times: user 5.74 s, sys: 542 ms, total: 6.29 s\n",
      "Wall time: 1min 28s\n"
     ]
    },
    {
     "data": {
      "text/plain": [
       "{'ocn.20C.pop.h': <xarray.Dataset>\n",
       " Dimensions:     (d2: 2, member_id: 34, nlat: 93, nlon: 320, time: 1872, z_t: 60, z_t_150m: 15)\n",
       " Coordinates:\n",
       "   * z_t         (z_t) float64 500.0 1.5e+03 2.5e+03 ... 5.125e+05 5.375e+05\n",
       "     TLAT        (nlat, nlon) float64 dask.array<chunksize=(93, 320), meta=np.ndarray>\n",
       "     time_bound  (time, d2) float64 dask.array<chunksize=(60, 2), meta=np.ndarray>\n",
       "     TAREA       (nlat, nlon) float64 dask.array<chunksize=(93, 320), meta=np.ndarray>\n",
       "     TLONG       (nlat, nlon) float64 dask.array<chunksize=(93, 320), meta=np.ndarray>\n",
       "     ULONG       (nlat, nlon) float64 dask.array<chunksize=(93, 320), meta=np.ndarray>\n",
       "     dz          (z_t) float32 dask.array<chunksize=(60,), meta=np.ndarray>\n",
       "     ULAT        (nlat, nlon) float64 dask.array<chunksize=(93, 320), meta=np.ndarray>\n",
       "     KMT         (nlat, nlon) float64 dask.array<chunksize=(93, 320), meta=np.ndarray>\n",
       "   * z_t_150m    (z_t_150m) float32 500.0 1500.0 2500.0 ... 13500.0 14500.0\n",
       "   * time        (time) float64 6.753e+05 6.753e+05 ... 7.322e+05 7.322e+05\n",
       "   * member_id   (member_id) int64 1 2 9 10 11 12 13 ... 35 101 102 103 104 105\n",
       " Dimensions without coordinates: d2, nlat, nlon\n",
       " Data variables:\n",
       "     IFRAC       (member_id, time, nlat, nlon) float32 dask.array<chunksize=(1, 60, 93, 320), meta=np.ndarray>\n",
       "     SST         (member_id, time, nlat, nlon) float32 dask.array<chunksize=(1, 60, 93, 320), meta=np.ndarray>\n",
       "     diatChl     (member_id, time, z_t_150m, nlat, nlon) float32 dask.array<chunksize=(1, 60, 15, 93, 320), meta=np.ndarray>\n",
       "     diazChl     (member_id, time, z_t_150m, nlat, nlon) float32 dask.array<chunksize=(1, 60, 15, 93, 320), meta=np.ndarray>\n",
       "     spChl       (member_id, time, z_t_150m, nlat, nlon) float32 dask.array<chunksize=(1, 60, 15, 93, 320), meta=np.ndarray>\n",
       " Attributes:\n",
       "     nco_openmp_thread_number:  1\n",
       "     contents:                  Diagnostic and Prognostic Variables\n",
       "     intake_esm_varname:        spChl\n",
       "     history:                   Sat Aug 31 15:25:08 2013: /glade/apps/opt/nco/...\n",
       "     source:                    CCSM POP2, the CCSM Ocean Component\n",
       "     revision:                  $Id: tavg.F90 41939 2012-11-14 16:37:23Z mlevy...\n",
       "     cell_methods:              cell_methods = time: mean ==> the variable val...\n",
       "     NCO:                       4.4.4\n",
       "     tavg_sum_qflux:            2592000.0\n",
       "     nsteps_total:              750\n",
       "     calendar:                  All years have exactly  365 days.\n",
       "     tavg_sum:                  2592000.0\n",
       "     Conventions:               CF-1.0; http://www.cgd.ucar.edu/cms/eaton/netc...,\n",
       " 'ocn.RCP85.pop.h': <xarray.Dataset>\n",
       " Dimensions:     (d2: 2, member_id: 34, nlat: 93, nlon: 320, time: 1140, z_t: 60, z_t_150m: 15)\n",
       " Coordinates:\n",
       "   * z_t         (z_t) float64 500.0 1.5e+03 2.5e+03 ... 5.125e+05 5.375e+05\n",
       "     ULONG       (nlat, nlon) float64 dask.array<chunksize=(93, 320), meta=np.ndarray>\n",
       "     time_bound  (time, d2) float64 dask.array<chunksize=(60, 2), meta=np.ndarray>\n",
       "     dz          (z_t) float32 dask.array<chunksize=(60,), meta=np.ndarray>\n",
       "     TLAT        (nlat, nlon) float64 dask.array<chunksize=(93, 320), meta=np.ndarray>\n",
       "     TAREA       (nlat, nlon) float64 dask.array<chunksize=(93, 320), meta=np.ndarray>\n",
       "     KMT         (nlat, nlon) float64 dask.array<chunksize=(93, 320), meta=np.ndarray>\n",
       "     ULAT        (nlat, nlon) float64 dask.array<chunksize=(93, 320), meta=np.ndarray>\n",
       "     TLONG       (nlat, nlon) float64 dask.array<chunksize=(93, 320), meta=np.ndarray>\n",
       "   * time        (time) float64 7.322e+05 7.322e+05 ... 7.668e+05 7.669e+05\n",
       "   * z_t_150m    (z_t_150m) float32 500.0 1500.0 2500.0 ... 13500.0 14500.0\n",
       "   * member_id   (member_id) int64 1 2 9 10 11 12 13 ... 35 101 102 103 104 105\n",
       " Dimensions without coordinates: d2, nlat, nlon\n",
       " Data variables:\n",
       "     IFRAC       (member_id, time, nlat, nlon) float32 dask.array<chunksize=(1, 60, 93, 320), meta=np.ndarray>\n",
       "     SST         (member_id, time, nlat, nlon) float32 dask.array<chunksize=(1, 60, 93, 320), meta=np.ndarray>\n",
       "     diatChl     (member_id, time, z_t_150m, nlat, nlon) float32 dask.array<chunksize=(1, 60, 15, 93, 320), meta=np.ndarray>\n",
       "     diazChl     (member_id, time, z_t_150m, nlat, nlon) float32 dask.array<chunksize=(1, 60, 15, 93, 320), meta=np.ndarray>\n",
       "     spChl       (member_id, time, z_t_150m, nlat, nlon) float32 dask.array<chunksize=(1, 60, 15, 93, 320), meta=np.ndarray>\n",
       " Attributes:\n",
       "     intake_esm_varname:        spChl\n",
       "     history:                   Fri Aug 16 08:18:13 2013: /glade/apps/opt/nco/...\n",
       "     source:                    CCSM POP2, the CCSM Ocean Component\n",
       "     tavg_sum_qflux:            2592000.0\n",
       "     nsteps_total:              750\n",
       "     Conventions:               CF-1.0; http://www.cgd.ucar.edu/cms/eaton/netc...\n",
       "     start_time:                This dataset was created on 2014-12-26 at 15:5...\n",
       "     contents:                  Diagnostic and Prognostic Variables\n",
       "     NCO:                       4.3.4\n",
       "     nco_openmp_thread_number:  1\n",
       "     calendar:                  All years have exactly  365 days.\n",
       "     cell_methods:              cell_methods = time: mean ==> the variable val...\n",
       "     revision:                  $Id: tavg.F90 41939 2012-11-14 16:37:23Z mlevy...\n",
       "     tavg_sum:                  2592000.0}"
      ]
     },
     "execution_count": 14,
     "metadata": {},
     "output_type": "execute_result"
    }
   ],
   "source": [
    "%%time\n",
    "dsets = col_sub.to_dataset_dict(cdf_kwargs={'chunks': {'time': 60}, 'decode_times': False},\n",
    "                                preprocess=fix_sst_time_and_subset)\n",
    "dsets"
   ]
  },
  {
   "cell_type": "markdown",
   "metadata": {},
   "source": [
    "Now, let's compute the total surface chlorophyll, put time at the mid-point of the interval, and subset to 1920-2100."
   ]
  },
  {
   "cell_type": "code",
   "execution_count": 15,
   "metadata": {},
   "outputs": [],
   "source": [
    "def compute_chl_surf(ds):\n",
    "    \"\"\"compute surface chl\"\"\"\n",
    "\n",
    "    ds['Chl_surf'] = (ds.diatChl + ds.spChl + ds.diazChl).isel(z_t_150m=0)\n",
    "    ds.Chl_surf.attrs = ds.diatChl.attrs\n",
    "    ds.Chl_surf.attrs['long_name'] = 'Surface chlorophyll'\n",
    "\n",
    "    return ds.drop(['diatChl', 'spChl', 'diazChl'])\n",
    "\n",
    "\n",
    "def fix_time(ds):\n",
    "    ds = ds.copy(deep=True)\n",
    "    ds['time'] = xr.DataArray(cftime.num2date(ds.time_bound.mean(dim='d2'), units=ds.time.units, \n",
    "                                              calendar=ds.time.calendar), dims=('time'))\n",
    "    return ds"
   ]
  },
  {
   "cell_type": "code",
   "execution_count": 16,
   "metadata": {},
   "outputs": [
    {
     "data": {
      "text/plain": [
       "{'ocn.20C.pop.h': <xarray.Dataset>\n",
       " Dimensions:     (d2: 2, member_id: 34, nlat: 93, nlon: 320, time: 1032, z_t: 60, z_t_150m: 15)\n",
       " Coordinates:\n",
       "   * z_t         (z_t) float64 500.0 1.5e+03 2.5e+03 ... 5.125e+05 5.375e+05\n",
       "     TLAT        (nlat, nlon) float64 dask.array<chunksize=(93, 320), meta=np.ndarray>\n",
       "     time_bound  (time, d2) float64 dask.array<chunksize=(60, 2), meta=np.ndarray>\n",
       "     TAREA       (nlat, nlon) float64 dask.array<chunksize=(93, 320), meta=np.ndarray>\n",
       "     TLONG       (nlat, nlon) float64 dask.array<chunksize=(93, 320), meta=np.ndarray>\n",
       "     ULONG       (nlat, nlon) float64 dask.array<chunksize=(93, 320), meta=np.ndarray>\n",
       "     dz          (z_t) float32 dask.array<chunksize=(60,), meta=np.ndarray>\n",
       "     ULAT        (nlat, nlon) float64 dask.array<chunksize=(93, 320), meta=np.ndarray>\n",
       "     KMT         (nlat, nlon) float64 dask.array<chunksize=(93, 320), meta=np.ndarray>\n",
       "   * z_t_150m    (z_t_150m) float32 500.0 1500.0 2500.0 ... 13500.0 14500.0\n",
       "   * time        (time) object 1920-01-16 12:00:00 ... 2005-12-16 12:00:00\n",
       "   * member_id   (member_id) int64 1 2 9 10 11 12 13 ... 35 101 102 103 104 105\n",
       " Dimensions without coordinates: d2, nlat, nlon\n",
       " Data variables:\n",
       "     IFRAC       (member_id, time, nlat, nlon) float32 dask.array<chunksize=(1, 60, 93, 320), meta=np.ndarray>\n",
       "     SST         (member_id, time, nlat, nlon) float32 dask.array<chunksize=(1, 60, 93, 320), meta=np.ndarray>\n",
       "     Chl_surf    (member_id, time, nlat, nlon) float32 dask.array<chunksize=(1, 60, 93, 320), meta=np.ndarray>\n",
       " Attributes:\n",
       "     nco_openmp_thread_number:  1\n",
       "     contents:                  Diagnostic and Prognostic Variables\n",
       "     intake_esm_varname:        spChl\n",
       "     history:                   Sat Aug 31 15:25:08 2013: /glade/apps/opt/nco/...\n",
       "     source:                    CCSM POP2, the CCSM Ocean Component\n",
       "     revision:                  $Id: tavg.F90 41939 2012-11-14 16:37:23Z mlevy...\n",
       "     cell_methods:              cell_methods = time: mean ==> the variable val...\n",
       "     NCO:                       4.4.4\n",
       "     tavg_sum_qflux:            2592000.0\n",
       "     nsteps_total:              750\n",
       "     calendar:                  All years have exactly  365 days.\n",
       "     tavg_sum:                  2592000.0\n",
       "     Conventions:               CF-1.0; http://www.cgd.ucar.edu/cms/eaton/netc...,\n",
       " 'ocn.RCP85.pop.h': <xarray.Dataset>\n",
       " Dimensions:     (d2: 2, member_id: 34, nlat: 93, nlon: 320, time: 1140, z_t: 60, z_t_150m: 15)\n",
       " Coordinates:\n",
       "   * z_t         (z_t) float64 500.0 1.5e+03 2.5e+03 ... 5.125e+05 5.375e+05\n",
       "     ULONG       (nlat, nlon) float64 dask.array<chunksize=(93, 320), meta=np.ndarray>\n",
       "     time_bound  (time, d2) float64 dask.array<chunksize=(60, 2), meta=np.ndarray>\n",
       "     dz          (z_t) float32 dask.array<chunksize=(60,), meta=np.ndarray>\n",
       "     TLAT        (nlat, nlon) float64 dask.array<chunksize=(93, 320), meta=np.ndarray>\n",
       "     TAREA       (nlat, nlon) float64 dask.array<chunksize=(93, 320), meta=np.ndarray>\n",
       "     KMT         (nlat, nlon) float64 dask.array<chunksize=(93, 320), meta=np.ndarray>\n",
       "     ULAT        (nlat, nlon) float64 dask.array<chunksize=(93, 320), meta=np.ndarray>\n",
       "     TLONG       (nlat, nlon) float64 dask.array<chunksize=(93, 320), meta=np.ndarray>\n",
       "   * time        (time) object 2006-01-17 00:30:00 ... 2100-12-16 12:00:00\n",
       "   * z_t_150m    (z_t_150m) float32 500.0 1500.0 2500.0 ... 13500.0 14500.0\n",
       "   * member_id   (member_id) int64 1 2 9 10 11 12 13 ... 35 101 102 103 104 105\n",
       " Dimensions without coordinates: d2, nlat, nlon\n",
       " Data variables:\n",
       "     IFRAC       (member_id, time, nlat, nlon) float32 dask.array<chunksize=(1, 60, 93, 320), meta=np.ndarray>\n",
       "     SST         (member_id, time, nlat, nlon) float32 dask.array<chunksize=(1, 60, 93, 320), meta=np.ndarray>\n",
       "     Chl_surf    (member_id, time, nlat, nlon) float32 dask.array<chunksize=(1, 60, 93, 320), meta=np.ndarray>\n",
       " Attributes:\n",
       "     intake_esm_varname:        spChl\n",
       "     history:                   Fri Aug 16 08:18:13 2013: /glade/apps/opt/nco/...\n",
       "     source:                    CCSM POP2, the CCSM Ocean Component\n",
       "     tavg_sum_qflux:            2592000.0\n",
       "     nsteps_total:              750\n",
       "     Conventions:               CF-1.0; http://www.cgd.ucar.edu/cms/eaton/netc...\n",
       "     start_time:                This dataset was created on 2014-12-26 at 15:5...\n",
       "     contents:                  Diagnostic and Prognostic Variables\n",
       "     NCO:                       4.3.4\n",
       "     nco_openmp_thread_number:  1\n",
       "     calendar:                  All years have exactly  365 days.\n",
       "     cell_methods:              cell_methods = time: mean ==> the variable val...\n",
       "     revision:                  $Id: tavg.F90 41939 2012-11-14 16:37:23Z mlevy...\n",
       "     tavg_sum:                  2592000.0}"
      ]
     },
     "execution_count": 16,
     "metadata": {},
     "output_type": "execute_result"
    }
   ],
   "source": [
    "# fix time\n",
    "dsets2 = {key: fix_time(ds) for key, ds in dsets.items()}\n",
    "\n",
    "# subset time\n",
    "dsets2 = {key: ds.sel(time=slice('1920', '2100')) for key, ds in dsets2.items()}\n",
    "\n",
    "# compute surface chl\n",
    "dsets2 = {key: compute_chl_surf(ds) for key, ds in dsets2.items()}\n",
    "\n",
    "dsets2"
   ]
  },
  {
   "cell_type": "markdown",
   "metadata": {},
   "source": [
    "Concatenate the datasets in time, i.e. 20C + RCP8.5 experiments."
   ]
  },
  {
   "cell_type": "code",
   "execution_count": 17,
   "metadata": {},
   "outputs": [
    {
     "data": {
      "text/html": [
       "<pre>&lt;xarray.Dataset&gt;\n",
       "Dimensions:     (d2: 2, member_id: 34, nlat: 93, nlon: 320, time: 2172, z_t: 60, z_t_150m: 15)\n",
       "Coordinates:\n",
       "    TAREA       (nlat, nlon) float64 1.125e+13 1.125e+13 ... 6.346e+13 6.346e+13\n",
       "    KMT         (nlat, nlon) float64 0.0 0.0 0.0 0.0 0.0 ... 53.0 53.0 53.0 54.0\n",
       "    dz          (z_t) float32 1000.0 1000.0 1000.0 ... 24996.244 24998.11\n",
       "    TLAT        (nlat, nlon) float64 -79.22 -79.22 -79.22 ... -30.08 -30.08\n",
       "    ULAT        (nlat, nlon) float64 -78.95 -78.95 -78.95 ... -29.82 -29.82\n",
       "    ULONG       (nlat, nlon) float64 321.1 322.3 323.4 ... 317.8 318.9 320.0\n",
       "    TLONG       (nlat, nlon) float64 320.6 321.7 322.8 ... 317.2 318.3 319.4\n",
       "  * member_id   (member_id) int64 1 2 9 10 11 12 13 ... 35 101 102 103 104 105\n",
       "  * z_t_150m    (z_t_150m) float32 500.0 1500.0 2500.0 ... 13500.0 14500.0\n",
       "  * z_t         (z_t) float64 500.0 1.5e+03 2.5e+03 ... 5.125e+05 5.375e+05\n",
       "    time_bound  (time, d2) float64 dask.array&lt;chunksize=(60, 2), meta=np.ndarray&gt;\n",
       "  * time        (time) object 1920-01-16 12:00:00 ... 2100-12-16 12:00:00\n",
       "Dimensions without coordinates: d2, nlat, nlon\n",
       "Data variables:\n",
       "    IFRAC       (member_id, time, nlat, nlon) float32 dask.array&lt;chunksize=(1, 60, 93, 320), meta=np.ndarray&gt;\n",
       "    SST         (member_id, time, nlat, nlon) float32 dask.array&lt;chunksize=(1, 60, 93, 320), meta=np.ndarray&gt;\n",
       "    Chl_surf    (member_id, time, nlat, nlon) float32 dask.array&lt;chunksize=(1, 60, 93, 320), meta=np.ndarray&gt;\n",
       "Attributes:\n",
       "    nco_openmp_thread_number:  1\n",
       "    contents:                  Diagnostic and Prognostic Variables\n",
       "    intake_esm_varname:        spChl\n",
       "    history:                   Sat Aug 31 15:25:08 2013: /glade/apps/opt/nco/...\n",
       "    source:                    CCSM POP2, the CCSM Ocean Component\n",
       "    revision:                  $Id: tavg.F90 41939 2012-11-14 16:37:23Z mlevy...\n",
       "    cell_methods:              cell_methods = time: mean ==&gt; the variable val...\n",
       "    NCO:                       4.4.4\n",
       "    tavg_sum_qflux:            2592000.0\n",
       "    nsteps_total:              750\n",
       "    calendar:                  All years have exactly  365 days.\n",
       "    tavg_sum:                  2592000.0\n",
       "    Conventions:               CF-1.0; http://www.cgd.ucar.edu/cms/eaton/netc...</pre>"
      ],
      "text/plain": [
       "<xarray.Dataset>\n",
       "Dimensions:     (d2: 2, member_id: 34, nlat: 93, nlon: 320, time: 2172, z_t: 60, z_t_150m: 15)\n",
       "Coordinates:\n",
       "    TAREA       (nlat, nlon) float64 1.125e+13 1.125e+13 ... 6.346e+13 6.346e+13\n",
       "    KMT         (nlat, nlon) float64 0.0 0.0 0.0 0.0 0.0 ... 53.0 53.0 53.0 54.0\n",
       "    dz          (z_t) float32 1000.0 1000.0 1000.0 ... 24996.244 24998.11\n",
       "    TLAT        (nlat, nlon) float64 -79.22 -79.22 -79.22 ... -30.08 -30.08\n",
       "    ULAT        (nlat, nlon) float64 -78.95 -78.95 -78.95 ... -29.82 -29.82\n",
       "    ULONG       (nlat, nlon) float64 321.1 322.3 323.4 ... 317.8 318.9 320.0\n",
       "    TLONG       (nlat, nlon) float64 320.6 321.7 322.8 ... 317.2 318.3 319.4\n",
       "  * member_id   (member_id) int64 1 2 9 10 11 12 13 ... 35 101 102 103 104 105\n",
       "  * z_t_150m    (z_t_150m) float32 500.0 1500.0 2500.0 ... 13500.0 14500.0\n",
       "  * z_t         (z_t) float64 500.0 1.5e+03 2.5e+03 ... 5.125e+05 5.375e+05\n",
       "    time_bound  (time, d2) float64 dask.array<chunksize=(60, 2), meta=np.ndarray>\n",
       "  * time        (time) object 1920-01-16 12:00:00 ... 2100-12-16 12:00:00\n",
       "Dimensions without coordinates: d2, nlat, nlon\n",
       "Data variables:\n",
       "    IFRAC       (member_id, time, nlat, nlon) float32 dask.array<chunksize=(1, 60, 93, 320), meta=np.ndarray>\n",
       "    SST         (member_id, time, nlat, nlon) float32 dask.array<chunksize=(1, 60, 93, 320), meta=np.ndarray>\n",
       "    Chl_surf    (member_id, time, nlat, nlon) float32 dask.array<chunksize=(1, 60, 93, 320), meta=np.ndarray>\n",
       "Attributes:\n",
       "    nco_openmp_thread_number:  1\n",
       "    contents:                  Diagnostic and Prognostic Variables\n",
       "    intake_esm_varname:        spChl\n",
       "    history:                   Sat Aug 31 15:25:08 2013: /glade/apps/opt/nco/...\n",
       "    source:                    CCSM POP2, the CCSM Ocean Component\n",
       "    revision:                  $Id: tavg.F90 41939 2012-11-14 16:37:23Z mlevy...\n",
       "    cell_methods:              cell_methods = time: mean ==> the variable val...\n",
       "    NCO:                       4.4.4\n",
       "    tavg_sum_qflux:            2592000.0\n",
       "    nsteps_total:              750\n",
       "    calendar:                  All years have exactly  365 days.\n",
       "    tavg_sum:                  2592000.0\n",
       "    Conventions:               CF-1.0; http://www.cgd.ucar.edu/cms/eaton/netc..."
      ]
     },
     "execution_count": 17,
     "metadata": {},
     "output_type": "execute_result"
    }
   ],
   "source": [
    "ordered_dsets_keys = ['ocn.20C.pop.h', 'ocn.RCP85.pop.h']\n",
    "ds = xr.concat(\n",
    "    [dsets2[exp] for exp in ordered_dsets_keys], \n",
    "    dim='time', \n",
    "    data_vars='minimal'\n",
    ")\n",
    "ds"
   ]
  },
  {
   "cell_type": "markdown",
   "metadata": {},
   "source": [
    "## Compute Krill Growth Potential\n",
    "First, make a function that computes the krill daily growth rate model."
   ]
  },
  {
   "cell_type": "code",
   "execution_count": 18,
   "metadata": {},
   "outputs": [],
   "source": [
    "def compute_kgp(ds, length):\n",
    "    \"\"\"Compute Krill Growth Potential \n",
    "    \n",
    "    Natural growth rates in Antarctic krill (Euphausia superba): II. Predictive \n",
    "    models based on food, temperature, body length, sex, and maturity \n",
    "    stage.[Model 3 (Table 5)]. doi: 10.4319/lo.2006.51.2.0973 \n",
    "    A Atkinson, RS Shreeve, AG Hirst, P Rothery, GA Tarling \n",
    "    Limnol Oceanogr, 2006 \n",
    "    \n",
    "    Oceanic circumpolar habitats of Antarctic krill \n",
    "    doi: 10.3354/meps07498 \n",
    "    A Atkinson, V Siegel, EA Pakhomov, P Rothery, V Loeb \n",
    "    Mar Ecol Prog Ser, 2008\n",
    "    \n",
    "    \"\"\"\n",
    "    # specify coefs\n",
    "    a = -0.066 # Constant - all krill combined (no life stage or sex)\n",
    "    b = 0.002 # Linear term relating to length\n",
    "    c = -0.000061 # Quadratic term relating to length\n",
    "    d = 0.385 # Maximum term relating to food\n",
    "    e = 0.328 # Half Saturation constant relating to food\n",
    "    f = 0.0078 # Linear term relating to temperature\n",
    "    g = -0.0101 # Quadratic term relating to temperature\n",
    "    \n",
    "    # local pointers\n",
    "    sst = ds.SST\n",
    "    chl = ds.Chl_surf\n",
    "    \n",
    "    # mask chl with lower bound\n",
    "    chl = chl.where(chl >= 0.5).fillna(0.)\n",
    "        \n",
    "    # compute terms and sum for: a + b * length + c * length^2 + [d * chl / (e + chl)] + f * SST + g * SST^2 (+ error)\n",
    "    length_term = a + (b * length) + (c * length**2)\n",
    "    chl_term = d * chl / (e + chl)    \n",
    "    sst_term = f * sst + g * sst**2    \n",
    "    kgp = length_term + chl_term + sst_term\n",
    "    kgp.name = 'KGP'\n",
    "    \n",
    "    # mask based on SST range\n",
    "    kgp = kgp.where((-1. <= sst) & (sst <= 5.)).fillna(0.).where(ds.KMT > 0)\n",
    "    \n",
    "    # add coordinates\n",
    "    kgp = kgp.assign_coords({'length': length})\n",
    "    kgp = kgp.assign_coords({'TLONG': ds.TLONG, 'TLAT': ds.TLAT})\n",
    "\n",
    "    # add attrs\n",
    "    kgp.attrs = {'units': 'mm d$^{-1}$', 'long_name': 'Daily growth rate'}\n",
    "    ds['KGP'] = kgp\n",
    "    return ds"
   ]
  },
  {
   "cell_type": "markdown",
   "metadata": {},
   "source": [
    "Define a \"length\" coordinate. (this is where I vary the code from matt's)"
   ]
  },
  {
   "cell_type": "code",
   "execution_count": 19,
   "metadata": {},
   "outputs": [
    {
     "data": {
      "text/html": [
       "<pre>&lt;xarray.DataArray &#x27;length&#x27; (length: 5)&gt;\n",
       "array([20., 30., 40., 50., 60.])\n",
       "Dimensions without coordinates: length\n",
       "Attributes:\n",
       "    units:      mm\n",
       "    long_name:  Krill body length</pre>"
      ],
      "text/plain": [
       "<xarray.DataArray 'length' (length: 5)>\n",
       "array([20., 30., 40., 50., 60.])\n",
       "Dimensions without coordinates: length\n",
       "Attributes:\n",
       "    units:      mm\n",
       "    long_name:  Krill body length"
      ]
     },
     "execution_count": 19,
     "metadata": {},
     "output_type": "execute_result"
    }
   ],
   "source": [
    "length = xr.DataArray(\n",
    "    [20., 30., 40., 50., 60.], # 40mm is a mid-size reference value, krill reach a maximum body length of about 65 mm\n",
    "    name='length',\n",
    "    dims=('length'), \n",
    "    attrs={'units': 'mm', 'long_name': 'Krill body length'})\n",
    "length"
   ]
  },
  {
   "cell_type": "markdown",
   "metadata": {},
   "source": [
    "Perform the actual computation:"
   ]
  },
  {
   "cell_type": "code",
   "execution_count": 20,
   "metadata": {},
   "outputs": [
    {
     "data": {
      "text/html": [
       "<pre>&lt;xarray.Dataset&gt;\n",
       "Dimensions:     (d2: 2, length: 5, member_id: 34, nlat: 93, nlon: 320, time: 2172, z_t: 60, z_t_150m: 15)\n",
       "Coordinates:\n",
       "    TAREA       (nlat, nlon) float64 1.125e+13 1.125e+13 ... 6.346e+13 6.346e+13\n",
       "    KMT         (nlat, nlon) float64 0.0 0.0 0.0 0.0 0.0 ... 53.0 53.0 53.0 54.0\n",
       "    dz          (z_t) float32 1000.0 1000.0 1000.0 ... 24996.244 24998.11\n",
       "    TLAT        (nlat, nlon) float64 -79.22 -79.22 -79.22 ... -30.08 -30.08\n",
       "    ULAT        (nlat, nlon) float64 -78.95 -78.95 -78.95 ... -29.82 -29.82\n",
       "    ULONG       (nlat, nlon) float64 321.1 322.3 323.4 ... 317.8 318.9 320.0\n",
       "    TLONG       (nlat, nlon) float64 320.6 321.7 322.8 ... 317.2 318.3 319.4\n",
       "  * member_id   (member_id) int64 1 2 9 10 11 12 13 ... 35 101 102 103 104 105\n",
       "  * z_t_150m    (z_t_150m) float32 500.0 1500.0 2500.0 ... 13500.0 14500.0\n",
       "  * z_t         (z_t) float64 500.0 1.5e+03 2.5e+03 ... 5.125e+05 5.375e+05\n",
       "    time_bound  (time, d2) float64 dask.array&lt;chunksize=(60, 2), meta=np.ndarray&gt;\n",
       "  * time        (time) object 1920-01-16 12:00:00 ... 2100-12-16 12:00:00\n",
       "  * length      (length) float64 20.0 30.0 40.0 50.0 60.0\n",
       "Dimensions without coordinates: d2, nlat, nlon\n",
       "Data variables:\n",
       "    IFRAC       (member_id, time, nlat, nlon) float32 dask.array&lt;chunksize=(1, 60, 93, 320), meta=np.ndarray&gt;\n",
       "    SST         (member_id, time, nlat, nlon) float32 dask.array&lt;chunksize=(1, 60, 93, 320), meta=np.ndarray&gt;\n",
       "    Chl_surf    (member_id, time, nlat, nlon) float32 dask.array&lt;chunksize=(1, 60, 93, 320), meta=np.ndarray&gt;\n",
       "    KGP         (length, member_id, time, nlat, nlon) float64 dask.array&lt;chunksize=(5, 1, 60, 93, 320), meta=np.ndarray&gt;\n",
       "Attributes:\n",
       "    nco_openmp_thread_number:  1\n",
       "    contents:                  Diagnostic and Prognostic Variables\n",
       "    intake_esm_varname:        spChl\n",
       "    history:                   Sat Aug 31 15:25:08 2013: /glade/apps/opt/nco/...\n",
       "    source:                    CCSM POP2, the CCSM Ocean Component\n",
       "    revision:                  $Id: tavg.F90 41939 2012-11-14 16:37:23Z mlevy...\n",
       "    cell_methods:              cell_methods = time: mean ==&gt; the variable val...\n",
       "    NCO:                       4.4.4\n",
       "    tavg_sum_qflux:            2592000.0\n",
       "    nsteps_total:              750\n",
       "    calendar:                  All years have exactly  365 days.\n",
       "    tavg_sum:                  2592000.0\n",
       "    Conventions:               CF-1.0; http://www.cgd.ucar.edu/cms/eaton/netc...</pre>"
      ],
      "text/plain": [
       "<xarray.Dataset>\n",
       "Dimensions:     (d2: 2, length: 5, member_id: 34, nlat: 93, nlon: 320, time: 2172, z_t: 60, z_t_150m: 15)\n",
       "Coordinates:\n",
       "    TAREA       (nlat, nlon) float64 1.125e+13 1.125e+13 ... 6.346e+13 6.346e+13\n",
       "    KMT         (nlat, nlon) float64 0.0 0.0 0.0 0.0 0.0 ... 53.0 53.0 53.0 54.0\n",
       "    dz          (z_t) float32 1000.0 1000.0 1000.0 ... 24996.244 24998.11\n",
       "    TLAT        (nlat, nlon) float64 -79.22 -79.22 -79.22 ... -30.08 -30.08\n",
       "    ULAT        (nlat, nlon) float64 -78.95 -78.95 -78.95 ... -29.82 -29.82\n",
       "    ULONG       (nlat, nlon) float64 321.1 322.3 323.4 ... 317.8 318.9 320.0\n",
       "    TLONG       (nlat, nlon) float64 320.6 321.7 322.8 ... 317.2 318.3 319.4\n",
       "  * member_id   (member_id) int64 1 2 9 10 11 12 13 ... 35 101 102 103 104 105\n",
       "  * z_t_150m    (z_t_150m) float32 500.0 1500.0 2500.0 ... 13500.0 14500.0\n",
       "  * z_t         (z_t) float64 500.0 1.5e+03 2.5e+03 ... 5.125e+05 5.375e+05\n",
       "    time_bound  (time, d2) float64 dask.array<chunksize=(60, 2), meta=np.ndarray>\n",
       "  * time        (time) object 1920-01-16 12:00:00 ... 2100-12-16 12:00:00\n",
       "  * length      (length) float64 20.0 30.0 40.0 50.0 60.0\n",
       "Dimensions without coordinates: d2, nlat, nlon\n",
       "Data variables:\n",
       "    IFRAC       (member_id, time, nlat, nlon) float32 dask.array<chunksize=(1, 60, 93, 320), meta=np.ndarray>\n",
       "    SST         (member_id, time, nlat, nlon) float32 dask.array<chunksize=(1, 60, 93, 320), meta=np.ndarray>\n",
       "    Chl_surf    (member_id, time, nlat, nlon) float32 dask.array<chunksize=(1, 60, 93, 320), meta=np.ndarray>\n",
       "    KGP         (length, member_id, time, nlat, nlon) float64 dask.array<chunksize=(5, 1, 60, 93, 320), meta=np.ndarray>\n",
       "Attributes:\n",
       "    nco_openmp_thread_number:  1\n",
       "    contents:                  Diagnostic and Prognostic Variables\n",
       "    intake_esm_varname:        spChl\n",
       "    history:                   Sat Aug 31 15:25:08 2013: /glade/apps/opt/nco/...\n",
       "    source:                    CCSM POP2, the CCSM Ocean Component\n",
       "    revision:                  $Id: tavg.F90 41939 2012-11-14 16:37:23Z mlevy...\n",
       "    cell_methods:              cell_methods = time: mean ==> the variable val...\n",
       "    NCO:                       4.4.4\n",
       "    tavg_sum_qflux:            2592000.0\n",
       "    nsteps_total:              750\n",
       "    calendar:                  All years have exactly  365 days.\n",
       "    tavg_sum:                  2592000.0\n",
       "    Conventions:               CF-1.0; http://www.cgd.ucar.edu/cms/eaton/netc..."
      ]
     },
     "execution_count": 20,
     "metadata": {},
     "output_type": "execute_result"
    }
   ],
   "source": [
    "ds = compute_kgp(ds, length)\n",
    "ds"
   ]
  },
  {
   "cell_type": "markdown",
   "metadata": {},
   "source": [
    "Additional Calculations:\n",
    "\n",
    "1. turn KGP into monthly growth potential (KGP X days in a month)\n",
    "2. length (L) to wet mass (mw) conversion: mw= 3.85 x 10^-6L^3.20 --  Morris et al., 1988 \n",
    "3. length to egg number conversion: Egg No. = 10^(4.55 log10 L – 3.88)  -- Tarling et al. 2007"
   ]
  },
  {
   "cell_type": "markdown",
   "metadata": {},
   "source": [
    "## Compute summer time (DJF) means"
   ]
  },
  {
   "cell_type": "code",
   "execution_count": 21,
   "metadata": {},
   "outputs": [
    {
     "name": "stdout",
     "output_type": "stream",
     "text": [
      "CPU times: user 9.38 s, sys: 362 ms, total: 9.74 s\n",
      "Wall time: 9.69 s\n"
     ]
    },
    {
     "data": {
      "text/html": [
       "<pre>&lt;xarray.Dataset&gt;\n",
       "Dimensions:    (length: 5, member_id: 34, nlat: 93, nlon: 320, time: 180, z_t: 60, z_t_150m: 15)\n",
       "Coordinates:\n",
       "    TAREA      (nlat, nlon) float64 1.125e+13 1.125e+13 ... 6.346e+13 6.346e+13\n",
       "    KMT        (nlat, nlon) float64 0.0 0.0 0.0 0.0 0.0 ... 53.0 53.0 53.0 54.0\n",
       "    dz         (z_t) float32 1000.0 1000.0 1000.0 ... 24996.244 24998.11\n",
       "    TLAT       (nlat, nlon) float64 -79.22 -79.22 -79.22 ... -30.08 -30.08\n",
       "    ULAT       (nlat, nlon) float64 -78.95 -78.95 -78.95 ... -29.82 -29.82\n",
       "    ULONG      (nlat, nlon) float64 321.1 322.3 323.4 ... 317.8 318.9 320.0\n",
       "    TLONG      (nlat, nlon) float64 320.6 321.7 322.8 ... 317.2 318.3 319.4\n",
       "  * member_id  (member_id) int64 1 2 9 10 11 12 13 ... 34 35 101 102 103 104 105\n",
       "  * length     (length) float64 20.0 30.0 40.0 50.0 60.0\n",
       "  * z_t_150m   (z_t_150m) float32 500.0 1500.0 2500.0 ... 13500.0 14500.0\n",
       "  * z_t        (z_t) float64 500.0 1.5e+03 2.5e+03 ... 5.125e+05 5.375e+05\n",
       "  * time       (time) int64 1921 1922 1923 1924 1925 ... 2097 2098 2099 2100\n",
       "Dimensions without coordinates: nlat, nlon\n",
       "Data variables:\n",
       "    IFRAC      (time, member_id, nlat, nlon) float64 dask.array&lt;chunksize=(1, 1, 93, 320), meta=np.ndarray&gt;\n",
       "    SST        (time, member_id, nlat, nlon) float64 dask.array&lt;chunksize=(1, 1, 93, 320), meta=np.ndarray&gt;\n",
       "    Chl_surf   (time, member_id, nlat, nlon) float64 dask.array&lt;chunksize=(1, 1, 93, 320), meta=np.ndarray&gt;\n",
       "    KGP        (time, length, member_id, nlat, nlon) float64 dask.array&lt;chunksize=(1, 5, 1, 93, 320), meta=np.ndarray&gt;</pre>"
      ],
      "text/plain": [
       "<xarray.Dataset>\n",
       "Dimensions:    (length: 5, member_id: 34, nlat: 93, nlon: 320, time: 180, z_t: 60, z_t_150m: 15)\n",
       "Coordinates:\n",
       "    TAREA      (nlat, nlon) float64 1.125e+13 1.125e+13 ... 6.346e+13 6.346e+13\n",
       "    KMT        (nlat, nlon) float64 0.0 0.0 0.0 0.0 0.0 ... 53.0 53.0 53.0 54.0\n",
       "    dz         (z_t) float32 1000.0 1000.0 1000.0 ... 24996.244 24998.11\n",
       "    TLAT       (nlat, nlon) float64 -79.22 -79.22 -79.22 ... -30.08 -30.08\n",
       "    ULAT       (nlat, nlon) float64 -78.95 -78.95 -78.95 ... -29.82 -29.82\n",
       "    ULONG      (nlat, nlon) float64 321.1 322.3 323.4 ... 317.8 318.9 320.0\n",
       "    TLONG      (nlat, nlon) float64 320.6 321.7 322.8 ... 317.2 318.3 319.4\n",
       "  * member_id  (member_id) int64 1 2 9 10 11 12 13 ... 34 35 101 102 103 104 105\n",
       "  * length     (length) float64 20.0 30.0 40.0 50.0 60.0\n",
       "  * z_t_150m   (z_t_150m) float32 500.0 1500.0 2500.0 ... 13500.0 14500.0\n",
       "  * z_t        (z_t) float64 500.0 1.5e+03 2.5e+03 ... 5.125e+05 5.375e+05\n",
       "  * time       (time) int64 1921 1922 1923 1924 1925 ... 2097 2098 2099 2100\n",
       "Dimensions without coordinates: nlat, nlon\n",
       "Data variables:\n",
       "    IFRAC      (time, member_id, nlat, nlon) float64 dask.array<chunksize=(1, 1, 93, 320), meta=np.ndarray>\n",
       "    SST        (time, member_id, nlat, nlon) float64 dask.array<chunksize=(1, 1, 93, 320), meta=np.ndarray>\n",
       "    Chl_surf   (time, member_id, nlat, nlon) float64 dask.array<chunksize=(1, 1, 93, 320), meta=np.ndarray>\n",
       "    KGP        (time, length, member_id, nlat, nlon) float64 dask.array<chunksize=(1, 5, 1, 93, 320), meta=np.ndarray>"
      ]
     },
     "execution_count": 21,
     "metadata": {},
     "output_type": "execute_result"
    }
   ],
   "source": [
    "%%time\n",
    "ds_djf = util.ann_mean(ds, season='DJF', time_bnds_varname='time_bound')\n",
    "ds_djf"
   ]
  },
  {
   "cell_type": "markdown",
   "metadata": {},
   "source": [
    "### Compute regional means"
   ]
  },
  {
   "cell_type": "code",
   "execution_count": null,
   "metadata": {},
   "outputs": [
    {
     "name": "stderr",
     "output_type": "stream",
     "text": [
      "/glade/work/zephyrs/miniconda3/envs/krill/lib/python3.7/site-packages/dask/core.py:119: RuntimeWarning: invalid value encountered in greater_equal\n",
      "  return func(*args2)\n",
      "/glade/work/zephyrs/miniconda3/envs/krill/lib/python3.7/site-packages/dask/core.py:119: RuntimeWarning: invalid value encountered in less_equal\n",
      "  return func(*args2)\n"
     ]
    }
   ],
   "source": [
    "%%time\n",
    "dim = ['nlat', 'nlon']\n",
    "area_total = masked_area.sum(dim)\n",
    "weights = masked_area / area_total\n",
    "weights_sum = weights.sum(dim)\n",
    "\n",
    "# ensure that the weights add to 1.\n",
    "np.testing.assert_allclose(weights_sum.where(weights_sum != 0.).fillna(1.), 1.0, rtol=1e-7)\n",
    "\n",
    "with xr.set_options(keep_attrs=True):\n",
    "    ds_djf_regional = (ds_djf[list(ds_djf.data_vars)] * weights).sum(dim).compute()\n",
    "ds_djf_regional"
   ]
  },
  {
   "cell_type": "markdown",
   "metadata": {},
   "source": [
    "Quick look plots for each region"
   ]
  },
  {
   "cell_type": "code",
   "execution_count": null,
   "metadata": {},
   "outputs": [],
   "source": [
    "for plot_region in masked_area.region.values:\n",
    "\n",
    "    nvar = len(ds_djf_regional.data_vars)\n",
    "    ncol = int(np.sqrt(nvar))\n",
    "    nrow = int(nvar/ncol) + min(1, nvar%ncol)\n",
    "\n",
    "    fig, ax = plt.subplots(nrow, ncol, figsize=(4*ncol, 3*nrow),\n",
    "                           constrained_layout=True)\n",
    "\n",
    "    for i, v in enumerate(ds_djf_regional.data_vars):\n",
    "        plt.axes(ax.ravel()[i])\n",
    "\n",
    "        var = ds_djf_regional[v].sel(region=plot_region)\n",
    "        if 'length' in var.dims:\n",
    "            var = var.sel(length=40.)            \n",
    "        for m_id in ds_djf_regional.member_id:\n",
    "            var_i = var.sel(member_id=m_id)\n",
    "            var_i.plot(linewidth=0.5)\n",
    "\n",
    "        with xr.set_options(keep_attrs=True):            \n",
    "            var.mean('member_id').plot(color='k', linewidth=1)\n",
    "        plt.title(v)\n",
    "    plt.suptitle(plot_region, fontsize=16, fontweight='bold')"
   ]
  },
  {
   "cell_type": "markdown",
   "metadata": {},
   "source": [
    "### Compute temporal means"
   ]
  },
  {
   "cell_type": "code",
   "execution_count": null,
   "metadata": {},
   "outputs": [],
   "source": [
    "%%time\n",
    "with xr.set_options(keep_attrs=True):   \n",
    "    epoch_list = [\n",
    "        ('1920-1950', ds_djf.sel(time=slice('1920', '1950')).mean('time')),\n",
    "        ('2070-2100', ds_djf.sel(time=slice('2070', '2100')).mean('time')),\n",
    "    ]\n",
    "     \n",
    "epoch = xr.DataArray(\n",
    "    [t[0] for t in epoch_list],\n",
    "    dims=('epoch'),\n",
    "    name='epoch',\n",
    ")    \n",
    "\n",
    "ds_djf_epoch = xr.concat(\n",
    "    [t[1] for t in epoch_list], \n",
    "    dim=epoch,\n",
    ")\n",
    "ds_djf_epoch = ds_djf_epoch.compute()\n",
    "ds_djf_epoch"
   ]
  },
  {
   "cell_type": "code",
   "execution_count": null,
   "metadata": {},
   "outputs": [],
   "source": [
    "for epoch in ds_djf_epoch.epoch.values:\n",
    "\n",
    "    nvar = len(ds_djf_epoch.data_vars)\n",
    "    ncol = int(np.sqrt(nvar))\n",
    "    nrow = int(nvar/ncol) + min(1, nvar%ncol)\n",
    "\n",
    "    fig, ax = plt.subplots(nrow, ncol, figsize=(4*ncol, 3*nrow),\n",
    "                           constrained_layout=True)\n",
    "\n",
    "    for i, v in enumerate(ds_djf_epoch.data_vars):\n",
    "        plt.axes(ax.ravel()[i])\n",
    "\n",
    "        with xr.set_options(keep_attrs=True):             \n",
    "            var = ds_djf_epoch[v].sel(epoch=epoch).mean('member_id')\n",
    "        if 'length' in var.dims:\n",
    "            var = var.sel(length=40.)            \n",
    "        var.plot()\n",
    "        plt.title(v);\n",
    "    plt.suptitle(epoch, fontsize=16, fontweight='bold');"
   ]
  },
  {
   "cell_type": "code",
   "execution_count": null,
   "metadata": {},
   "outputs": [],
   "source": [
    "with xr.set_options(keep_attrs=True):  \n",
    "    ds_djf_epoch_diff = ds_djf_epoch.diff('epoch').squeeze('epoch')\n",
    "ds_djf_epoch_diff"
   ]
  },
  {
   "cell_type": "code",
   "execution_count": null,
   "metadata": {},
   "outputs": [],
   "source": [
    "nvar = len(ds_djf_epoch_diff.data_vars)\n",
    "ncol = int(np.sqrt(nvar))\n",
    "nrow = int(nvar/ncol) + min(1, nvar%ncol)\n",
    "\n",
    "fig, ax = plt.subplots(nrow, ncol, figsize=(4*ncol, 3*nrow),\n",
    "                       constrained_layout=True)\n",
    "\n",
    "for i, v in enumerate(ds_djf_epoch_diff.data_vars):\n",
    "    plt.axes(ax.ravel()[i])\n",
    "\n",
    "    with xr.set_options(keep_attrs=True):             \n",
    "        var = ds_djf_epoch_diff[v].mean('member_id')\n",
    "    if 'length' in var.dims:\n",
    "        var = var.sel(length=40.)            \n",
    "    var.plot()\n",
    "    plt.title(v)\n",
    "\n",
    "epoch = ds_djf_epoch.epoch.data\n",
    "plt.suptitle(f'({epoch[1]}) - ({epoch[0]})', fontsize=16, fontweight='bold');"
   ]
  },
  {
   "cell_type": "markdown",
   "metadata": {},
   "source": [
    "#### save output as .zarr files"
   ]
  },
  {
   "cell_type": "code",
   "execution_count": null,
   "metadata": {},
   "outputs": [],
   "source": [
    "dso_map = {\n",
    "    'data/cesm-le-fields-djf-regional-timeseries.zarr': ds_djf_regional, \n",
    "    'data/cesm-le-fields-djf-epoch-mean.zarr': ds_djf_epoch,  \n",
    "}\n",
    "for file_out, dso in dso_map.items():\n",
    "    util.write_ds_out(dso, file_out)"
   ]
  },
  {
   "cell_type": "markdown",
   "metadata": {},
   "source": [
    "#### Shut it down"
   ]
  },
  {
   "cell_type": "code",
   "execution_count": 13,
   "metadata": {},
   "outputs": [],
   "source": [
    "cluster.close()\n",
    "client.close()"
   ]
  }
 ],
 "metadata": {
  "kernelspec": {
   "display_name": "Python [conda env:miniconda3-krill]",
   "language": "python",
   "name": "conda-env-miniconda3-krill-py"
  },
  "language_info": {
   "codemirror_mode": {
    "name": "ipython",
    "version": 3
   },
   "file_extension": ".py",
   "mimetype": "text/x-python",
   "name": "python",
   "nbconvert_exporter": "python",
   "pygments_lexer": "ipython3",
   "version": "3.7.6"
  }
 },
 "nbformat": 4,
 "nbformat_minor": 4
}

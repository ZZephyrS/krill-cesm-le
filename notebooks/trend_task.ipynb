{
 "cells": [
  {
   "cell_type": "code",
   "execution_count": 1,
   "metadata": {},
   "outputs": [],
   "source": [
    "%matplotlib inline\n",
    "import os\n",
    "import importlib\n",
    "import pandas as pd\n",
    "import numpy as np\n",
    "import xarray as xr\n",
    "import calendar\n",
    "import xesmf as xe\n",
    "import dask\n",
    "from ncar_jobqueue import NCARCluster\n",
    "import esmlab\n",
    "import warnings\n",
    "warnings.filterwarnings('ignore')\n",
    "from glob import glob\n",
    "from collections import OrderedDict\n",
    "\n",
    "import matplotlib.pyplot as plt\n",
    "import matplotlib.colors as colors\n",
    "import matplotlib.gridspec as gridspec\n",
    "import matplotlib.path as mpath\n",
    "\n",
    "import cartopy.crs as ccrs\n",
    "from cartopy.util import add_cyclic_point\n",
    "import cmocean\n",
    "from scipy import stats\n",
    "import pop_tools \n",
    "\n",
    "from statistics import mean\n",
    "from matplotlib import style\n",
    "from scipy import stats\n",
    "\n",
    "import util\n",
    "import shutil"
   ]
  },
  {
   "cell_type": "markdown",
   "metadata": {},
   "source": [
    "### Starting to think a bit about trends.\n",
    "1. compute some regionally-averaged metric (surface chl, NPP, etc.) \n",
    "2. plot its timeseries, 1920-2100. \n",
    "* start with the single run\n",
    "* expand to include the full ensemble\n",
    "\n",
    "I can help if you get stuck. Don't flounder around too long before asking for help."
   ]
  },
  {
   "cell_type": "code",
   "execution_count": null,
   "metadata": {},
   "outputs": [],
   "source": []
  }
 ],
 "metadata": {
  "kernelspec": {
   "display_name": "Python [conda env:miniconda3-krill]",
   "language": "python",
   "name": "conda-env-miniconda3-krill-py"
  },
  "language_info": {
   "codemirror_mode": {
    "name": "ipython",
    "version": 3
   },
   "file_extension": ".py",
   "mimetype": "text/x-python",
   "name": "python",
   "nbconvert_exporter": "python",
   "pygments_lexer": "ipython3",
   "version": "3.7.6"
  }
 },
 "nbformat": 4,
 "nbformat_minor": 4
}

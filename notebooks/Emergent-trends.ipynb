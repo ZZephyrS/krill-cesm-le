{
 "cells": [
  {
   "cell_type": "markdown",
   "metadata": {},
   "source": [
    "### Statistical Methods to...\n",
    "#### assess the magnitude of the forced anthropogenic “signal” relative to the “noise” of internal climate variability to provide a probabilistic projection of climate change impacts in a system with internal variability."
   ]
  },
  {
   "cell_type": "markdown",
   "metadata": {},
   "source": [
    "1. quantify change over time:\n",
    "    * epoch diﬀerence calculated from two 30 year periods\n",
    "    \n",
    "    \n",
    "2. forced signal: the component of change shared by all ensemble members due to external anthropogenic forcing\n",
    "    * ensemble mean epoch diﬀerence ($X$)\n",
    "    \n",
    "    \n",
    "3. noise: the component of change due to internal climate variability\n",
    "    * standard deviation of individual epoch diﬀerences around that mean ($\\sigma$)\n",
    "    \n",
    "    \n",
    "4. signal-to-noise ratio (SNR) = $\\frac{X}{\\sigma} \\geq 2$\n",
    "\n",
    "5. Time of Emergence (ToE) analysis: quantifies the speciﬁc year in which a statistically signiﬁcant forced signal is expected to emerge for a given time and region\n",
    "    * McKinley et al. [2016]: compute linear regressions on <variable>\n",
    "    for each month and region in each simulation for cumulative 5 year\n",
    "    intervals (i.e., 1920–1925, 1920–1930, 1920–1935, …, 1920–2100)\n",
    "\n",
    "    * ToE is the last year of the interval in which the SNR exceeded a\n",
    "    value of 2 for that interval and all subsequent intervals\n",
    "    \n",
    "6. Detection of the forced signal for each month and region ($N_{min}$): approximating the minimum number of simulations required to reach a 95% conﬁdence level\n",
    "\\begin{align}\n",
    "N_{min} = \\frac{8}{\\frac{X}{\\sigma}^2} \\\\\n",
    "\\end{align}  \n",
    "    * If $N_{min}$ is larger than 40 (the number of simulations available\n",
    "    in the CESM-LE), it is excluded the analysis."
   ]
  },
  {
   "cell_type": "markdown",
   "metadata": {},
   "source": [
    "*these methods are from Brady et al 2017 -- below is the `matlab` code used in the methods*\n",
    "___"
   ]
  },
  {
   "cell_type": "markdown",
   "metadata": {},
   "source": [
    "## What this would mean is....\n",
    "\n",
    "Start on one grid cell or area average first. \n",
    "Calculate the 1920-1925 trend, then 1920-1930 trend, then 1920-1935 trend and so on for every member. \n",
    "\n",
    "    * creating an array sized (E, N) where E is the number of ensemble members and N is the number of 5-year windows. \n",
    "    \n",
    "    * The value would be the slope of the linear trend. \n",
    "    \n",
    "Take the mean over the E dimension and the std deviation over the E dimension. \n",
    "\n",
    "Divide the mean array (length N) by the std array (length N). \n",
    "\n",
    "Find the point at which that array reaches 2 and does not dip back below it.\n"
   ]
  },
  {
   "cell_type": "markdown",
   "metadata": {},
   "source": [
    "`% Use this script to calculate time of emergence for the given variable.\n",
    "% Will try a few different methods.\n",
    "VAR_STRUCT = WVELday;\n",
    "base_year = 1925;\n",
    "base_index = (base_year - 1920) + 1;\n",
    "clear database;\n",
    "for rr = 1:length(regs) % Done for each region.\n",
    "  disp(['Working on region ' regs{rr} '...']);\n",
    "  for mm = 1:12\n",
    "    disp(['Working on month ' int2str(mm) '...']);\n",
    "    counter = 1;\n",
    "    current_year = base_year + 5; % First linear regression (five year progressions).\n",
    "    while current_year <= 2100\n",
    "      current_index = (current_year - 1920) + 1;\n",
    "      current_ts = squeeze(VAR_STRUCT.(regs{rr})(mm, base_index:current_index, :));\n",
    "      ts_length = (current_index - base_index) + 1; % Length of linear regression.\n",
    "      xx = 1:1:ts_length; % 1-year timesteps.\n",
    "      % Regress over each member.\n",
    "      for ss = 1:length(sims)\n",
    "        temp_ts = current_ts(:,ss);\n",
    "        temp_p = polyfit(xx, temp_ts', 1);\n",
    "        current_trend(ss) = temp_p(1);\n",
    "      end\n",
    "      temp_sig = mean(current_trend);\n",
    "      temp_noise = std(current_trend);\n",
    "      temp_snr = temp_sig / temp_noise;\n",
    "      database.(regs{rr}).sig(mm, counter) = temp_sig;\n",
    "      database.(regs{rr}).noise(mm, counter) = temp_noise;\n",
    "      database.(regs{rr}).snr(mm, counter) = temp_snr;\n",
    "      counter = counter + 1;\n",
    "      current_year = current_year + 5; % Move forward five more years.\n",
    "    end\n",
    "  end\n",
    "end`"
   ]
  },
  {
   "cell_type": "markdown",
   "metadata": {},
   "source": [
    "`% Determine which year = ToE.\n",
    "yrs = [1930:5:2100];\n",
    "for rr = 1:length(regs)\n",
    "  for mm = 1:12\n",
    "    temp_snr = database.(regs{rr}).snr(mm,:)'; % List of snr time-series.\n",
    "    temp_snr = abs(temp_snr); % Absolute value to ignore the sign.\n",
    "    sig_indices = find(temp_snr >= 2); % List of points of time series that exceed two.\n",
    "    if isempty(sig_indices)\n",
    "      ToE.(regs{rr})(mm,1) = NaN;\n",
    "    else\n",
    "      found = 0;\n",
    "      while found==0\n",
    "        checker = [sig_indices(1):1:length(yrs)]'; % Create ideal list if every value is greater than 2 from there out\n",
    "        if isequalwithequalnans(sig_indices, checker) % Is every value from there on greater than 2?\n",
    "          ToE_index = sig_indices(1);\n",
    "          found = 1;\n",
    "        else\n",
    "          sig_indices(1) = []; % Remove first value and check again\n",
    "        end\n",
    "      end\n",
    "      ToE.(regs{rr})(mm,1) = yrs(ToE_index);\n",
    "    end\n",
    "  end\n",
    "end`"
   ]
  },
  {
   "cell_type": "code",
   "execution_count": null,
   "metadata": {},
   "outputs": [],
   "source": []
  }
 ],
 "metadata": {
  "kernelspec": {
   "display_name": "Python [conda env:miniconda3-krill]",
   "language": "python",
   "name": "conda-env-miniconda3-krill-py"
  },
  "language_info": {
   "codemirror_mode": {
    "name": "ipython",
    "version": 3
   },
   "file_extension": ".py",
   "mimetype": "text/x-python",
   "name": "python",
   "nbconvert_exporter": "python",
   "pygments_lexer": "ipython3",
   "version": "3.7.6"
  }
 },
 "nbformat": 4,
 "nbformat_minor": 4
}

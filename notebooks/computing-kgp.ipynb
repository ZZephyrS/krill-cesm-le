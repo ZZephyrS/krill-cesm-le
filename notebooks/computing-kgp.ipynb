{
 "cells": [
  {
   "cell_type": "markdown",
   "metadata": {},
   "source": [
    "## Function to Compute DGR/KGP on CESM-LE Datasets"
   ]
  },
  {
   "cell_type": "code",
   "execution_count": 1,
   "metadata": {},
   "outputs": [],
   "source": [
    "## ZS 5/23/2020\n",
    "#Import Modules\n",
    "import os\n",
    "import math\n",
    "import xarray as xr\n",
    "import pandas as pd\n",
    "import numpy as np\n",
    "import matplotlib.pyplot as plt\n",
    "from math import exp\n",
    "%matplotlib inline"
   ]
  },
  {
   "cell_type": "markdown",
   "metadata": {},
   "source": [
    "___\n",
    "### Goal: \n",
    "#### evaluate the function to calculate KGP in the same dimensions of an ensemble member:\n"
   ]
  },
  {
   "cell_type": "code",
   "execution_count": 2,
   "metadata": {},
   "outputs": [],
   "source": [
    "def compute_kgp(ds, length):\n",
    "    \"\"\"Compute Krill Growth Potential \n",
    "    \n",
    "    Natural growth rates in Antarctic krill (Euphausia superba): II. Predictive \n",
    "    models based on food, temperature, body length, sex, and maturity \n",
    "    stage doi: 10.4319/lo.2006.51.2.0973 \n",
    "    A Atkinson, RS Shreeve, AG Hirst, P Rothery, GA Tarling \n",
    "    Limnol Oceanogr, 2006 \n",
    "    \n",
    "    Oceanic circumpolar habitats of Antarctic krill \n",
    "    doi: 10.3354/meps07498 \n",
    "    A Atkinson, V Siegel, EA Pakhomov, P Rothery, V Loeb \n",
    "    Mar Ecol Prog Ser, 2008\n",
    "    \n",
    "    \"\"\"\n",
    "    \n",
    "    # specify coefs\n",
    "    a = -0.066\n",
    "    b = 0.002\n",
    "    c = -0.000061\n",
    "    d = 0.385\n",
    "    e = 0.328\n",
    "    f = 0.0078\n",
    "    g = -0.0101\n",
    "    \n",
    "    # local pointers\n",
    "    sst = ds.SST\n",
    "    chl = ds.Chl_surf\n",
    "        \n",
    "    # compute terms and sum\n",
    "    length_term = a + (b * length) + (c * length**2)\n",
    "    chl_term = d * chl / (e + chl)    \n",
    "    sst_term = f * sst + g * sst**2    \n",
    "    kgp = length_term + chl_term + sst_term\n",
    "   \n",
    "    ds['KGP'] = kgp\n",
    "    return ds"
   ]
  },
  {
   "cell_type": "code",
   "execution_count": 3,
   "metadata": {},
   "outputs": [],
   "source": [
    "def test_compute(ds, length):\n",
    "    \"\"\"Compute Krill Growth Potential \n",
    "    doi: 10.3354/meps07498 \n",
    "    EQUATION:\n",
    "    a + (b*L) + (c*L^2) + (d*C/(e+C)) + (f*S) + (g*S^2)\n",
    "    \n",
    "    \"\"\"\n",
    "    # specify coefs\n",
    "    a = -0.066\n",
    "    b = 0.002\n",
    "    c = -0.000061\n",
    "    d = 0.385\n",
    "    e = 0.328\n",
    "    f = 0.0078\n",
    "    g = -0.0101\n",
    "    \n",
    "    # parameter s.e.\n",
    "    ae = 0.165\n",
    "    be = 0.0066\n",
    "    ce = -0.000077\n",
    "    de = 0.091\n",
    "    ee = 0.246\n",
    "    fe = 0.017\n",
    "    ge = -0.00045\n",
    "    \n",
    "    # local pointers\n",
    "    sst = ds.SST\n",
    "    chl = ds.Chl_surf\n",
    "        \n",
    "    # compute terms and sum\n",
    "    length_term = a + (b * length) + (c * length**2)\n",
    "    chl_term = (d * (chl / (e + chl)))    \n",
    "    sst_term = (f * sst) + (g * sst**2)    \n",
    "    #error = ae + be + ce + de + ee + fe + ge\n",
    "    bad_idea = (.21 - .15)\n",
    "    \n",
    "    kgp = length_term + chl_term + sst_term + bad_idea #+ error\n",
    "    \n",
    "    ds['KGP'] = kgp\n",
    "    return ds"
   ]
  },
  {
   "cell_type": "markdown",
   "metadata": {},
   "source": [
    "### Test Equations Based on Table S4 Murphy 2017:\n",
    "Estimated growth rate of 40 mm krill for the mean parameterisation and for ± 1 s.e (Table S3). \n",
    "Values were estimated at SST of 0.5o C and a chlorophyll concentration of 0.5 mg m-3 :\n",
    "\n",
    "DGR = 0.21 mm d$^{-1}$\n",
    "\n",
    "-1 s.e. = -0.12\n",
    "\n",
    "+1 s.e. = 0.53"
   ]
  },
  {
   "cell_type": "code",
   "execution_count": 4,
   "metadata": {},
   "outputs": [
    {
     "name": "stdout",
     "output_type": "stream",
     "text": [
      "current equation DGR @ .5: 0    0.150263\n",
      "Name: KGP, dtype: float64\n",
      "updated equation DGR @ .5: 0    0.210263\n",
      "Name: KGP, dtype: float64\n",
      "updated equation DGR @ .5: 0    0.243463\n",
      "Name: KGP, dtype: float64\n",
      "updated equation DGR @ .5: 0    0.128263\n",
      "Name: KGP, dtype: float64\n"
     ]
    }
   ],
   "source": [
    "# Make Fake Data with Controls:\n",
    "data = {'SST': np.linspace(.5, .5, 1),\n",
    "        'Chl_surf': np.linspace(.5, .5, 1) } \n",
    "\n",
    "# Create DataFrames \n",
    "murphy = pd.DataFrame(data)\n",
    "\n",
    "kgp_murphy = compute_kgp(murphy, 40)\n",
    "print('current equation DGR @ .5:', kgp_murphy.KGP)\n",
    "\n",
    "kgp_murphy2 = test_compute(murphy, 40)\n",
    "print('updated equation DGR @ .5:', kgp_murphy2.KGP)\n",
    "\n",
    "\n",
    "kgp_murphy20 = test_compute(murphy, 20)\n",
    "print('updated equation DGR @ .5:', kgp_murphy20.KGP)\n",
    "kgp_murphy60 = test_compute(murphy, 60)\n",
    "print('updated equation DGR @ .5:', kgp_murphy60.KGP)\n"
   ]
  },
  {
   "cell_type": "markdown",
   "metadata": {},
   "source": [
    "## Test it again with 1's instead of .5 to check where things are going wrong"
   ]
  },
  {
   "cell_type": "code",
   "execution_count": 5,
   "metadata": {},
   "outputs": [
    {
     "name": "stdout",
     "output_type": "stream",
     "text": [
      "current equation DGR @ 1: 0    0.20401\n",
      "Name: KGP, dtype: float64\n",
      "updated equation DGR @ 1: 0    0.26401\n",
      "Name: KGP, dtype: float64\n"
     ]
    }
   ],
   "source": [
    "# Make Fake Data with Controls:\n",
    "data2 = {'SST': np.linspace(1, 1, 1),\n",
    "        'Chl_surf': np.linspace(1, 1, 1) } \n",
    "\n",
    "# Create DataFrames \n",
    "murphy1 = pd.DataFrame(data2)\n",
    "\n",
    "kgp_murphy3 = compute_kgp(murphy1, 40)\n",
    "print('current equation DGR @ 1:', kgp_murphy3.KGP)\n",
    "\n",
    "kgp_murphy4 = test_compute(murphy1, 40)\n",
    "print('updated equation DGR @ 1:', kgp_murphy4.KGP)"
   ]
  },
  {
   "cell_type": "markdown",
   "metadata": {},
   "source": [
    "\n",
    "___\n",
    "## Make Hypothetical Datasets to test:\n",
    "krill length = 40 \n",
    "1. KGP wrt SST **constant chl** @ 1 mg; sst varies between -1 and 5\n",
    "2. KGP wrt Chl **constant sst** @ 1°C; chl varies between 0 and 5 mg"
   ]
  },
  {
   "cell_type": "code",
   "execution_count": 6,
   "metadata": {},
   "outputs": [],
   "source": [
    "# Make Fake Data with Controls:\n",
    "data_sst = {'SST': np.linspace(-1, 5, 50),\n",
    "        'Chl_surf': np.linspace(.5, .5, 50) } \n",
    "\n",
    "data_chl = {'SST': np.linspace(.5, .5, 50),\n",
    "        'Chl_surf': np.linspace(0, 5, 50) } \n",
    "\n",
    "# Create DataFrames \n",
    "const_sst = pd.DataFrame(data_sst)\n",
    "const_chl = pd.DataFrame(data_chl)\n",
    "#df_b.head()"
   ]
  },
  {
   "cell_type": "markdown",
   "metadata": {},
   "source": [
    "#### Compute KGP wrt both vars and both computations:"
   ]
  },
  {
   "cell_type": "code",
   "execution_count": 7,
   "metadata": {},
   "outputs": [],
   "source": [
    "kgp_chl = compute_kgp(const_chl, 40)\n",
    "\n",
    "kgp_sst = compute_kgp(const_sst, 40)\n"
   ]
  },
  {
   "cell_type": "code",
   "execution_count": 8,
   "metadata": {},
   "outputs": [],
   "source": [
    "# Make Fake Data with Controls:\n",
    "data_sst2 = {'SST': np.linspace(-1, 5, 50),\n",
    "        'Chl_surf': np.linspace(.5, .5, 50) } \n",
    "\n",
    "data_chl2 = {'SST': np.linspace(.5, .5, 50),\n",
    "        'Chl_surf': np.linspace(0, 5, 50) } \n",
    "\n",
    "# Create DataFrames \n",
    "const_sst2 = pd.DataFrame(data_sst2)\n",
    "const_chl2 = pd.DataFrame(data_chl2)\n",
    "#df_b.head()"
   ]
  },
  {
   "cell_type": "code",
   "execution_count": 9,
   "metadata": {},
   "outputs": [],
   "source": [
    "kgp_chl_test = test_compute(const_chl2, 40)\n",
    "kgp_sst_test = test_compute(const_sst2, 40)"
   ]
  },
  {
   "cell_type": "markdown",
   "metadata": {},
   "source": [
    "## Visualize the differences:"
   ]
  },
  {
   "cell_type": "code",
   "execution_count": 10,
   "metadata": {},
   "outputs": [
    {
     "data": {
      "text/plain": [
       "<matplotlib.axes._subplots.AxesSubplot at 0x2b18274a7950>"
      ]
     },
     "execution_count": 10,
     "metadata": {},
     "output_type": "execute_result"
    },
    {
     "data": {
      "image/png": "[encoded data removed]",
      "text/plain": [
       "<Figure size 720x360 with 1 Axes>"
      ]
     },
     "metadata": {
      "needs_background": "light"
     },
     "output_type": "display_data"
    }
   ],
   "source": [
    "fig = plt.figure(figsize=(10,5))\n",
    "\n",
    "ax = fig.add_subplot(111)\n",
    "ax.set_title('KGP w.r.t. Temperature \\n (chl kept constant @ 1mg)')\n",
    "\n",
    "ax.plot(kgp_sst.SST, kgp_sst.KGP, color = 'blue',\n",
    "         alpha = .8, linewidth = 4,\n",
    "         solid_capstyle='round', label = 'current equation')\n",
    "\n",
    "ax.plot(kgp_sst_test.SST, kgp_sst_test.KGP, color = 'skyblue',\n",
    "         alpha = .8, linewidth = 4, linestyle = 'dashed',\n",
    "         solid_capstyle='round', label = 'updated equation')\n",
    "\n",
    "plt.xlabel(\"SST °C\")\n",
    "plt.ylabel(\"KGP mm day$^{-1}$\")\n",
    "plt.legend()\n",
    "plt.gca()\n",
    "\n",
    "#plt.savefig('figures/KGP with respect to chl.png')"
   ]
  },
  {
   "cell_type": "code",
   "execution_count": 11,
   "metadata": {},
   "outputs": [
    {
     "data": {
      "text/plain": [
       "<matplotlib.axes._subplots.AxesSubplot at 0x2b18295d4050>"
      ]
     },
     "execution_count": 11,
     "metadata": {},
     "output_type": "execute_result"
    },
    {
     "data": {
      "image/png": "[encoded data removed]",
      "text/plain": [
       "<Figure size 720x360 with 1 Axes>"
      ]
     },
     "metadata": {
      "needs_background": "light"
     },
     "output_type": "display_data"
    }
   ],
   "source": [
    "fig = plt.figure(figsize=(10,5))\n",
    "\n",
    "ax2 = fig.add_subplot(111)\n",
    "ax2.set_title('KGP w.r.t. Chl Conc. \\n (sst kept constant @ 1°C)')\n",
    "ax2.plot(kgp_chl.Chl_surf, kgp_chl.KGP, color = 'darkgreen',\n",
    "         alpha = .8, linewidth = 4, \n",
    "         solid_capstyle='round', label = 'current equation')\n",
    "\n",
    "ax2.plot(kgp_chl_test.Chl_surf, kgp_chl_test.KGP, color = 'lightgreen',\n",
    "         alpha = .8, linewidth = 4, linestyle = 'dashed',\n",
    "         solid_capstyle='round', label = 'updated equation')\n",
    "\n",
    "#plt.xlabel(\"SST °C\")\n",
    "plt.xlabel(\"Chl-a (mg m$^{-3}$)\")\n",
    "plt.ylabel(\"KGP mm day$^{-1}$\")\n",
    "plt.legend(loc = 'lower right')\n",
    "plt.gca()\n",
    "\n",
    "#plt.savefig('figures/KGP with respect to chl.png')"
   ]
  },
  {
   "cell_type": "code",
   "execution_count": null,
   "metadata": {},
   "outputs": [],
   "source": []
  },
  {
   "cell_type": "code",
   "execution_count": null,
   "metadata": {},
   "outputs": [],
   "source": []
  }
 ],
 "metadata": {
  "kernelspec": {
   "display_name": "Python [conda env:miniconda3-krill]",
   "language": "python",
   "name": "conda-env-miniconda3-krill-py"
  },
  "language_info": {
   "codemirror_mode": {
    "name": "ipython",
    "version": 3
   },
   "file_extension": ".py",
   "mimetype": "text/x-python",
   "name": "python",
   "nbconvert_exporter": "python",
   "pygments_lexer": "ipython3",
   "version": "3.7.6"
  }
 },
 "nbformat": 4,
 "nbformat_minor": 4
}

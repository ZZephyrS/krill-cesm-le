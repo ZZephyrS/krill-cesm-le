{
 "cells": [
  {
   "cell_type": "markdown",
   "metadata": {},
   "source": [
    "Workflow vocabulary\n",
    "\n",
    "Creating a climate product usually involves multiple steps:\n",
    "\n",
    "1. Selecting datasets\n",
    "2. Subsetting the data to a specific region and period\n",
    "3. Either regridding the multiple datasets to a common grid or computing spatial averages\n",
    "4. Computing climate indices\n",
    "5. Create graphs or tables from the results\n",
    "\n",
    "Typically each step would involve calling one or many individual processes, and it’s convenient to combine these steps into a workflow. Here we use workflow to mean a formal description of the logical organization and ordering of individual processes. "
   ]
  },
  {
   "cell_type": "code",
   "execution_count": null,
   "metadata": {},
   "outputs": [],
   "source": []
  }
 ],
 "metadata": {
  "kernelspec": {
   "display_name": "Python [conda env:miniconda3-krill]",
   "language": "python",
   "name": "conda-env-miniconda3-krill-py"
  },
  "language_info": {
   "codemirror_mode": {
    "name": "ipython",
    "version": 3
   },
   "file_extension": ".py",
   "mimetype": "text/x-python",
   "name": "python",
   "nbconvert_exporter": "python",
   "pygments_lexer": "ipython3",
   "version": "3.7.6"
  }
 },
 "nbformat": 4,
 "nbformat_minor": 4
}

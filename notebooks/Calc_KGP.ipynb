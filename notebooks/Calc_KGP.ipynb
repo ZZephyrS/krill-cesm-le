{
 "cells": [
  {
   "cell_type": "markdown",
   "metadata": {},
   "source": [
    "### Krill Growth Model (Atkinson et al 2006)\n",
    "\n",
    "#### This empirical model derives a Daily Growth Rate (DGR, mm $d^{-1}$) from a starting length of an individual krill, chlorophyll concentration, and SST:\n",
    "\n",
    "$DGR = a + b * Length + c * Length^2 + [d * \\frac{CHL}{e + CHL}] + f * SST + g * SST ^2$"
   ]
  },
  {
   "cell_type": "markdown",
   "metadata": {},
   "source": [
    "- Length (L mm) = Proxy for growth =  using 40mm as the starting value (observed mean length of adult krill)\n",
    "- SST (°C) = Proxy for survival =  threshold between -1 to 5°C\n",
    "- Chl-a (mg m$^{-3}$) = Proxy for food availability - threshold: 0.5 mg m-3"
   ]
  },
  {
   "cell_type": "markdown",
   "metadata": {},
   "source": [
    "___\n",
    "### Notebook Goal: \n",
    "#### write a function to calculate KGP in the same dimensions of an ensemble member:\n",
    "\n",
    "example:\n",
    "\n",
    "<code>def compute KGP(CHL, SST):\n",
    "    return f(CHL) + g(SST)   \n",
    "</code>\n",
    "so that `KGP = compute_KGP(CHL, SST)` #inherits dims of chl and sst (member_id, time, nlat, nlon) and so that you can go further to do `KGP_SO = compute_areal_mean(KGP)` resulting in KGP_SO dims = m, t, region\n"
   ]
  },
  {
   "cell_type": "code",
   "execution_count": 2,
   "metadata": {},
   "outputs": [],
   "source": [
    "#Import Modules\n",
    "import os\n",
    "import shutil\n",
    "\n",
    "import cftime\n",
    "from glob import glob\n",
    "import numpy as np\n",
    "import xarray as xr\n",
    "import pandas as pd\n",
    "\n",
    "import matplotlib.pyplot as plt\n",
    "from math import exp\n",
    "%matplotlib inline"
   ]
  },
  {
   "cell_type": "code",
   "execution_count": 6,
   "metadata": {
    "collapsed": true,
    "jupyter": {
     "outputs_hidden": true,
     "source_hidden": true
    }
   },
   "outputs": [
    {
     "name": "stdout",
     "output_type": "stream",
     "text": [
      "length term: -0.084\n",
      "chl term: 1.559\n",
      "sst term: -0.002\n",
      "DGR Test Case: 1.47\n"
     ]
    }
   ],
   "source": [
    "#test conditions\n",
    "length = 40\n",
    "sst = 1\n",
    "chl = 1\n",
    "\n",
    "#DGR Expression\n",
    "length_term = a + (b * length) + (c * length**2)\n",
    "chl_term = d * (chl / e + chl)\n",
    "sst_term = f * sst + g * sst**2\n",
    "print('length term:', np.round(length_term, 3)) \n",
    "print('chl term:', np.round(chl_term, 3))\n",
    "print('sst term:', np.round(sst_term, 3))\n",
    "\n",
    "DGR = length_term + chl_term + sst_term\n",
    "print('DGR Test Case:', np.round(DGR,2))"
   ]
  },
  {
   "cell_type": "markdown",
   "metadata": {},
   "source": [
    "#### Theory of the Endgame Function:"
   ]
  },
  {
   "cell_type": "code",
   "execution_count": null,
   "metadata": {},
   "outputs": [],
   "source": [
    "#def compute_KGP(CHL, SST, start_len):\n",
    "    ''' Calculates Mean Monthly Potential Growth from Chl-a and SST data\n",
    "    Input: chl and sst arrays (with the same dimensions), starting length integer: 40 mm\n",
    "    \n",
    "    Process/Steps:\n",
    "    1. generate a viable habitat array (vhab): using conditional masking \n",
    "        on the SST array, only include values within krill survival thresholds\n",
    "    2. generate inrange_CHL array by masking the CHL array by the vhab array\n",
    "    3. generate a viable growth habitat array (vgrow): using conditional masking \n",
    "        on the inrange_CHL array, only include values above krill growth requirement\n",
    "    4. generate a init_len array: using 'xr.full_like' on the vgrow array, \n",
    "        filled with the start_len integer input: init_len = xr.full_like(vgrow, start_len)\n",
    "    5. generate output array for the calculation results: DGR\n",
    "    6. calculate DGR (mm d-1) from vhab, vgrow, and init_len\n",
    "    7. calculate mean monthly potential growth (MPG in mm mon-1): DGR * no. of days in month\n",
    "    8. return arrays: MPG, vhab, and vgrow\n",
    " \n",
    "    Output: Returns the following arrays, all with the same dims as the input arrays:\n",
    "        a) viable habitat range (vhab)\n",
    "        b) viable growth habitat range (vgrow)\n",
    "        c) mean monthly potential growth (MPG)\n",
    "    \n",
    "     '''"
   ]
  },
  {
   "cell_type": "markdown",
   "metadata": {},
   "source": [
    "#### Read in an ensemble member from the CESM-LE"
   ]
  },
  {
   "cell_type": "code",
   "execution_count": 3,
   "metadata": {},
   "outputs": [
    {
     "data": {
      "text/html": [
       "<pre>&lt;xarray.Dataset&gt;\n",
       "Dimensions:     (d2: 2, nlat: 384, nlon: 320, time: 1872, z_t: 60, z_t_150m: 15)\n",
       "Coordinates:\n",
       "  * z_t         (z_t) float32 500.0 1500.0 2500.0 ... 512502.8 537500.0\n",
       "  * z_t_150m    (z_t_150m) float32 500.0 1500.0 2500.0 ... 13500.0 14500.0\n",
       "  * time        (time) object 1850-01-17 00:30:00 ... 2005-12-16 12:00:00\n",
       "Dimensions without coordinates: d2, nlat, nlon\n",
       "Data variables:\n",
       "    SST         (time, nlat, nlon) float32 dask.array&lt;chunksize=(1872, 384, 16), meta=np.ndarray&gt;\n",
       "    Chl_surf    (time, nlat, nlon) float32 dask.array&lt;chunksize=(1872, 384, 16), meta=np.ndarray&gt;\n",
       "    KMT         (nlat, nlon) float64 dask.array&lt;chunksize=(384, 16), meta=np.ndarray&gt;\n",
       "    TAREA       (nlat, nlon) float64 dask.array&lt;chunksize=(384, 16), meta=np.ndarray&gt;\n",
       "    TLAT        (nlat, nlon) float64 dask.array&lt;chunksize=(384, 16), meta=np.ndarray&gt;\n",
       "    TLONG       (nlat, nlon) float64 dask.array&lt;chunksize=(384, 16), meta=np.ndarray&gt;\n",
       "    dz          (z_t) float32 dask.array&lt;chunksize=(60,), meta=np.ndarray&gt;\n",
       "    time_bound  (time, d2) float64 dask.array&lt;chunksize=(1872, 2), meta=np.ndarray&gt;</pre>"
      ],
      "text/plain": [
       "<xarray.Dataset>\n",
       "Dimensions:     (d2: 2, nlat: 384, nlon: 320, time: 1872, z_t: 60, z_t_150m: 15)\n",
       "Coordinates:\n",
       "  * z_t         (z_t) float32 500.0 1500.0 2500.0 ... 512502.8 537500.0\n",
       "  * z_t_150m    (z_t_150m) float32 500.0 1500.0 2500.0 ... 13500.0 14500.0\n",
       "  * time        (time) object 1850-01-17 00:30:00 ... 2005-12-16 12:00:00\n",
       "Dimensions without coordinates: d2, nlat, nlon\n",
       "Data variables:\n",
       "    SST         (time, nlat, nlon) float32 dask.array<chunksize=(1872, 384, 16), meta=np.ndarray>\n",
       "    Chl_surf    (time, nlat, nlon) float32 dask.array<chunksize=(1872, 384, 16), meta=np.ndarray>\n",
       "    KMT         (nlat, nlon) float64 dask.array<chunksize=(384, 16), meta=np.ndarray>\n",
       "    TAREA       (nlat, nlon) float64 dask.array<chunksize=(384, 16), meta=np.ndarray>\n",
       "    TLAT        (nlat, nlon) float64 dask.array<chunksize=(384, 16), meta=np.ndarray>\n",
       "    TLONG       (nlat, nlon) float64 dask.array<chunksize=(384, 16), meta=np.ndarray>\n",
       "    dz          (z_t) float32 dask.array<chunksize=(60,), meta=np.ndarray>\n",
       "    time_bound  (time, d2) float64 dask.array<chunksize=(1872, 2), meta=np.ndarray>"
      ]
     },
     "execution_count": 3,
     "metadata": {},
     "output_type": "execute_result"
    }
   ],
   "source": [
    "cesmle_root = '/glade/p/cesm/community/CESM-LE/data/CESM-CAM5-BGC-LE'\n",
    "\n",
    "component = 'ocn'\n",
    "freq = 'monthly'\n",
    "stream = 'pop.h' # POP ocean model monthly stream\n",
    "case = 'b.e11.B20TRC5CNBDRD.f09_g16.001'\n",
    "\n",
    "variables = ['SST', 'diatChl', 'spChl', 'diazChl']\n",
    "grid_vars = ['KMT', 'TAREA', 'TLAT', 'TLONG', 'z_t', 'dz', 'z_t_150m', 'time', 'time_bound']\n",
    "\n",
    "# loop over variables, construct list of datasets\n",
    "ds_list = []\n",
    "for v in variables:\n",
    "    files = glob(f'{cesmle_root}/{component}/proc/tseries/{freq}/{v}/{case}.{stream}.{v}.*.nc')\n",
    "    dsi = xr.open_mfdataset(files, decode_coords=False, decode_times=False, \n",
    "                            concat_dim='time',\n",
    "                            combine='nested',\n",
    "                            data_vars=[v],\n",
    "                            chunks={'nlon': 16})\n",
    "    # SST has a singleton z_t dimension, so remove this to avoid problems on merge\n",
    "    if v == 'SST':\n",
    "        dsi = dsi.squeeze(dim='z_t', drop=True).drop('dz')\n",
    "        \n",
    "        \n",
    "    ds_list.append(dsi)\n",
    "    \n",
    "ds = xr.merge(ds_list)\n",
    "ds = ds[variables+grid_vars]\n",
    "\n",
    "ds['time'] = xr.DataArray(cftime.num2date(ds.time_bound.mean(dim='d2'), units=ds.time.units, \n",
    "                                         calendar=ds.time.calendar), dims=('time'))\n",
    "\n",
    "ds['Chl_surf'] = (ds.diatChl + ds.spChl + ds.diazChl).isel(z_t_150m=0)\n",
    "ds.Chl_surf.attrs = ds.diatChl.attrs\n",
    "ds.Chl_surf.attrs['long_name'] = 'Surface chlorophyll'\n",
    "\n",
    "variables = list(filter(lambda v: 'Chl' not in v, variables)) + ['Chl_surf']\n",
    "ds = ds[variables+grid_vars]\n",
    "ds"
   ]
  },
  {
   "cell_type": "markdown",
   "metadata": {},
   "source": [
    "### Reduce data set to a date range:"
   ]
  },
  {
   "cell_type": "code",
   "execution_count": 4,
   "metadata": {},
   "outputs": [
    {
     "data": {
      "text/html": [
       "<pre>&lt;xarray.Dataset&gt;\n",
       "Dimensions:     (d2: 2, nlat: 384, nlon: 320, time: 1033, z_t: 60, z_t_150m: 15)\n",
       "Coordinates:\n",
       "  * z_t         (z_t) float32 500.0 1500.0 2500.0 ... 512502.8 537500.0\n",
       "  * z_t_150m    (z_t_150m) float32 500.0 1500.0 2500.0 ... 13500.0 14500.0\n",
       "  * time        (time) object 1919-12-16 12:00:00 ... 2005-12-16 12:00:00\n",
       "Dimensions without coordinates: d2, nlat, nlon\n",
       "Data variables:\n",
       "    SST         (time, nlat, nlon) float32 dask.array&lt;chunksize=(1033, 384, 16), meta=np.ndarray&gt;\n",
       "    Chl_surf    (time, nlat, nlon) float32 dask.array&lt;chunksize=(1033, 384, 16), meta=np.ndarray&gt;\n",
       "    KMT         (nlat, nlon) float64 dask.array&lt;chunksize=(384, 16), meta=np.ndarray&gt;\n",
       "    TAREA       (nlat, nlon) float64 dask.array&lt;chunksize=(384, 16), meta=np.ndarray&gt;\n",
       "    TLAT        (nlat, nlon) float64 dask.array&lt;chunksize=(384, 16), meta=np.ndarray&gt;\n",
       "    TLONG       (nlat, nlon) float64 dask.array&lt;chunksize=(384, 16), meta=np.ndarray&gt;\n",
       "    dz          (z_t) float32 dask.array&lt;chunksize=(60,), meta=np.ndarray&gt;\n",
       "    time_bound  (time, d2) float64 dask.array&lt;chunksize=(1033, 2), meta=np.ndarray&gt;</pre>"
      ],
      "text/plain": [
       "<xarray.Dataset>\n",
       "Dimensions:     (d2: 2, nlat: 384, nlon: 320, time: 1033, z_t: 60, z_t_150m: 15)\n",
       "Coordinates:\n",
       "  * z_t         (z_t) float32 500.0 1500.0 2500.0 ... 512502.8 537500.0\n",
       "  * z_t_150m    (z_t_150m) float32 500.0 1500.0 2500.0 ... 13500.0 14500.0\n",
       "  * time        (time) object 1919-12-16 12:00:00 ... 2005-12-16 12:00:00\n",
       "Dimensions without coordinates: d2, nlat, nlon\n",
       "Data variables:\n",
       "    SST         (time, nlat, nlon) float32 dask.array<chunksize=(1033, 384, 16), meta=np.ndarray>\n",
       "    Chl_surf    (time, nlat, nlon) float32 dask.array<chunksize=(1033, 384, 16), meta=np.ndarray>\n",
       "    KMT         (nlat, nlon) float64 dask.array<chunksize=(384, 16), meta=np.ndarray>\n",
       "    TAREA       (nlat, nlon) float64 dask.array<chunksize=(384, 16), meta=np.ndarray>\n",
       "    TLAT        (nlat, nlon) float64 dask.array<chunksize=(384, 16), meta=np.ndarray>\n",
       "    TLONG       (nlat, nlon) float64 dask.array<chunksize=(384, 16), meta=np.ndarray>\n",
       "    dz          (z_t) float32 dask.array<chunksize=(60,), meta=np.ndarray>\n",
       "    time_bound  (time, d2) float64 dask.array<chunksize=(1033, 2), meta=np.ndarray>"
      ]
     },
     "execution_count": 4,
     "metadata": {},
     "output_type": "execute_result"
    }
   ],
   "source": [
    "## Clip to 1920 - end:\n",
    "ds_rec = ds[variables+grid_vars].isel(time=slice(839, 1872))\n",
    "ds_rec"
   ]
  },
  {
   "cell_type": "code",
   "execution_count": 1,
   "metadata": {},
   "outputs": [],
   "source": [
    "### Reduce data set to Southern Ocean:"
   ]
  },
  {
   "cell_type": "code",
   "execution_count": 5,
   "metadata": {},
   "outputs": [
    {
     "data": {
      "text/html": [
       "<pre>&lt;xarray.Dataset&gt;\n",
       "Dimensions:     (d2: 2, nlat: 384, nlon: 320, time: 1033, z_t: 60, z_t_150m: 15)\n",
       "Coordinates:\n",
       "  * z_t         (z_t) float32 500.0 1500.0 2500.0 ... 512502.8 537500.0\n",
       "  * z_t_150m    (z_t_150m) float32 500.0 1500.0 2500.0 ... 13500.0 14500.0\n",
       "  * time        (time) object 1919-12-16 12:00:00 ... 2005-12-16 12:00:00\n",
       "Dimensions without coordinates: d2, nlat, nlon\n",
       "Data variables:\n",
       "    SST         (time, nlat, nlon) float32 dask.array&lt;chunksize=(1033, 384, 16), meta=np.ndarray&gt;\n",
       "    Chl_surf    (time, nlat, nlon) float32 dask.array&lt;chunksize=(1033, 384, 16), meta=np.ndarray&gt;\n",
       "    KMT         (nlat, nlon) float64 dask.array&lt;chunksize=(384, 16), meta=np.ndarray&gt;\n",
       "    TAREA       (nlat, nlon) float64 dask.array&lt;chunksize=(384, 16), meta=np.ndarray&gt;\n",
       "    TLAT        (nlat, nlon) float64 dask.array&lt;chunksize=(384, 16), meta=np.ndarray&gt;\n",
       "    TLONG       (nlat, nlon) float64 dask.array&lt;chunksize=(384, 16), meta=np.ndarray&gt;\n",
       "    dz          (z_t, nlat, nlon) float32 dask.array&lt;chunksize=(60, 384, 16), meta=np.ndarray&gt;\n",
       "    time_bound  (time, d2, nlat, nlon) float64 dask.array&lt;chunksize=(1033, 2, 384, 16), meta=np.ndarray&gt;</pre>"
      ],
      "text/plain": [
       "<xarray.Dataset>\n",
       "Dimensions:     (d2: 2, nlat: 384, nlon: 320, time: 1033, z_t: 60, z_t_150m: 15)\n",
       "Coordinates:\n",
       "  * z_t         (z_t) float32 500.0 1500.0 2500.0 ... 512502.8 537500.0\n",
       "  * z_t_150m    (z_t_150m) float32 500.0 1500.0 2500.0 ... 13500.0 14500.0\n",
       "  * time        (time) object 1919-12-16 12:00:00 ... 2005-12-16 12:00:00\n",
       "Dimensions without coordinates: d2, nlat, nlon\n",
       "Data variables:\n",
       "    SST         (time, nlat, nlon) float32 dask.array<chunksize=(1033, 384, 16), meta=np.ndarray>\n",
       "    Chl_surf    (time, nlat, nlon) float32 dask.array<chunksize=(1033, 384, 16), meta=np.ndarray>\n",
       "    KMT         (nlat, nlon) float64 dask.array<chunksize=(384, 16), meta=np.ndarray>\n",
       "    TAREA       (nlat, nlon) float64 dask.array<chunksize=(384, 16), meta=np.ndarray>\n",
       "    TLAT        (nlat, nlon) float64 dask.array<chunksize=(384, 16), meta=np.ndarray>\n",
       "    TLONG       (nlat, nlon) float64 dask.array<chunksize=(384, 16), meta=np.ndarray>\n",
       "    dz          (z_t, nlat, nlon) float32 dask.array<chunksize=(60, 384, 16), meta=np.ndarray>\n",
       "    time_bound  (time, d2, nlat, nlon) float64 dask.array<chunksize=(1033, 2, 384, 16), meta=np.ndarray>"
      ]
     },
     "execution_count": 5,
     "metadata": {},
     "output_type": "execute_result"
    }
   ],
   "source": [
    "# Clip to Southern Ocean:\n",
    "ds_so = ds_rec[variables+grid_vars].where((ds_rec.TLAT <= -45) & (ds_rec.KMT > 0))\n",
    "ds_so"
   ]
  },
  {
   "cell_type": "markdown",
   "metadata": {},
   "source": [
    "#### Setting up the conditions for growth:\n",
    "\n",
    "murphy: SST values <−1 °C were capped at −1 °C\n",
    "devi: SST values <-1 °C were included, but a contour was drawn around the results as this is outside the bounds of uncertainty of the equation"
   ]
  },
  {
   "cell_type": "code",
   "execution_count": 17,
   "metadata": {},
   "outputs": [],
   "source": [
    "def viable_growth_hab(dataset): #takes a dataset assuming it has all of the same things as inside\n",
    "    SOcean = dataset.TAREA.where((dataset.TLAT <= -45) & (dataset.KMT > 0))\n",
    "    conditions = (dataset.SST >= -1) & (dataset.SST <= 5) & (dataset.Chl_surf >= 0.5)\n",
    "    vgrowthhab = dataset.where(conditions).fillna(0).where(SOcean)\n",
    "    return vgrowthhab"
   ]
  },
  {
   "cell_type": "code",
   "execution_count": 18,
   "metadata": {},
   "outputs": [
    {
     "data": {
      "text/html": [
       "<pre>&lt;xarray.Dataset&gt;\n",
       "Dimensions:     (d2: 2, nlat: 384, nlon: 320, time: 1033, z_t: 60, z_t_150m: 15)\n",
       "Coordinates:\n",
       "  * z_t         (z_t) float32 500.0 1500.0 2500.0 ... 512502.8 537500.0\n",
       "  * z_t_150m    (z_t_150m) float32 500.0 1500.0 2500.0 ... 13500.0 14500.0\n",
       "  * time        (time) object 1919-12-16 12:00:00 ... 2005-12-16 12:00:00\n",
       "Dimensions without coordinates: d2, nlat, nlon\n",
       "Data variables:\n",
       "    SST         (time, nlat, nlon) float32 dask.array&lt;chunksize=(1033, 384, 16), meta=np.ndarray&gt;\n",
       "    Chl_surf    (time, nlat, nlon) float32 dask.array&lt;chunksize=(1033, 384, 16), meta=np.ndarray&gt;\n",
       "    KMT         (nlat, nlon, time) float64 dask.array&lt;chunksize=(384, 16, 1033), meta=np.ndarray&gt;\n",
       "    TAREA       (nlat, nlon, time) float64 dask.array&lt;chunksize=(384, 16, 1033), meta=np.ndarray&gt;\n",
       "    TLAT        (nlat, nlon, time) float64 dask.array&lt;chunksize=(384, 16, 1033), meta=np.ndarray&gt;\n",
       "    TLONG       (nlat, nlon, time) float64 dask.array&lt;chunksize=(384, 16, 1033), meta=np.ndarray&gt;\n",
       "    dz          (z_t, time, nlat, nlon) float32 dask.array&lt;chunksize=(60, 1033, 384, 16), meta=np.ndarray&gt;\n",
       "    time_bound  (time, d2, nlat, nlon) float64 dask.array&lt;chunksize=(1033, 2, 384, 16), meta=np.ndarray&gt;</pre>"
      ],
      "text/plain": [
       "<xarray.Dataset>\n",
       "Dimensions:     (d2: 2, nlat: 384, nlon: 320, time: 1033, z_t: 60, z_t_150m: 15)\n",
       "Coordinates:\n",
       "  * z_t         (z_t) float32 500.0 1500.0 2500.0 ... 512502.8 537500.0\n",
       "  * z_t_150m    (z_t_150m) float32 500.0 1500.0 2500.0 ... 13500.0 14500.0\n",
       "  * time        (time) object 1919-12-16 12:00:00 ... 2005-12-16 12:00:00\n",
       "Dimensions without coordinates: d2, nlat, nlon\n",
       "Data variables:\n",
       "    SST         (time, nlat, nlon) float32 dask.array<chunksize=(1033, 384, 16), meta=np.ndarray>\n",
       "    Chl_surf    (time, nlat, nlon) float32 dask.array<chunksize=(1033, 384, 16), meta=np.ndarray>\n",
       "    KMT         (nlat, nlon, time) float64 dask.array<chunksize=(384, 16, 1033), meta=np.ndarray>\n",
       "    TAREA       (nlat, nlon, time) float64 dask.array<chunksize=(384, 16, 1033), meta=np.ndarray>\n",
       "    TLAT        (nlat, nlon, time) float64 dask.array<chunksize=(384, 16, 1033), meta=np.ndarray>\n",
       "    TLONG       (nlat, nlon, time) float64 dask.array<chunksize=(384, 16, 1033), meta=np.ndarray>\n",
       "    dz          (z_t, time, nlat, nlon) float32 dask.array<chunksize=(60, 1033, 384, 16), meta=np.ndarray>\n",
       "    time_bound  (time, d2, nlat, nlon) float64 dask.array<chunksize=(1033, 2, 384, 16), meta=np.ndarray>"
      ]
     },
     "execution_count": 18,
     "metadata": {},
     "output_type": "execute_result"
    }
   ],
   "source": [
    "VGH = viable_growth_hab(ds_rec)\n",
    "VGH"
   ]
  },
  {
   "cell_type": "code",
   "execution_count": 10,
   "metadata": {},
   "outputs": [
    {
     "data": {
      "text/html": [
       "<pre>&lt;xarray.Dataset&gt;\n",
       "Dimensions:     (d2: 2, nlat: 384, nlon: 320, time: 1033, z_t: 60, z_t_150m: 15)\n",
       "Coordinates:\n",
       "  * z_t         (z_t) float32 500.0 1500.0 2500.0 ... 512502.8 537500.0\n",
       "  * z_t_150m    (z_t_150m) float32 500.0 1500.0 2500.0 ... 13500.0 14500.0\n",
       "  * time        (time) object 1919-12-16 12:00:00 ... 2005-12-16 12:00:00\n",
       "Dimensions without coordinates: d2, nlat, nlon\n",
       "Data variables:\n",
       "    SST         (time, nlat, nlon) float32 dask.array&lt;chunksize=(1033, 384, 16), meta=np.ndarray&gt;\n",
       "    Chl_surf    (time, nlat, nlon) float32 dask.array&lt;chunksize=(1033, 384, 16), meta=np.ndarray&gt;\n",
       "    KMT         (nlat, nlon, time) float64 dask.array&lt;chunksize=(384, 16, 1033), meta=np.ndarray&gt;\n",
       "    TAREA       (nlat, nlon, time) float64 dask.array&lt;chunksize=(384, 16, 1033), meta=np.ndarray&gt;\n",
       "    TLAT        (nlat, nlon, time) float64 dask.array&lt;chunksize=(384, 16, 1033), meta=np.ndarray&gt;\n",
       "    TLONG       (nlat, nlon, time) float64 dask.array&lt;chunksize=(384, 16, 1033), meta=np.ndarray&gt;\n",
       "    dz          (z_t, time, nlat, nlon) float32 dask.array&lt;chunksize=(60, 1033, 384, 16), meta=np.ndarray&gt;\n",
       "    time_bound  (time, d2, nlat, nlon) float64 dask.array&lt;chunksize=(1033, 2, 384, 16), meta=np.ndarray&gt;</pre>"
      ],
      "text/plain": [
       "<xarray.Dataset>\n",
       "Dimensions:     (d2: 2, nlat: 384, nlon: 320, time: 1033, z_t: 60, z_t_150m: 15)\n",
       "Coordinates:\n",
       "  * z_t         (z_t) float32 500.0 1500.0 2500.0 ... 512502.8 537500.0\n",
       "  * z_t_150m    (z_t_150m) float32 500.0 1500.0 2500.0 ... 13500.0 14500.0\n",
       "  * time        (time) object 1919-12-16 12:00:00 ... 2005-12-16 12:00:00\n",
       "Dimensions without coordinates: d2, nlat, nlon\n",
       "Data variables:\n",
       "    SST         (time, nlat, nlon) float32 dask.array<chunksize=(1033, 384, 16), meta=np.ndarray>\n",
       "    Chl_surf    (time, nlat, nlon) float32 dask.array<chunksize=(1033, 384, 16), meta=np.ndarray>\n",
       "    KMT         (nlat, nlon, time) float64 dask.array<chunksize=(384, 16, 1033), meta=np.ndarray>\n",
       "    TAREA       (nlat, nlon, time) float64 dask.array<chunksize=(384, 16, 1033), meta=np.ndarray>\n",
       "    TLAT        (nlat, nlon, time) float64 dask.array<chunksize=(384, 16, 1033), meta=np.ndarray>\n",
       "    TLONG       (nlat, nlon, time) float64 dask.array<chunksize=(384, 16, 1033), meta=np.ndarray>\n",
       "    dz          (z_t, time, nlat, nlon) float32 dask.array<chunksize=(60, 1033, 384, 16), meta=np.ndarray>\n",
       "    time_bound  (time, d2, nlat, nlon) float64 dask.array<chunksize=(1033, 2, 384, 16), meta=np.ndarray>"
      ]
     },
     "execution_count": 10,
     "metadata": {},
     "output_type": "execute_result"
    }
   ],
   "source": [
    "VGH = viable_growth_hab(ds_rec.SST, ds_rec.Chl_surf, ds_rec)\n",
    "VGH"
   ]
  },
  {
   "cell_type": "code",
   "execution_count": 11,
   "metadata": {},
   "outputs": [
    {
     "name": "stderr",
     "output_type": "stream",
     "text": [
      "/glade/work/zephyrs/miniconda3/envs/krill/lib/python3.7/site-packages/dask/core.py:119: RuntimeWarning: invalid value encountered in greater_equal\n",
      "  return func(*args2)\n",
      "/glade/work/zephyrs/miniconda3/envs/krill/lib/python3.7/site-packages/dask/core.py:119: RuntimeWarning: invalid value encountered in less_equal\n",
      "  return func(*args2)\n"
     ]
    },
    {
     "ename": "KeyboardInterrupt",
     "evalue": "",
     "output_type": "error",
     "traceback": [
      "\u001b[0;31m---------------------------------------------------------------------------\u001b[0m",
      "\u001b[0;31mKeyboardInterrupt\u001b[0m                         Traceback (most recent call last)",
      "\u001b[0;32m<ipython-input-11-a1b19c655bdf>\u001b[0m in \u001b[0;36m<module>\u001b[0;34m\u001b[0m\n\u001b[0;32m----> 1\u001b[0;31m \u001b[0mVGH\u001b[0m\u001b[0;34m.\u001b[0m\u001b[0mSST\u001b[0m\u001b[0;34m.\u001b[0m\u001b[0misel\u001b[0m\u001b[0;34m(\u001b[0m\u001b[0mtime\u001b[0m\u001b[0;34m=\u001b[0m\u001b[0;36m0\u001b[0m\u001b[0;34m)\u001b[0m\u001b[0;34m.\u001b[0m\u001b[0mplot\u001b[0m\u001b[0;34m(\u001b[0m\u001b[0mvmin\u001b[0m\u001b[0;34m=\u001b[0m\u001b[0;34m-\u001b[0m\u001b[0;36m2\u001b[0m\u001b[0;34m,\u001b[0m \u001b[0mvmax\u001b[0m\u001b[0;34m=\u001b[0m\u001b[0;36m10\u001b[0m\u001b[0;34m)\u001b[0m\u001b[0;34m\u001b[0m\u001b[0;34m\u001b[0m\u001b[0m\n\u001b[0m",
      "\u001b[0;32m/glade/work/zephyrs/miniconda3/envs/krill/lib/python3.7/site-packages/xarray/plot/plot.py\u001b[0m in \u001b[0;36m__call__\u001b[0;34m(self, **kwargs)\u001b[0m\n\u001b[1;32m    444\u001b[0m \u001b[0;34m\u001b[0m\u001b[0m\n\u001b[1;32m    445\u001b[0m     \u001b[0;32mdef\u001b[0m \u001b[0m__call__\u001b[0m\u001b[0;34m(\u001b[0m\u001b[0mself\u001b[0m\u001b[0;34m,\u001b[0m \u001b[0;34m**\u001b[0m\u001b[0mkwargs\u001b[0m\u001b[0;34m)\u001b[0m\u001b[0;34m:\u001b[0m\u001b[0;34m\u001b[0m\u001b[0;34m\u001b[0m\u001b[0m\n\u001b[0;32m--> 446\u001b[0;31m         \u001b[0;32mreturn\u001b[0m \u001b[0mplot\u001b[0m\u001b[0;34m(\u001b[0m\u001b[0mself\u001b[0m\u001b[0;34m.\u001b[0m\u001b[0m_da\u001b[0m\u001b[0;34m,\u001b[0m \u001b[0;34m**\u001b[0m\u001b[0mkwargs\u001b[0m\u001b[0;34m)\u001b[0m\u001b[0;34m\u001b[0m\u001b[0;34m\u001b[0m\u001b[0m\n\u001b[0m\u001b[1;32m    447\u001b[0m \u001b[0;34m\u001b[0m\u001b[0m\n\u001b[1;32m    448\u001b[0m     \u001b[0;34m@\u001b[0m\u001b[0mfunctools\u001b[0m\u001b[0;34m.\u001b[0m\u001b[0mwraps\u001b[0m\u001b[0;34m(\u001b[0m\u001b[0mhist\u001b[0m\u001b[0;34m)\u001b[0m\u001b[0;34m\u001b[0m\u001b[0;34m\u001b[0m\u001b[0m\n",
      "\u001b[0;32m/glade/work/zephyrs/miniconda3/envs/krill/lib/python3.7/site-packages/xarray/plot/plot.py\u001b[0m in \u001b[0;36mplot\u001b[0;34m(darray, row, col, col_wrap, ax, hue, rtol, subplot_kws, **kwargs)\u001b[0m\n\u001b[1;32m    162\u001b[0m \u001b[0;34m\u001b[0m\u001b[0m\n\u001b[1;32m    163\u001b[0m     \"\"\"\n\u001b[0;32m--> 164\u001b[0;31m     \u001b[0mdarray\u001b[0m \u001b[0;34m=\u001b[0m \u001b[0mdarray\u001b[0m\u001b[0;34m.\u001b[0m\u001b[0msqueeze\u001b[0m\u001b[0;34m(\u001b[0m\u001b[0;34m)\u001b[0m\u001b[0;34m.\u001b[0m\u001b[0mcompute\u001b[0m\u001b[0;34m(\u001b[0m\u001b[0;34m)\u001b[0m\u001b[0;34m\u001b[0m\u001b[0;34m\u001b[0m\u001b[0m\n\u001b[0m\u001b[1;32m    165\u001b[0m \u001b[0;34m\u001b[0m\u001b[0m\n\u001b[1;32m    166\u001b[0m     \u001b[0mplot_dims\u001b[0m \u001b[0;34m=\u001b[0m \u001b[0mset\u001b[0m\u001b[0;34m(\u001b[0m\u001b[0mdarray\u001b[0m\u001b[0;34m.\u001b[0m\u001b[0mdims\u001b[0m\u001b[0;34m)\u001b[0m\u001b[0;34m\u001b[0m\u001b[0;34m\u001b[0m\u001b[0m\n",
      "\u001b[0;32m/glade/work/zephyrs/miniconda3/envs/krill/lib/python3.7/site-packages/xarray/core/dataarray.py\u001b[0m in \u001b[0;36mcompute\u001b[0;34m(self, **kwargs)\u001b[0m\n\u001b[1;32m    825\u001b[0m         \"\"\"\n\u001b[1;32m    826\u001b[0m         \u001b[0mnew\u001b[0m \u001b[0;34m=\u001b[0m \u001b[0mself\u001b[0m\u001b[0;34m.\u001b[0m\u001b[0mcopy\u001b[0m\u001b[0;34m(\u001b[0m\u001b[0mdeep\u001b[0m\u001b[0;34m=\u001b[0m\u001b[0;32mFalse\u001b[0m\u001b[0;34m)\u001b[0m\u001b[0;34m\u001b[0m\u001b[0;34m\u001b[0m\u001b[0m\n\u001b[0;32m--> 827\u001b[0;31m         \u001b[0;32mreturn\u001b[0m \u001b[0mnew\u001b[0m\u001b[0;34m.\u001b[0m\u001b[0mload\u001b[0m\u001b[0;34m(\u001b[0m\u001b[0;34m**\u001b[0m\u001b[0mkwargs\u001b[0m\u001b[0;34m)\u001b[0m\u001b[0;34m\u001b[0m\u001b[0;34m\u001b[0m\u001b[0m\n\u001b[0m\u001b[1;32m    828\u001b[0m \u001b[0;34m\u001b[0m\u001b[0m\n\u001b[1;32m    829\u001b[0m     \u001b[0;32mdef\u001b[0m \u001b[0mpersist\u001b[0m\u001b[0;34m(\u001b[0m\u001b[0mself\u001b[0m\u001b[0;34m,\u001b[0m \u001b[0;34m**\u001b[0m\u001b[0mkwargs\u001b[0m\u001b[0;34m)\u001b[0m \u001b[0;34m->\u001b[0m \u001b[0;34m\"DataArray\"\u001b[0m\u001b[0;34m:\u001b[0m\u001b[0;34m\u001b[0m\u001b[0;34m\u001b[0m\u001b[0m\n",
      "\u001b[0;32m/glade/work/zephyrs/miniconda3/envs/krill/lib/python3.7/site-packages/xarray/core/dataarray.py\u001b[0m in \u001b[0;36mload\u001b[0;34m(self, **kwargs)\u001b[0m\n\u001b[1;32m    799\u001b[0m         \u001b[0mdask\u001b[0m\u001b[0;34m.\u001b[0m\u001b[0marray\u001b[0m\u001b[0;34m.\u001b[0m\u001b[0mcompute\u001b[0m\u001b[0;34m\u001b[0m\u001b[0;34m\u001b[0m\u001b[0m\n\u001b[1;32m    800\u001b[0m         \"\"\"\n\u001b[0;32m--> 801\u001b[0;31m         \u001b[0mds\u001b[0m \u001b[0;34m=\u001b[0m \u001b[0mself\u001b[0m\u001b[0;34m.\u001b[0m\u001b[0m_to_temp_dataset\u001b[0m\u001b[0;34m(\u001b[0m\u001b[0;34m)\u001b[0m\u001b[0;34m.\u001b[0m\u001b[0mload\u001b[0m\u001b[0;34m(\u001b[0m\u001b[0;34m**\u001b[0m\u001b[0mkwargs\u001b[0m\u001b[0;34m)\u001b[0m\u001b[0;34m\u001b[0m\u001b[0;34m\u001b[0m\u001b[0m\n\u001b[0m\u001b[1;32m    802\u001b[0m         \u001b[0mnew\u001b[0m \u001b[0;34m=\u001b[0m \u001b[0mself\u001b[0m\u001b[0;34m.\u001b[0m\u001b[0m_from_temp_dataset\u001b[0m\u001b[0;34m(\u001b[0m\u001b[0mds\u001b[0m\u001b[0;34m)\u001b[0m\u001b[0;34m\u001b[0m\u001b[0;34m\u001b[0m\u001b[0m\n\u001b[1;32m    803\u001b[0m         \u001b[0mself\u001b[0m\u001b[0;34m.\u001b[0m\u001b[0m_variable\u001b[0m \u001b[0;34m=\u001b[0m \u001b[0mnew\u001b[0m\u001b[0;34m.\u001b[0m\u001b[0m_variable\u001b[0m\u001b[0;34m\u001b[0m\u001b[0;34m\u001b[0m\u001b[0m\n",
      "\u001b[0;32m/glade/work/zephyrs/miniconda3/envs/krill/lib/python3.7/site-packages/xarray/core/dataset.py\u001b[0m in \u001b[0;36mload\u001b[0;34m(self, **kwargs)\u001b[0m\n\u001b[1;32m    649\u001b[0m \u001b[0;34m\u001b[0m\u001b[0m\n\u001b[1;32m    650\u001b[0m             \u001b[0;31m# evaluate all the dask arrays simultaneously\u001b[0m\u001b[0;34m\u001b[0m\u001b[0;34m\u001b[0m\u001b[0;34m\u001b[0m\u001b[0m\n\u001b[0;32m--> 651\u001b[0;31m             \u001b[0mevaluated_data\u001b[0m \u001b[0;34m=\u001b[0m \u001b[0mda\u001b[0m\u001b[0;34m.\u001b[0m\u001b[0mcompute\u001b[0m\u001b[0;34m(\u001b[0m\u001b[0;34m*\u001b[0m\u001b[0mlazy_data\u001b[0m\u001b[0;34m.\u001b[0m\u001b[0mvalues\u001b[0m\u001b[0;34m(\u001b[0m\u001b[0;34m)\u001b[0m\u001b[0;34m,\u001b[0m \u001b[0;34m**\u001b[0m\u001b[0mkwargs\u001b[0m\u001b[0;34m)\u001b[0m\u001b[0;34m\u001b[0m\u001b[0;34m\u001b[0m\u001b[0m\n\u001b[0m\u001b[1;32m    652\u001b[0m \u001b[0;34m\u001b[0m\u001b[0m\n\u001b[1;32m    653\u001b[0m             \u001b[0;32mfor\u001b[0m \u001b[0mk\u001b[0m\u001b[0;34m,\u001b[0m \u001b[0mdata\u001b[0m \u001b[0;32min\u001b[0m \u001b[0mzip\u001b[0m\u001b[0;34m(\u001b[0m\u001b[0mlazy_data\u001b[0m\u001b[0;34m,\u001b[0m \u001b[0mevaluated_data\u001b[0m\u001b[0;34m)\u001b[0m\u001b[0;34m:\u001b[0m\u001b[0;34m\u001b[0m\u001b[0;34m\u001b[0m\u001b[0m\n",
      "\u001b[0;32m/glade/work/zephyrs/miniconda3/envs/krill/lib/python3.7/site-packages/dask/base.py\u001b[0m in \u001b[0;36mcompute\u001b[0;34m(*args, **kwargs)\u001b[0m\n\u001b[1;32m    434\u001b[0m     \u001b[0mkeys\u001b[0m \u001b[0;34m=\u001b[0m \u001b[0;34m[\u001b[0m\u001b[0mx\u001b[0m\u001b[0;34m.\u001b[0m\u001b[0m__dask_keys__\u001b[0m\u001b[0;34m(\u001b[0m\u001b[0;34m)\u001b[0m \u001b[0;32mfor\u001b[0m \u001b[0mx\u001b[0m \u001b[0;32min\u001b[0m \u001b[0mcollections\u001b[0m\u001b[0;34m]\u001b[0m\u001b[0;34m\u001b[0m\u001b[0;34m\u001b[0m\u001b[0m\n\u001b[1;32m    435\u001b[0m     \u001b[0mpostcomputes\u001b[0m \u001b[0;34m=\u001b[0m \u001b[0;34m[\u001b[0m\u001b[0mx\u001b[0m\u001b[0;34m.\u001b[0m\u001b[0m__dask_postcompute__\u001b[0m\u001b[0;34m(\u001b[0m\u001b[0;34m)\u001b[0m \u001b[0;32mfor\u001b[0m \u001b[0mx\u001b[0m \u001b[0;32min\u001b[0m \u001b[0mcollections\u001b[0m\u001b[0;34m]\u001b[0m\u001b[0;34m\u001b[0m\u001b[0;34m\u001b[0m\u001b[0m\n\u001b[0;32m--> 436\u001b[0;31m     \u001b[0mresults\u001b[0m \u001b[0;34m=\u001b[0m \u001b[0mschedule\u001b[0m\u001b[0;34m(\u001b[0m\u001b[0mdsk\u001b[0m\u001b[0;34m,\u001b[0m \u001b[0mkeys\u001b[0m\u001b[0;34m,\u001b[0m \u001b[0;34m**\u001b[0m\u001b[0mkwargs\u001b[0m\u001b[0;34m)\u001b[0m\u001b[0;34m\u001b[0m\u001b[0;34m\u001b[0m\u001b[0m\n\u001b[0m\u001b[1;32m    437\u001b[0m     \u001b[0;32mreturn\u001b[0m \u001b[0mrepack\u001b[0m\u001b[0;34m(\u001b[0m\u001b[0;34m[\u001b[0m\u001b[0mf\u001b[0m\u001b[0;34m(\u001b[0m\u001b[0mr\u001b[0m\u001b[0;34m,\u001b[0m \u001b[0;34m*\u001b[0m\u001b[0ma\u001b[0m\u001b[0;34m)\u001b[0m \u001b[0;32mfor\u001b[0m \u001b[0mr\u001b[0m\u001b[0;34m,\u001b[0m \u001b[0;34m(\u001b[0m\u001b[0mf\u001b[0m\u001b[0;34m,\u001b[0m \u001b[0ma\u001b[0m\u001b[0;34m)\u001b[0m \u001b[0;32min\u001b[0m \u001b[0mzip\u001b[0m\u001b[0;34m(\u001b[0m\u001b[0mresults\u001b[0m\u001b[0;34m,\u001b[0m \u001b[0mpostcomputes\u001b[0m\u001b[0;34m)\u001b[0m\u001b[0;34m]\u001b[0m\u001b[0;34m)\u001b[0m\u001b[0;34m\u001b[0m\u001b[0;34m\u001b[0m\u001b[0m\n\u001b[1;32m    438\u001b[0m \u001b[0;34m\u001b[0m\u001b[0m\n",
      "\u001b[0;32m/glade/work/zephyrs/miniconda3/envs/krill/lib/python3.7/site-packages/dask/threaded.py\u001b[0m in \u001b[0;36mget\u001b[0;34m(dsk, result, cache, num_workers, pool, **kwargs)\u001b[0m\n\u001b[1;32m     79\u001b[0m         \u001b[0mget_id\u001b[0m\u001b[0;34m=\u001b[0m\u001b[0m_thread_get_id\u001b[0m\u001b[0;34m,\u001b[0m\u001b[0;34m\u001b[0m\u001b[0;34m\u001b[0m\u001b[0m\n\u001b[1;32m     80\u001b[0m         \u001b[0mpack_exception\u001b[0m\u001b[0;34m=\u001b[0m\u001b[0mpack_exception\u001b[0m\u001b[0;34m,\u001b[0m\u001b[0;34m\u001b[0m\u001b[0;34m\u001b[0m\u001b[0m\n\u001b[0;32m---> 81\u001b[0;31m         \u001b[0;34m**\u001b[0m\u001b[0mkwargs\u001b[0m\u001b[0;34m\u001b[0m\u001b[0;34m\u001b[0m\u001b[0m\n\u001b[0m\u001b[1;32m     82\u001b[0m     )\n\u001b[1;32m     83\u001b[0m \u001b[0;34m\u001b[0m\u001b[0m\n",
      "\u001b[0;32m/glade/work/zephyrs/miniconda3/envs/krill/lib/python3.7/site-packages/dask/local.py\u001b[0m in \u001b[0;36mget_async\u001b[0;34m(apply_async, num_workers, dsk, result, cache, get_id, rerun_exceptions_locally, pack_exception, raise_exception, callbacks, dumps, loads, **kwargs)\u001b[0m\n\u001b[1;32m    473\u001b[0m             \u001b[0;31m# Main loop, wait on tasks to finish, insert new ones\u001b[0m\u001b[0;34m\u001b[0m\u001b[0;34m\u001b[0m\u001b[0;34m\u001b[0m\u001b[0m\n\u001b[1;32m    474\u001b[0m             \u001b[0;32mwhile\u001b[0m \u001b[0mstate\u001b[0m\u001b[0;34m[\u001b[0m\u001b[0;34m\"waiting\"\u001b[0m\u001b[0;34m]\u001b[0m \u001b[0;32mor\u001b[0m \u001b[0mstate\u001b[0m\u001b[0;34m[\u001b[0m\u001b[0;34m\"ready\"\u001b[0m\u001b[0;34m]\u001b[0m \u001b[0;32mor\u001b[0m \u001b[0mstate\u001b[0m\u001b[0;34m[\u001b[0m\u001b[0;34m\"running\"\u001b[0m\u001b[0;34m]\u001b[0m\u001b[0;34m:\u001b[0m\u001b[0;34m\u001b[0m\u001b[0;34m\u001b[0m\u001b[0m\n\u001b[0;32m--> 475\u001b[0;31m                 \u001b[0mkey\u001b[0m\u001b[0;34m,\u001b[0m \u001b[0mres_info\u001b[0m\u001b[0;34m,\u001b[0m \u001b[0mfailed\u001b[0m \u001b[0;34m=\u001b[0m \u001b[0mqueue_get\u001b[0m\u001b[0;34m(\u001b[0m\u001b[0mqueue\u001b[0m\u001b[0;34m)\u001b[0m\u001b[0;34m\u001b[0m\u001b[0;34m\u001b[0m\u001b[0m\n\u001b[0m\u001b[1;32m    476\u001b[0m                 \u001b[0;32mif\u001b[0m \u001b[0mfailed\u001b[0m\u001b[0;34m:\u001b[0m\u001b[0;34m\u001b[0m\u001b[0;34m\u001b[0m\u001b[0m\n\u001b[1;32m    477\u001b[0m                     \u001b[0mexc\u001b[0m\u001b[0;34m,\u001b[0m \u001b[0mtb\u001b[0m \u001b[0;34m=\u001b[0m \u001b[0mloads\u001b[0m\u001b[0;34m(\u001b[0m\u001b[0mres_info\u001b[0m\u001b[0;34m)\u001b[0m\u001b[0;34m\u001b[0m\u001b[0;34m\u001b[0m\u001b[0m\n",
      "\u001b[0;32m/glade/work/zephyrs/miniconda3/envs/krill/lib/python3.7/site-packages/dask/local.py\u001b[0m in \u001b[0;36mqueue_get\u001b[0;34m(q)\u001b[0m\n\u001b[1;32m    131\u001b[0m \u001b[0;34m\u001b[0m\u001b[0m\n\u001b[1;32m    132\u001b[0m     \u001b[0;32mdef\u001b[0m \u001b[0mqueue_get\u001b[0m\u001b[0;34m(\u001b[0m\u001b[0mq\u001b[0m\u001b[0;34m)\u001b[0m\u001b[0;34m:\u001b[0m\u001b[0;34m\u001b[0m\u001b[0;34m\u001b[0m\u001b[0m\n\u001b[0;32m--> 133\u001b[0;31m         \u001b[0;32mreturn\u001b[0m \u001b[0mq\u001b[0m\u001b[0;34m.\u001b[0m\u001b[0mget\u001b[0m\u001b[0;34m(\u001b[0m\u001b[0;34m)\u001b[0m\u001b[0;34m\u001b[0m\u001b[0;34m\u001b[0m\u001b[0m\n\u001b[0m\u001b[1;32m    134\u001b[0m \u001b[0;34m\u001b[0m\u001b[0m\n\u001b[1;32m    135\u001b[0m \u001b[0;34m\u001b[0m\u001b[0m\n",
      "\u001b[0;32m/glade/work/zephyrs/miniconda3/envs/krill/lib/python3.7/queue.py\u001b[0m in \u001b[0;36mget\u001b[0;34m(self, block, timeout)\u001b[0m\n\u001b[1;32m    168\u001b[0m             \u001b[0;32melif\u001b[0m \u001b[0mtimeout\u001b[0m \u001b[0;32mis\u001b[0m \u001b[0;32mNone\u001b[0m\u001b[0;34m:\u001b[0m\u001b[0;34m\u001b[0m\u001b[0;34m\u001b[0m\u001b[0m\n\u001b[1;32m    169\u001b[0m                 \u001b[0;32mwhile\u001b[0m \u001b[0;32mnot\u001b[0m \u001b[0mself\u001b[0m\u001b[0;34m.\u001b[0m\u001b[0m_qsize\u001b[0m\u001b[0;34m(\u001b[0m\u001b[0;34m)\u001b[0m\u001b[0;34m:\u001b[0m\u001b[0;34m\u001b[0m\u001b[0;34m\u001b[0m\u001b[0m\n\u001b[0;32m--> 170\u001b[0;31m                     \u001b[0mself\u001b[0m\u001b[0;34m.\u001b[0m\u001b[0mnot_empty\u001b[0m\u001b[0;34m.\u001b[0m\u001b[0mwait\u001b[0m\u001b[0;34m(\u001b[0m\u001b[0;34m)\u001b[0m\u001b[0;34m\u001b[0m\u001b[0;34m\u001b[0m\u001b[0m\n\u001b[0m\u001b[1;32m    171\u001b[0m             \u001b[0;32melif\u001b[0m \u001b[0mtimeout\u001b[0m \u001b[0;34m<\u001b[0m \u001b[0;36m0\u001b[0m\u001b[0;34m:\u001b[0m\u001b[0;34m\u001b[0m\u001b[0;34m\u001b[0m\u001b[0m\n\u001b[1;32m    172\u001b[0m                 \u001b[0;32mraise\u001b[0m \u001b[0mValueError\u001b[0m\u001b[0;34m(\u001b[0m\u001b[0;34m\"'timeout' must be a non-negative number\"\u001b[0m\u001b[0;34m)\u001b[0m\u001b[0;34m\u001b[0m\u001b[0;34m\u001b[0m\u001b[0m\n",
      "\u001b[0;32m/glade/work/zephyrs/miniconda3/envs/krill/lib/python3.7/threading.py\u001b[0m in \u001b[0;36mwait\u001b[0;34m(self, timeout)\u001b[0m\n\u001b[1;32m    294\u001b[0m         \u001b[0;32mtry\u001b[0m\u001b[0;34m:\u001b[0m    \u001b[0;31m# restore state no matter what (e.g., KeyboardInterrupt)\u001b[0m\u001b[0;34m\u001b[0m\u001b[0;34m\u001b[0m\u001b[0m\n\u001b[1;32m    295\u001b[0m             \u001b[0;32mif\u001b[0m \u001b[0mtimeout\u001b[0m \u001b[0;32mis\u001b[0m \u001b[0;32mNone\u001b[0m\u001b[0;34m:\u001b[0m\u001b[0;34m\u001b[0m\u001b[0;34m\u001b[0m\u001b[0m\n\u001b[0;32m--> 296\u001b[0;31m                 \u001b[0mwaiter\u001b[0m\u001b[0;34m.\u001b[0m\u001b[0macquire\u001b[0m\u001b[0;34m(\u001b[0m\u001b[0;34m)\u001b[0m\u001b[0;34m\u001b[0m\u001b[0;34m\u001b[0m\u001b[0m\n\u001b[0m\u001b[1;32m    297\u001b[0m                 \u001b[0mgotit\u001b[0m \u001b[0;34m=\u001b[0m \u001b[0;32mTrue\u001b[0m\u001b[0;34m\u001b[0m\u001b[0;34m\u001b[0m\u001b[0m\n\u001b[1;32m    298\u001b[0m             \u001b[0;32melse\u001b[0m\u001b[0;34m:\u001b[0m\u001b[0;34m\u001b[0m\u001b[0;34m\u001b[0m\u001b[0m\n",
      "\u001b[0;31mKeyboardInterrupt\u001b[0m: "
     ]
    }
   ],
   "source": [
    "VGH.SST.isel(time=0).plot(vmin=-2, vmax=10)"
   ]
  },
  {
   "cell_type": "code",
   "execution_count": null,
   "metadata": {},
   "outputs": [],
   "source": []
  },
  {
   "cell_type": "code",
   "execution_count": null,
   "metadata": {},
   "outputs": [],
   "source": []
  },
  {
   "cell_type": "code",
   "execution_count": null,
   "metadata": {},
   "outputs": [],
   "source": [
    "# Step 1: xarray.where(cond, x, y)\n",
    "# cond (scalar, array, Variable, DataArray or Dataset with boolean dtype) – When True, return values from x, otherwise returns values from y.\n",
    "# y (x,) – Values from which to choose. All dimension coordinates on these objects must be aligned with each other and with cond.\n",
    "\n",
    "vhab = SST.where()"
   ]
  },
  {
   "cell_type": "code",
   "execution_count": null,
   "metadata": {},
   "outputs": [],
   "source": [
    "## from other notebooks / convos\n",
    "\n",
    "southernocean = ds.TAREA.where((ds.TLAT <= -45) & (ds.KMT > 0))\n",
    "\n",
    "conditions = (ds.sst >= -1) & (ds.sst <= 5) & (ds.chl >= 0.5)\n",
    "ds = ds.where(conditions).fillna(0).where(southernocean=True) #set 'ocean' as a mask earlier\n"
   ]
  },
  {
   "cell_type": "code",
   "execution_count": null,
   "metadata": {},
   "outputs": [],
   "source": [
    "# from matt explaining the krill function:\n",
    "\n",
    "chl_term = ((d * ds.chl) / (e + ds.chl)) # time, lat, lon\n",
    "sst_term =  (f * ds.sst) + (g * ds.sst**2) # time, lat, lon\n",
    "\n",
    "for i, L_i in enumerate(my_array_of_L_i_values):\n",
    "    len_term = a + (b * L_i) + (c * L_i**2)  \n",
    "    kgp[i, ...] = len_term + chl_term + sst_term"
   ]
  }
 ],
 "metadata": {
  "kernelspec": {
   "display_name": "Python [conda env:miniconda3-krill]",
   "language": "python",
   "name": "conda-env-miniconda3-krill-py"
  },
  "language_info": {
   "codemirror_mode": {
    "name": "ipython",
    "version": 3
   },
   "file_extension": ".py",
   "mimetype": "text/x-python",
   "name": "python",
   "nbconvert_exporter": "python",
   "pygments_lexer": "ipython3",
   "version": "3.7.6"
  }
 },
 "nbformat": 4,
 "nbformat_minor": 4
}
